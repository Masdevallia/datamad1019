{
 "cells": [
  {
   "cell_type": "markdown",
   "metadata": {},
   "source": [
    "# Before your start:\n",
    "- Read the README.md file\n",
    "- Comment as much as you can and use the resources (README.md file)\n",
    "- Happy learning!"
   ]
  },
  {
   "cell_type": "code",
   "execution_count": 1,
   "metadata": {},
   "outputs": [],
   "source": [
    "# Run this code:\n",
    "%matplotlib inline\n",
    "import matplotlib.pyplot as plt"
   ]
  },
  {
   "cell_type": "code",
   "execution_count": 2,
   "metadata": {},
   "outputs": [],
   "source": [
    "# Import numpy and pandas:\n",
    "import numpy as np\n",
    "import pandas as pd"
   ]
  },
  {
   "cell_type": "markdown",
   "metadata": {},
   "source": [
    "# Challenge 1 - Reading and Standardizing the Data\n",
    "\n",
    "In this challenge we will work with image data and reduce the dimensions of the data to create a 2 dimensional plot. While we have not worked much with image data before, it can be represented as a numpy array where each pixel is assigned a numeric value. In this lesson, we will look at a dataset of cats and a dataset of dogs and see whether reducing them to two dimensions allows us to see if the data is separable. We will start by loading and processing the data. Run the cell below to load the two csv files and convert them into numpy arrays."
   ]
  },
  {
   "cell_type": "code",
   "execution_count": 3,
   "metadata": {},
   "outputs": [],
   "source": [
    "# Run this code\n",
    "cats = np.array(pd.read_csv(\"https://raw.githubusercontent.com/bioramble/pca/master/cat.csv\", header=None))\n",
    "dogs = np.array(pd.read_csv(\"https://raw.githubusercontent.com/bioramble/pca/master/dog.csv\", header=None))"
   ]
  },
  {
   "cell_type": "markdown",
   "metadata": {},
   "source": [
    "Next, we'll examine the shape of both the cats and the dogs arrays. Print out both shapes below."
   ]
  },
  {
   "cell_type": "code",
   "execution_count": 4,
   "metadata": {},
   "outputs": [
    {
     "name": "stdout",
     "output_type": "stream",
     "text": [
      "(4096, 80)\n",
      "(4096, 80)\n"
     ]
    }
   ],
   "source": [
    "# Your code here:\n",
    "print(cats.shape)\n",
    "print(dogs.shape)"
   ]
  },
  {
   "cell_type": "markdown",
   "metadata": {},
   "source": [
    "What this means is that both arrays contain 80 images each (the number of columns). Each image is comprised of 64x64 pixels (so a total of 4096 pixels per image). The images have been flattened such that all 4096 are in a single row.\n",
    "\n",
    "Print out column 0 of the cats array to see what the pixels values look like."
   ]
  },
  {
   "cell_type": "code",
   "execution_count": 5,
   "metadata": {},
   "outputs": [
    {
     "name": "stdout",
     "output_type": "stream",
     "text": [
      "[64 64 64 ... 64 64 61]\n",
      "4096\n"
     ]
    }
   ],
   "source": [
    "# Your code here:\n",
    "print(cats[:,0])\n",
    "print(len(cats[:,0])) # 4096 pixels (64x64) per cat"
   ]
  },
  {
   "cell_type": "markdown",
   "metadata": {},
   "source": [
    "Using `matplotlib` we can plot a single cat or a single dog. We do this by reshaping the vector back to a 64x64 image and then using the `imshow` function.\n",
    "\n",
    "Run the code below to look at the first dog and the first cat."
   ]
  },
  {
   "cell_type": "code",
   "execution_count": 6,
   "metadata": {},
   "outputs": [
    {
     "data": {
      "image/png": "[encoded data removed]",
      "text/plain": [
       "<Figure size 432x288 with 1 Axes>"
      ]
     },
     "metadata": {
      "needs_background": "light"
     },
     "output_type": "display_data"
    }
   ],
   "source": [
    "# Run this code:\n",
    "fig, ax = plt.subplots()\n",
    "ax.imshow(cats[:,0].reshape(64, 64).T, cmap=plt.cm.bone, interpolation='nearest');"
   ]
  },
  {
   "cell_type": "code",
   "execution_count": 7,
   "metadata": {},
   "outputs": [
    {
     "data": {
      "image/png": "[encoded data removed]",
      "text/plain": [
       "<Figure size 432x288 with 1 Axes>"
      ]
     },
     "metadata": {
      "needs_background": "light"
     },
     "output_type": "display_data"
    }
   ],
   "source": [
    "# Run this code:\n",
    "fig, ax = plt.subplots()\n",
    "ax.imshow(dogs[:,0].reshape(64, 64).T, cmap=plt.cm.bone, interpolation='nearest');"
   ]
  },
  {
   "cell_type": "markdown",
   "metadata": {},
   "source": [
    "Next, we would like to create a standardization function. This function will find the mean and standard deviation of each image. We subtract the mean from each pixel and divide each pixel by the standard deviation. Write the function below.\n",
    "\n",
    "Hint: To find the mean and standard deviation of each image, use `numpy`'s version of mean and stadnard deviation and use `axis=0`."
   ]
  },
  {
   "cell_type": "code",
   "execution_count": 8,
   "metadata": {},
   "outputs": [],
   "source": [
    "def standardize(x):\n",
    "    '''\n",
    "    This function takes as input a numpy array and returns a stadardized numpy array of the same dimensions.\n",
    "    Sample input: np.array([[1,2,3],[4,5,6]])\n",
    "    Sample output: np.array([[-1,-1,-1],[1,1,1]])\n",
    "    '''\n",
    "    return (x-np.mean(x, axis=0))/np.std(x, axis=0)\n",
    "# standardize(np.array([[1,2,3],[4,5,6]]))\n",
    "# array([[-1., -1., -1.],[ 1.,  1.,  1.]])"
   ]
  },
  {
   "cell_type": "markdown",
   "metadata": {},
   "source": [
    "Now, use the `np.concatenate` function to combine the cats and dogs arrays. Use `axis=1` to combine the two correctly. Make sure to put dogs first."
   ]
  },
  {
   "cell_type": "code",
   "execution_count": 9,
   "metadata": {},
   "outputs": [],
   "source": [
    "# Your code here:\n",
    "DogsCats = np.concatenate((dogs,cats), axis=1)"
   ]
  },
  {
   "cell_type": "markdown",
   "metadata": {},
   "source": [
    "Standardize the concatenated array below."
   ]
  },
  {
   "cell_type": "code",
   "execution_count": 10,
   "metadata": {},
   "outputs": [],
   "source": [
    "# Your code here:\n",
    "DogsCats = DogsCats.T # Para estandarizar los pixeles, no las imagenes.\n",
    "standardizedDogsCats = standardize(DogsCats)"
   ]
  },
  {
   "cell_type": "code",
   "execution_count": 11,
   "metadata": {},
   "outputs": [
    {
     "data": {
      "text/html": [
       "<div>\n",
       "<style scoped>\n",
       "    .dataframe tbody tr th:only-of-type {\n",
       "        vertical-align: middle;\n",
       "    }\n",
       "\n",
       "    .dataframe tbody tr th {\n",
       "        vertical-align: top;\n",
       "    }\n",
       "\n",
       "    .dataframe thead th {\n",
       "        text-align: right;\n",
       "    }\n",
       "</style>\n",
       "<table border=\"1\" class=\"dataframe\">\n",
       "  <thead>\n",
       "    <tr style=\"text-align: right;\">\n",
       "      <th></th>\n",
       "      <th>0</th>\n",
       "      <th>1</th>\n",
       "      <th>2</th>\n",
       "      <th>3</th>\n",
       "      <th>4</th>\n",
       "      <th>5</th>\n",
       "      <th>6</th>\n",
       "      <th>7</th>\n",
       "      <th>8</th>\n",
       "      <th>9</th>\n",
       "      <th>...</th>\n",
       "      <th>4086</th>\n",
       "      <th>4087</th>\n",
       "      <th>4088</th>\n",
       "      <th>4089</th>\n",
       "      <th>4090</th>\n",
       "      <th>4091</th>\n",
       "      <th>4092</th>\n",
       "      <th>4093</th>\n",
       "      <th>4094</th>\n",
       "      <th>4095</th>\n",
       "    </tr>\n",
       "  </thead>\n",
       "  <tbody>\n",
       "    <tr>\n",
       "      <th>0</th>\n",
       "      <td>1.627294</td>\n",
       "      <td>1.731401</td>\n",
       "      <td>1.722757</td>\n",
       "      <td>1.658928</td>\n",
       "      <td>1.757524</td>\n",
       "      <td>1.646670</td>\n",
       "      <td>1.297930</td>\n",
       "      <td>1.272640</td>\n",
       "      <td>1.111773</td>\n",
       "      <td>1.122840</td>\n",
       "      <td>...</td>\n",
       "      <td>0.384977</td>\n",
       "      <td>0.588697</td>\n",
       "      <td>0.087348</td>\n",
       "      <td>-0.284214</td>\n",
       "      <td>-0.857752</td>\n",
       "      <td>-1.097795</td>\n",
       "      <td>-0.713632</td>\n",
       "      <td>-0.135879</td>\n",
       "      <td>-0.128141</td>\n",
       "      <td>-0.126023</td>\n",
       "    </tr>\n",
       "    <tr>\n",
       "      <th>1</th>\n",
       "      <td>0.381583</td>\n",
       "      <td>0.334828</td>\n",
       "      <td>0.065098</td>\n",
       "      <td>-0.044237</td>\n",
       "      <td>-0.144406</td>\n",
       "      <td>0.952460</td>\n",
       "      <td>1.482222</td>\n",
       "      <td>1.427476</td>\n",
       "      <td>1.425426</td>\n",
       "      <td>1.850243</td>\n",
       "      <td>...</td>\n",
       "      <td>0.236588</td>\n",
       "      <td>0.020287</td>\n",
       "      <td>-0.171744</td>\n",
       "      <td>-0.164189</td>\n",
       "      <td>0.053753</td>\n",
       "      <td>0.245302</td>\n",
       "      <td>-0.064373</td>\n",
       "      <td>-0.077710</td>\n",
       "      <td>0.222580</td>\n",
       "      <td>0.222128</td>\n",
       "    </tr>\n",
       "    <tr>\n",
       "      <th>2</th>\n",
       "      <td>0.328004</td>\n",
       "      <td>0.502417</td>\n",
       "      <td>0.382816</td>\n",
       "      <td>0.514178</td>\n",
       "      <td>1.348961</td>\n",
       "      <td>0.894609</td>\n",
       "      <td>0.489880</td>\n",
       "      <td>0.470312</td>\n",
       "      <td>0.327642</td>\n",
       "      <td>0.338385</td>\n",
       "      <td>...</td>\n",
       "      <td>-0.282774</td>\n",
       "      <td>-0.069462</td>\n",
       "      <td>-0.278428</td>\n",
       "      <td>-0.044165</td>\n",
       "      <td>-0.034457</td>\n",
       "      <td>-0.053164</td>\n",
       "      <td>-0.064373</td>\n",
       "      <td>0.082254</td>\n",
       "      <td>-0.069688</td>\n",
       "      <td>-0.067998</td>\n",
       "    </tr>\n",
       "  </tbody>\n",
       "</table>\n",
       "<p>3 rows × 4096 columns</p>\n",
       "</div>"
      ],
      "text/plain": [
       "       0         1         2         3         4         5         6     \\\n",
       "0  1.627294  1.731401  1.722757  1.658928  1.757524  1.646670  1.297930   \n",
       "1  0.381583  0.334828  0.065098 -0.044237 -0.144406  0.952460  1.482222   \n",
       "2  0.328004  0.502417  0.382816  0.514178  1.348961  0.894609  0.489880   \n",
       "\n",
       "       7         8         9     ...      4086      4087      4088      4089  \\\n",
       "0  1.272640  1.111773  1.122840  ...  0.384977  0.588697  0.087348 -0.284214   \n",
       "1  1.427476  1.425426  1.850243  ...  0.236588  0.020287 -0.171744 -0.164189   \n",
       "2  0.470312  0.327642  0.338385  ... -0.282774 -0.069462 -0.278428 -0.044165   \n",
       "\n",
       "       4090      4091      4092      4093      4094      4095  \n",
       "0 -0.857752 -1.097795 -0.713632 -0.135879 -0.128141 -0.126023  \n",
       "1  0.053753  0.245302 -0.064373 -0.077710  0.222580  0.222128  \n",
       "2 -0.034457 -0.053164 -0.064373  0.082254 -0.069688 -0.067998  \n",
       "\n",
       "[3 rows x 4096 columns]"
      ]
     },
     "execution_count": 11,
     "metadata": {},
     "output_type": "execute_result"
    }
   ],
   "source": [
    "pd.DataFrame(standardizedDogsCats).head(3) # Features (pixels) en las columnas."
   ]
  },
  {
   "cell_type": "code",
   "execution_count": 12,
   "metadata": {},
   "outputs": [
    {
     "name": "stdout",
     "output_type": "stream",
     "text": [
      "0\n",
      "1\n"
     ]
    }
   ],
   "source": [
    "# Estandarización: Cada feature debería tener mean=0 y std=1.\n",
    "print(int(standardizedDogsCats[:,0].mean())) # 0\n",
    "print(int(standardizedDogsCats[:,0].std())) # 1"
   ]
  },
  {
   "cell_type": "code",
   "execution_count": 13,
   "metadata": {},
   "outputs": [
    {
     "data": {
      "text/html": [
       "<div>\n",
       "<style scoped>\n",
       "    .dataframe tbody tr th:only-of-type {\n",
       "        vertical-align: middle;\n",
       "    }\n",
       "\n",
       "    .dataframe tbody tr th {\n",
       "        vertical-align: top;\n",
       "    }\n",
       "\n",
       "    .dataframe thead th {\n",
       "        text-align: right;\n",
       "    }\n",
       "</style>\n",
       "<table border=\"1\" class=\"dataframe\">\n",
       "  <thead>\n",
       "    <tr style=\"text-align: right;\">\n",
       "      <th></th>\n",
       "      <th>0</th>\n",
       "      <th>1</th>\n",
       "      <th>2</th>\n",
       "      <th>3</th>\n",
       "      <th>4</th>\n",
       "      <th>5</th>\n",
       "      <th>6</th>\n",
       "      <th>7</th>\n",
       "      <th>8</th>\n",
       "      <th>9</th>\n",
       "      <th>...</th>\n",
       "      <th>150</th>\n",
       "      <th>151</th>\n",
       "      <th>152</th>\n",
       "      <th>153</th>\n",
       "      <th>154</th>\n",
       "      <th>155</th>\n",
       "      <th>156</th>\n",
       "      <th>157</th>\n",
       "      <th>158</th>\n",
       "      <th>159</th>\n",
       "    </tr>\n",
       "  </thead>\n",
       "  <tbody>\n",
       "    <tr>\n",
       "      <th>0</th>\n",
       "      <td>1.627294</td>\n",
       "      <td>0.381583</td>\n",
       "      <td>0.328004</td>\n",
       "      <td>0.314609</td>\n",
       "      <td>0.448557</td>\n",
       "      <td>-1.145418</td>\n",
       "      <td>0.863794</td>\n",
       "      <td>-0.556049</td>\n",
       "      <td>-0.194391</td>\n",
       "      <td>1.091505</td>\n",
       "      <td>...</td>\n",
       "      <td>0.261030</td>\n",
       "      <td>-1.132024</td>\n",
       "      <td>-0.207786</td>\n",
       "      <td>0.046714</td>\n",
       "      <td>0.957557</td>\n",
       "      <td>-0.448891</td>\n",
       "      <td>-0.998076</td>\n",
       "      <td>-0.569444</td>\n",
       "      <td>1.613900</td>\n",
       "      <td>-0.020260</td>\n",
       "    </tr>\n",
       "    <tr>\n",
       "      <th>1</th>\n",
       "      <td>1.731401</td>\n",
       "      <td>0.334828</td>\n",
       "      <td>0.502417</td>\n",
       "      <td>0.348794</td>\n",
       "      <td>0.376726</td>\n",
       "      <td>-1.285196</td>\n",
       "      <td>0.935355</td>\n",
       "      <td>-0.656738</td>\n",
       "      <td>-0.167938</td>\n",
       "      <td>1.172772</td>\n",
       "      <td>...</td>\n",
       "      <td>0.251034</td>\n",
       "      <td>-0.880190</td>\n",
       "      <td>-0.279664</td>\n",
       "      <td>-0.014315</td>\n",
       "      <td>1.102943</td>\n",
       "      <td>-0.405355</td>\n",
       "      <td>-0.950019</td>\n",
       "      <td>-0.698636</td>\n",
       "      <td>1.731401</td>\n",
       "      <td>0.097411</td>\n",
       "    </tr>\n",
       "    <tr>\n",
       "      <th>2</th>\n",
       "      <td>1.722757</td>\n",
       "      <td>0.065098</td>\n",
       "      <td>0.382816</td>\n",
       "      <td>0.355188</td>\n",
       "      <td>0.382816</td>\n",
       "      <td>-1.371540</td>\n",
       "      <td>1.073507</td>\n",
       "      <td>-1.053822</td>\n",
       "      <td>-0.197365</td>\n",
       "      <td>1.170204</td>\n",
       "      <td>...</td>\n",
       "      <td>-0.307876</td>\n",
       "      <td>-1.040008</td>\n",
       "      <td>-0.321689</td>\n",
       "      <td>-0.584152</td>\n",
       "      <td>0.880113</td>\n",
       "      <td>-0.363131</td>\n",
       "      <td>-0.984753</td>\n",
       "      <td>-0.501269</td>\n",
       "      <td>1.736570</td>\n",
       "      <td>0.092725</td>\n",
       "    </tr>\n",
       "  </tbody>\n",
       "</table>\n",
       "<p>3 rows × 160 columns</p>\n",
       "</div>"
      ],
      "text/plain": [
       "        0         1         2         3         4         5         6    \\\n",
       "0  1.627294  0.381583  0.328004  0.314609  0.448557 -1.145418  0.863794   \n",
       "1  1.731401  0.334828  0.502417  0.348794  0.376726 -1.285196  0.935355   \n",
       "2  1.722757  0.065098  0.382816  0.355188  0.382816 -1.371540  1.073507   \n",
       "\n",
       "        7         8         9    ...       150       151       152       153  \\\n",
       "0 -0.556049 -0.194391  1.091505  ...  0.261030 -1.132024 -0.207786  0.046714   \n",
       "1 -0.656738 -0.167938  1.172772  ...  0.251034 -0.880190 -0.279664 -0.014315   \n",
       "2 -1.053822 -0.197365  1.170204  ... -0.307876 -1.040008 -0.321689 -0.584152   \n",
       "\n",
       "        154       155       156       157       158       159  \n",
       "0  0.957557 -0.448891 -0.998076 -0.569444  1.613900 -0.020260  \n",
       "1  1.102943 -0.405355 -0.950019 -0.698636  1.731401  0.097411  \n",
       "2  0.880113 -0.363131 -0.984753 -0.501269  1.736570  0.092725  \n",
       "\n",
       "[3 rows x 160 columns]"
      ]
     },
     "execution_count": 13,
     "metadata": {},
     "output_type": "execute_result"
    }
   ],
   "source": [
    "# La vuelvo a girar para que siga funcionando lo que ya tenía bien abajo sin tener que cambiarlo... :P\n",
    "standardizedDogsCats = standardizedDogsCats.T\n",
    "pd.DataFrame(standardizedDogsCats).head(3)"
   ]
  },
  {
   "cell_type": "markdown",
   "metadata": {},
   "source": [
    "# Challenge 2 - Using PCA\n",
    "\n",
    "Now that we have created a standardized matrix of cats and dogs, we'll find the two most important components in the data.\n",
    "\n",
    "Load the `PCA` function from `statsmodels` (read about this function [here](https://www.statsmodels.org/dev/generated/statsmodels.multivariate.pca.PCA.html)) and apply the function to our standarized data. Create a PCA model with two components."
   ]
  },
  {
   "cell_type": "code",
   "execution_count": 14,
   "metadata": {},
   "outputs": [],
   "source": [
    "# Con sklearn:\n",
    "from sklearn.decomposition import PCA\n",
    "pca = PCA(2)\n",
    "TstandardizedDogsCats = np.transpose(standardizedDogsCats)\n",
    "reducedDF = pd.DataFrame(pca.fit_transform(TstandardizedDogsCats))"
   ]
  },
  {
   "cell_type": "code",
   "execution_count": 15,
   "metadata": {},
   "outputs": [],
   "source": [
    "# Con statsmodels:\n",
    "from statsmodels.multivariate.pca import PCA\n",
    "pca = PCA(standardizedDogsCats,2)"
   ]
  },
  {
   "cell_type": "markdown",
   "metadata": {},
   "source": [
    "Use `numpy` to find to transpose the standardized pet array. This will help us compute the projection."
   ]
  },
  {
   "cell_type": "code",
   "execution_count": 16,
   "metadata": {},
   "outputs": [],
   "source": [
    "# Your code here:\n",
    "TstandardizedDogsCats = np.transpose(standardizedDogsCats)"
   ]
  },
  {
   "cell_type": "markdown",
   "metadata": {},
   "source": [
    "Find the dot product of the transposed standardized pet matrix and the `factors` of the `PCA` model found above. This will be the projection onto 2 dimensions. This means that each cat and dog image will now only have two columns instead of 4096."
   ]
  },
  {
   "cell_type": "code",
   "execution_count": 17,
   "metadata": {},
   "outputs": [],
   "source": [
    "# Your code here:\n",
    "reduced = np.dot(TstandardizedDogsCats,pca.factors)"
   ]
  },
  {
   "cell_type": "code",
   "execution_count": 18,
   "metadata": {},
   "outputs": [
    {
     "data": {
      "text/html": [
       "<div>\n",
       "<style scoped>\n",
       "    .dataframe tbody tr th:only-of-type {\n",
       "        vertical-align: middle;\n",
       "    }\n",
       "\n",
       "    .dataframe tbody tr th {\n",
       "        vertical-align: top;\n",
       "    }\n",
       "\n",
       "    .dataframe thead th {\n",
       "        text-align: right;\n",
       "    }\n",
       "</style>\n",
       "<table border=\"1\" class=\"dataframe\">\n",
       "  <thead>\n",
       "    <tr style=\"text-align: right;\">\n",
       "      <th></th>\n",
       "      <th>0</th>\n",
       "      <th>1</th>\n",
       "    </tr>\n",
       "  </thead>\n",
       "  <tbody>\n",
       "    <tr>\n",
       "      <th>0</th>\n",
       "      <td>-37.702227</td>\n",
       "      <td>19.856922</td>\n",
       "    </tr>\n",
       "    <tr>\n",
       "      <th>1</th>\n",
       "      <td>-34.088222</td>\n",
       "      <td>-13.547016</td>\n",
       "    </tr>\n",
       "    <tr>\n",
       "      <th>2</th>\n",
       "      <td>5.925783</td>\n",
       "      <td>-2.618325</td>\n",
       "    </tr>\n",
       "    <tr>\n",
       "      <th>3</th>\n",
       "      <td>-2.195240</td>\n",
       "      <td>-17.060992</td>\n",
       "    </tr>\n",
       "    <tr>\n",
       "      <th>4</th>\n",
       "      <td>-23.611651</td>\n",
       "      <td>8.751613</td>\n",
       "    </tr>\n",
       "  </tbody>\n",
       "</table>\n",
       "</div>"
      ],
      "text/plain": [
       "           0          1\n",
       "0 -37.702227  19.856922\n",
       "1 -34.088222 -13.547016\n",
       "2   5.925783  -2.618325\n",
       "3  -2.195240 -17.060992\n",
       "4 -23.611651   8.751613"
      ]
     },
     "metadata": {},
     "output_type": "display_data"
    },
    {
     "data": {
      "text/html": [
       "<div>\n",
       "<style scoped>\n",
       "    .dataframe tbody tr th:only-of-type {\n",
       "        vertical-align: middle;\n",
       "    }\n",
       "\n",
       "    .dataframe tbody tr th {\n",
       "        vertical-align: top;\n",
       "    }\n",
       "\n",
       "    .dataframe thead th {\n",
       "        text-align: right;\n",
       "    }\n",
       "</style>\n",
       "<table border=\"1\" class=\"dataframe\">\n",
       "  <thead>\n",
       "    <tr style=\"text-align: right;\">\n",
       "      <th></th>\n",
       "      <th>0</th>\n",
       "      <th>1</th>\n",
       "    </tr>\n",
       "  </thead>\n",
       "  <tbody>\n",
       "    <tr>\n",
       "      <th>0</th>\n",
       "      <td>45.544981</td>\n",
       "      <td>-25.238939</td>\n",
       "    </tr>\n",
       "    <tr>\n",
       "      <th>1</th>\n",
       "      <td>-24.832859</td>\n",
       "      <td>-41.571686</td>\n",
       "    </tr>\n",
       "    <tr>\n",
       "      <th>2</th>\n",
       "      <td>27.469245</td>\n",
       "      <td>11.958186</td>\n",
       "    </tr>\n",
       "    <tr>\n",
       "      <th>3</th>\n",
       "      <td>-22.599855</td>\n",
       "      <td>-9.839361</td>\n",
       "    </tr>\n",
       "    <tr>\n",
       "      <th>4</th>\n",
       "      <td>19.360356</td>\n",
       "      <td>-18.812026</td>\n",
       "    </tr>\n",
       "  </tbody>\n",
       "</table>\n",
       "</div>"
      ],
      "text/plain": [
       "           0          1\n",
       "0  45.544981 -25.238939\n",
       "1 -24.832859 -41.571686\n",
       "2  27.469245  11.958186\n",
       "3 -22.599855  -9.839361\n",
       "4  19.360356 -18.812026"
      ]
     },
     "metadata": {},
     "output_type": "display_data"
    }
   ],
   "source": [
    "display(pd.DataFrame(reduced).head())\n",
    "display(reducedDF.head())\n",
    "# No sacan los mismos componentes principales... Investigar cómo se hace la PCA en cada librería (sklearn y\n",
    "# statsmodels)\n",
    "\n",
    "# statsmodels.multivariate.pca.PCA \n",
    "# https://www.statsmodels.org/dev/generated/statsmodels.multivariate.pca.PCA.html\n",
    "# The default options perform principal component analysis on the demeaned, unit variance version of data.\n",
    "# Setting standardize to False will instead only demean, and setting both standardized and demean to False\n",
    "# will not alter the data.\n",
    "\n",
    "# sklearn.decomposition.PCA\n",
    "# https://scikit-learn.org/stable/modules/generated/sklearn.decomposition.PCA.html"
   ]
  },
  {
   "cell_type": "markdown",
   "metadata": {},
   "source": [
    "# Challenge 3 - Plotting the Data\n",
    "\n",
    "Now that we have reduced our cats and dogs arrays, we can easily plot the data in a way that the human eye can understand. We can look at this plot to see whether there are differences between the cat and dog images. \n",
    "\n",
    "In the cell below, turn the two dimensional projection into a pandas dataframe and name the columns `pc1`, and `pc2` respectively."
   ]
  },
  {
   "cell_type": "code",
   "execution_count": 19,
   "metadata": {},
   "outputs": [
    {
     "data": {
      "text/html": [
       "<div>\n",
       "<style scoped>\n",
       "    .dataframe tbody tr th:only-of-type {\n",
       "        vertical-align: middle;\n",
       "    }\n",
       "\n",
       "    .dataframe tbody tr th {\n",
       "        vertical-align: top;\n",
       "    }\n",
       "\n",
       "    .dataframe thead th {\n",
       "        text-align: right;\n",
       "    }\n",
       "</style>\n",
       "<table border=\"1\" class=\"dataframe\">\n",
       "  <thead>\n",
       "    <tr style=\"text-align: right;\">\n",
       "      <th></th>\n",
       "      <th>pc1</th>\n",
       "      <th>pc2</th>\n",
       "    </tr>\n",
       "  </thead>\n",
       "  <tbody>\n",
       "    <tr>\n",
       "      <th>0</th>\n",
       "      <td>-37.702227</td>\n",
       "      <td>19.856922</td>\n",
       "    </tr>\n",
       "    <tr>\n",
       "      <th>1</th>\n",
       "      <td>-34.088222</td>\n",
       "      <td>-13.547016</td>\n",
       "    </tr>\n",
       "    <tr>\n",
       "      <th>2</th>\n",
       "      <td>5.925783</td>\n",
       "      <td>-2.618325</td>\n",
       "    </tr>\n",
       "    <tr>\n",
       "      <th>3</th>\n",
       "      <td>-2.195240</td>\n",
       "      <td>-17.060992</td>\n",
       "    </tr>\n",
       "    <tr>\n",
       "      <th>4</th>\n",
       "      <td>-23.611651</td>\n",
       "      <td>8.751613</td>\n",
       "    </tr>\n",
       "  </tbody>\n",
       "</table>\n",
       "</div>"
      ],
      "text/plain": [
       "         pc1        pc2\n",
       "0 -37.702227  19.856922\n",
       "1 -34.088222 -13.547016\n",
       "2   5.925783  -2.618325\n",
       "3  -2.195240 -17.060992\n",
       "4 -23.611651   8.751613"
      ]
     },
     "execution_count": 19,
     "metadata": {},
     "output_type": "execute_result"
    }
   ],
   "source": [
    "# Your code here:\n",
    "df = pd.DataFrame(reduced, columns=['pc1','pc2'])\n",
    "df.head()"
   ]
  },
  {
   "cell_type": "markdown",
   "metadata": {},
   "source": [
    "Create a labels list. This list will be of size 160. The first 80 elements in the list will be the word `blue`, and the last 80 elements will be `red`. This will ensure that all dog observations will be colored in blue and all cats will be colored in red. Name this list `colors`."
   ]
  },
  {
   "cell_type": "code",
   "execution_count": 20,
   "metadata": {},
   "outputs": [
    {
     "name": "stdout",
     "output_type": "stream",
     "text": [
      "160\n"
     ]
    }
   ],
   "source": [
    "# Your code here:\n",
    "colors = ['blue']*80 + ['red'] * 80\n",
    "# print(colors)\n",
    "print(len(colors))"
   ]
  },
  {
   "cell_type": "markdown",
   "metadata": {},
   "source": [
    "Create a scatter plot of `pc1` and `pc2` below. Use the `colors` list above to color the observations by setting `c=colors`."
   ]
  },
  {
   "cell_type": "code",
   "execution_count": 21,
   "metadata": {},
   "outputs": [
    {
     "data": {
      "image/png": "[encoded data removed]",
      "text/plain": [
       "<Figure size 360x360 with 1 Axes>"
      ]
     },
     "metadata": {
      "needs_background": "light"
     },
     "output_type": "display_data"
    }
   ],
   "source": [
    "# Your code here:\n",
    "plt.figure(figsize=(5,5))\n",
    "plt.scatter(x=df['pc1'],y=df['pc2'], c=colors)\n",
    "plt.xlabel('pc1')\n",
    "plt.ylabel('pc2')\n",
    "plt.title('PCA')\n",
    "import matplotlib.patches as mpatches\n",
    "blue_patch = mpatches.Patch(color='blue')\n",
    "red_patch = mpatches.Patch(color='red')\n",
    "plt.legend(handles=[blue_patch, red_patch], labels=['dogs','cats']);"
   ]
  },
  {
   "cell_type": "markdown",
   "metadata": {},
   "source": [
    "Do you see a clear separation between cats and dogs? Write your answer below."
   ]
  },
  {
   "cell_type": "code",
   "execution_count": 18,
   "metadata": {},
   "outputs": [],
   "source": [
    "# Your conclusions here:\n",
    "# Sí se ve una separación bastante clara.\n",
    "# Los perros ocupan sobretodo valores medios en pc1, siendo muy raros en valores extremos.\n",
    "# Los gatos ocupan sobretodo valores altos en pc2, siendo muy raros en valores bajos de este eje."
   ]
  },
  {
   "cell_type": "markdown",
   "metadata": {},
   "source": [
    "# Bonus: Pintando gatos y perros... 😊"
   ]
  },
  {
   "cell_type": "code",
   "execution_count": 22,
   "metadata": {},
   "outputs": [],
   "source": [
    "import os\n",
    "from matplotlib.cbook import get_sample_data"
   ]
  },
  {
   "cell_type": "code",
   "execution_count": 23,
   "metadata": {},
   "outputs": [],
   "source": [
    "cat_img = plt.imread(get_sample_data(f\"{os.getcwd()}\\\\cat-face.png\"))\n",
    "dog_img = plt.imread(get_sample_data(f\"{os.getcwd()}\\\\dog-face.png\"))"
   ]
  },
  {
   "cell_type": "code",
   "execution_count": 24,
   "metadata": {},
   "outputs": [
    {
     "data": {
      "image/png": "[encoded data removed]",
      "text/plain": [
       "<Figure size 720x720 with 161 Axes>"
      ]
     },
     "metadata": {
      "needs_background": "light"
     },
     "output_type": "display_data"
    }
   ],
   "source": [
    "x = df['pc1']\n",
    "y = df['pc2']\n",
    "\n",
    "fig, ax = plt.subplots(figsize=(10,10))\n",
    "plot = ax.scatter(x,y, c=colors)\n",
    "\n",
    "ax_width = ax.get_window_extent().width\n",
    "fig_width = fig.get_window_extent().width\n",
    "fig_height = fig.get_window_extent().height\n",
    "\n",
    "cat_size = (ax_width/(fig_width*len(x)))*8\n",
    "cat_axs = [None for i in range(len(x))]\n",
    "\n",
    "dog_size = (ax_width/(fig_width*len(x)))*8\n",
    "dog_axs = [None for i in range(len(x))]\n",
    "\n",
    "for i in range(len(x)):\n",
    "    loc = ax.transData.transform((x[i], y[i]))\n",
    "    if i < 80: \n",
    "        dog_axs[i] = fig.add_axes([loc[0]/fig_width-dog_size/2, loc[1]/fig_height-dog_size/2,\n",
    "                               dog_size, dog_size], anchor='C')\n",
    "        dog_axs[i].imshow(dog_img)\n",
    "        dog_axs[i].axis(\"off\")\n",
    "    else:\n",
    "        cat_axs[i] = fig.add_axes([loc[0]/fig_width-cat_size/2, loc[1]/fig_height-cat_size/2,\n",
    "                               cat_size, cat_size], anchor='C')\n",
    "        cat_axs[i].imshow(cat_img)\n",
    "        cat_axs[i].axis(\"off\")\n",
    "\n",
    "ax.set_xlabel('pc1')\n",
    "ax.set_ylabel('pc2')\n",
    "ax.set_title('PCA');\n",
    "plt.savefig('cats_and_dogs.png', dpi=300)"
   ]
  },
  {
   "cell_type": "code",
   "execution_count": null,
   "metadata": {},
   "outputs": [],
   "source": []
  }
 ],
 "metadata": {
  "kernelspec": {
   "display_name": "Python 3",
   "language": "python",
   "name": "python3"
  },
  "language_info": {
   "codemirror_mode": {
    "name": "ipython",
    "version": 3
   },
   "file_extension": ".py",
   "mimetype": "text/x-python",
   "name": "python",
   "nbconvert_exporter": "python",
   "pygments_lexer": "ipython3",
   "version": "3.7.3"
  }
 },
 "nbformat": 4,
 "nbformat_minor": 2
}
