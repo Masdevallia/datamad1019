{
 "cells": [
  {
   "cell_type": "markdown",
   "metadata": {},
   "source": [
    "# Before your start:\n",
    "\n",
    "    Read the README.md file\n",
    "    Comment as much as you can and use the resources (README.md file)\n",
    "    Happy learning!"
   ]
  },
  {
   "cell_type": "markdown",
   "metadata": {},
   "source": [
    "In this exercise, we  will generate random numbers from the continuous disributions we learned in the lesson. There are two ways to generate random numbers:\n",
    "\n",
    "1. Using the numpy library \n",
    "1. using the Scipy library \n",
    "\n",
    "Use either or both of the lbraries in this exercise."
   ]
  },
  {
   "cell_type": "markdown",
   "metadata": {},
   "source": [
    "## Uniform Distribution\n",
    "\n",
    "To generate uniform random numbers between any two given values using scipy, we can either use the following code or the code that we have\n",
    "discussed in class:"
   ]
  },
  {
   "cell_type": "code",
   "execution_count": 1,
   "metadata": {},
   "outputs": [
    {
     "name": "stdout",
     "output_type": "stream",
     "text": [
      "[2.25804104 2.19082182 2.02109972 2.64225774 2.09919727 2.76327003\n",
      " 2.7193982  2.94954533 2.74814262 2.6833491 ]\n"
     ]
    }
   ],
   "source": [
    "from scipy.stats import uniform\n",
    "x = uniform.rvs(size=10)\n",
    "a = 2\n",
    "b = 3\n",
    "randoms  = a + (b-a)*x\n",
    "print(randoms)"
   ]
  },
  {
   "cell_type": "markdown",
   "metadata": {},
   "source": [
    "**Your task:**\n",
    "\n",
    "1. Based on the code above, write a function that generates uniformly distributed random numbers. There are several requirements for your function:\n",
    "    * It should accept 3 parameters: \n",
    "        * `bottom` - the lower boundary of the generated numbers\n",
    "        * `ceiling` - the upper boundary of the generated numbers\n",
    "        * `count` - how many numbers to generate\n",
    "    * It should return an array of uniformly distributed random numbers\n",
    "\n",
    "1. Call your function with 2 sets of params below:\n",
    "    * bottom=10, ceiling=15, count=100\n",
    "    * bottom=10, ceiling=60, count=1,000\n",
    "\n",
    "1. Plot the uniform distributions generated above using histograms, where x axis is the value and y axis is the count. Let the histogram's number of bins be 10.\n",
    "\n",
    "Your output should look like below:\n",
    "\n",
    "![uniform distribution](ud.png)"
   ]
  },
  {
   "cell_type": "code",
   "execution_count": 7,
   "metadata": {},
   "outputs": [
    {
     "data": {
      "text/plain": [
       "([<matplotlib.axis.YTick at 0x2417dcd4710>,\n",
       "  <matplotlib.axis.YTick at 0x2417dcc4048>,\n",
       "  <matplotlib.axis.YTick at 0x2417dccd2e8>,\n",
       "  <matplotlib.axis.YTick at 0x2417dd0b9e8>,\n",
       "  <matplotlib.axis.YTick at 0x2417dd0beb8>,\n",
       "  <matplotlib.axis.YTick at 0x2417dd163c8>,\n",
       "  <matplotlib.axis.YTick at 0x2417dd169b0>,\n",
       "  <matplotlib.axis.YTick at 0x2417dd16390>,\n",
       "  <matplotlib.axis.YTick at 0x2417dd1d0f0>,\n",
       "  <matplotlib.axis.YTick at 0x2417dd1d5f8>,\n",
       "  <matplotlib.axis.YTick at 0x2417dd1db70>,\n",
       "  <matplotlib.axis.YTick at 0x2417dd27160>,\n",
       "  <matplotlib.axis.YTick at 0x2417dd276a0>,\n",
       "  <matplotlib.axis.YTick at 0x2417dd27c18>],\n",
       " <a list of 14 Text yticklabel objects>)"
      ]
     },
     "execution_count": 7,
     "metadata": {},
     "output_type": "execute_result"
    },
    {
     "data": {
      "image/png": "[encoded data removed]",
      "text/plain": [
       "<Figure size 432x288 with 2 Axes>"
      ]
     },
     "metadata": {
      "needs_background": "light"
     },
     "output_type": "display_data"
    }
   ],
   "source": [
    "# your code here\n",
    "def uniform_dist_random(bottom, ceiling, count):\n",
    "    return bottom + (ceiling - bottom) * uniform.rvs(size = count)\n",
    "\n",
    "import matplotlib.pyplot as plt\n",
    "%matplotlib inline\n",
    "plt.subplot (1,2,1)\n",
    "plt.hist(uniform_dist_random(10, 15, 100),bins=10)\n",
    "plt.yticks (range(0, 140, 10))\n",
    "plt.subplot (1,2,2)\n",
    "plt.hist(uniform_dist_random(10, 60, 1000),bins=10)\n",
    "plt.yticks (range(0, 140, 10))"
   ]
  },
  {
   "cell_type": "markdown",
   "metadata": {},
   "source": [
    "How are the two distributions different?"
   ]
  },
  {
   "cell_type": "code",
   "execution_count": 11,
   "metadata": {},
   "outputs": [
    {
     "data": {
      "text/plain": [
       "(array([ 9906.,  9968., 10097., 10140.,  9943.,  9978.,  9921.,  9933.,\n",
       "        10051., 10063.]),\n",
       " array([10.00000159, 10.50000109, 11.00000059, 11.50000009, 11.99999958,\n",
       "        12.49999908, 12.99999858, 13.49999808, 13.99999758, 14.49999708,\n",
       "        14.99999658]),\n",
       " <a list of 10 Patch objects>)"
      ]
     },
     "execution_count": 11,
     "metadata": {},
     "output_type": "execute_result"
    },
    {
     "data": {
      "image/png": "[encoded data removed]",
      "text/plain": [
       "<Figure size 432x288 with 4 Axes>"
      ]
     },
     "metadata": {
      "needs_background": "light"
     },
     "output_type": "display_data"
    }
   ],
   "source": [
    "# your answer below\n",
    "\n",
    "# A mayor número de valores (count), más uniforme es la distribción. Por ejemplo:\n",
    "\n",
    "plt.subplot (1,4,1)\n",
    "plt.hist(uniform_dist_random(10, 15, 100),bins=10)\n",
    "plt.subplot (1,4,2)\n",
    "plt.hist(uniform_dist_random(10, 15, 1000),bins=10)\n",
    "plt.subplot (1,4,3)\n",
    "plt.hist(uniform_dist_random(10, 15, 10000),bins=10)\n",
    "plt.subplot (1,4,4)\n",
    "plt.hist(uniform_dist_random(10, 15, 100000),bins=10)\n",
    "\n",
    "# Con un count lo suficientemente elevado, todos los valores entre bottom y ceiling tienden a ser igual de\n",
    "# probables (es decir, a aparecer un igual número de veces).\n"
   ]
  },
  {
   "cell_type": "markdown",
   "metadata": {},
   "source": [
    "## Normal Distribution\n",
    "\n",
    "1. In the same way in the Uniform Distribution challenge, write a function that generates normally distributed random numbers.\n",
    "1. Generate 1,000 normally distributed numbers with the average of 10 and standard deviation of 1\n",
    "1. Generate 1,000 normally distributed numbers with the average of 10 and standard deviation of 50\n",
    "2. Plot the distributions of the data generated.\n",
    "\n",
    "Expected output:\n",
    "\n",
    "![normal distribution](nd.png)"
   ]
  },
  {
   "cell_type": "code",
   "execution_count": 16,
   "metadata": {},
   "outputs": [
    {
     "data": {
      "text/plain": [
       "(array([ 1.,  0.,  0.,  0.,  5.,  2.,  2.,  4.,  6.,  9.,  4., 12., 11.,\n",
       "        23., 18., 24., 33., 21., 27., 31., 38., 43., 34., 55., 66., 48.,\n",
       "        58., 43., 58., 42., 37., 46., 32., 27., 30., 19., 21., 25., 13.,\n",
       "        10.,  4.,  4.,  6.,  2.,  2.,  2.,  0.,  1.,  0.,  1.]),\n",
       " array([-1658.14068297, -1593.28488866, -1528.42909435, -1463.57330004,\n",
       "        -1398.71750573, -1333.86171142, -1269.00591711, -1204.1501228 ,\n",
       "        -1139.29432849, -1074.43853418, -1009.58273987,  -944.72694556,\n",
       "         -879.87115125,  -815.01535694,  -750.15956263,  -685.30376832,\n",
       "         -620.44797401,  -555.5921797 ,  -490.73638539,  -425.88059108,\n",
       "         -361.02479677,  -296.16900246,  -231.31320815,  -166.45741384,\n",
       "         -101.60161953,   -36.74582522,    28.10996909,    92.96576341,\n",
       "          157.82155772,   222.67735203,   287.53314634,   352.38894065,\n",
       "          417.24473496,   482.10052927,   546.95632358,   611.81211789,\n",
       "          676.6679122 ,   741.52370651,   806.37950082,   871.23529513,\n",
       "          936.09108944,  1000.94688375,  1065.80267806,  1130.65847237,\n",
       "         1195.51426668,  1260.37006099,  1325.2258553 ,  1390.08164961,\n",
       "         1454.93744392,  1519.79323823,  1584.64903254]),\n",
       " <a list of 50 Patch objects>)"
      ]
     },
     "execution_count": 16,
     "metadata": {},
     "output_type": "execute_result"
    },
    {
     "data": {
      "image/png": "[encoded data removed]",
      "text/plain": [
       "<Figure size 432x288 with 2 Axes>"
      ]
     },
     "metadata": {
      "needs_background": "light"
     },
     "output_type": "display_data"
    }
   ],
   "source": [
    "# your code here\n",
    "from scipy.stats import norm\n",
    "def normal_dist_random(mean, sd, count):\n",
    "    return norm.rvs(size=count) * sd * mean\n",
    "\n",
    "plt.subplot (1,2,1)\n",
    "plt.hist(normal_dist_random(10, 1, 1000),bins=50)\n",
    "plt.subplot (1,2,2)\n",
    "plt.hist(normal_dist_random(10, 50, 1000),bins=50)"
   ]
  },
  {
   "cell_type": "markdown",
   "metadata": {},
   "source": [
    "How are the two distributions different?"
   ]
  },
  {
   "cell_type": "code",
   "execution_count": null,
   "metadata": {},
   "outputs": [],
   "source": [
    "# your answer below\n",
    "\n",
    "# El rango de valores que abarca la segunda distribución (los valores entre bottom y ceiling) es mucho mayor\n",
    "# porque tiene mayor desviación estandar (que define cuánto se alejan los datos de la media)."
   ]
  },
  {
   "cell_type": "markdown",
   "metadata": {},
   "source": [
    "## Normal Distribution of Real Data\n",
    "\n",
    "In this challenge we are going to take a look the real data. We will use vehicles.csv file for this exercise"
   ]
  },
  {
   "cell_type": "markdown",
   "metadata": {},
   "source": [
    "First import vehicles.csv.\n",
    "Then plot the histograms for the following variables:\n",
    "\n",
    "1. Fuel Barrels/Year"
   ]
  },
  {
   "cell_type": "code",
   "execution_count": 35,
   "metadata": {},
   "outputs": [
    {
     "data": {
      "text/plain": [
       "(array([6.300e+01, 1.000e+01, 1.800e+01, 6.700e+01, 2.970e+02, 1.126e+03,\n",
       "        4.059e+03, 5.600e+03, 6.259e+03, 6.760e+03, 4.613e+03, 2.413e+03,\n",
       "        2.026e+03, 1.275e+03, 7.350e+02, 4.390e+02, 0.000e+00, 1.300e+02,\n",
       "        0.000e+00, 3.600e+01, 0.000e+00, 2.100e+01, 0.000e+00, 0.000e+00,\n",
       "        5.000e+00]),\n",
       " array([ 0.06      ,  1.94108571,  3.82217143,  5.70325714,  7.58434286,\n",
       "         9.46542857, 11.34651429, 13.2276    , 15.10868571, 16.98977143,\n",
       "        18.87085714, 20.75194286, 22.63302857, 24.51411429, 26.3952    ,\n",
       "        28.27628571, 30.15737143, 32.03845714, 33.91954286, 35.80062857,\n",
       "        37.68171429, 39.5628    , 41.44388571, 43.32497143, 45.20605714,\n",
       "        47.08714286]),\n",
       " <a list of 25 Patch objects>)"
      ]
     },
     "execution_count": 35,
     "metadata": {},
     "output_type": "execute_result"
    },
    {
     "data": {
      "image/png": "[encoded data removed]",
      "text/plain": [
       "<Figure size 432x288 with 1 Axes>"
      ]
     },
     "metadata": {
      "needs_background": "light"
     },
     "output_type": "display_data"
    }
   ],
   "source": [
    "# your code here\n",
    "import pandas as pd\n",
    "df = pd.read_csv('./vehicles.csv')\n",
    "plt.hist(df['Fuel Barrels/Year'],bins=25)"
   ]
  },
  {
   "cell_type": "markdown",
   "metadata": {},
   "source": [
    "2. CO2 Emission Grams/Mile "
   ]
  },
  {
   "cell_type": "code",
   "execution_count": 36,
   "metadata": {},
   "outputs": [
    {
     "data": {
      "text/plain": [
       "(array([9.000e+00, 2.100e+01, 2.800e+01, 2.130e+02, 5.950e+02, 2.410e+03,\n",
       "        4.016e+03, 7.043e+03, 6.377e+03, 5.770e+03, 2.459e+03, 2.422e+03,\n",
       "        1.980e+03, 1.262e+03, 7.120e+02, 4.430e+02, 3.000e+00, 1.270e+02,\n",
       "        0.000e+00, 3.600e+01, 0.000e+00, 2.100e+01, 0.000e+00, 0.000e+00,\n",
       "        5.000e+00]),\n",
       " array([  37.        ,   86.30285714,  135.60571429,  184.90857143,\n",
       "         234.21142857,  283.51428571,  332.81714286,  382.12      ,\n",
       "         431.42285714,  480.72571429,  530.02857143,  579.33142857,\n",
       "         628.63428571,  677.93714286,  727.24      ,  776.54285714,\n",
       "         825.84571429,  875.14857143,  924.45142857,  973.75428571,\n",
       "        1023.05714286, 1072.36      , 1121.66285714, 1170.96571429,\n",
       "        1220.26857143, 1269.57142857]),\n",
       " <a list of 25 Patch objects>)"
      ]
     },
     "execution_count": 36,
     "metadata": {},
     "output_type": "execute_result"
    },
    {
     "data": {
      "image/png": "[encoded data removed]",
      "text/plain": [
       "<Figure size 432x288 with 1 Axes>"
      ]
     },
     "metadata": {
      "needs_background": "light"
     },
     "output_type": "display_data"
    }
   ],
   "source": [
    "# your code here\n",
    "plt.hist(df['CO2 Emission Grams/Mile'],bins=25)"
   ]
  },
  {
   "cell_type": "markdown",
   "metadata": {},
   "source": [
    "3. Combined MPG"
   ]
  },
  {
   "cell_type": "code",
   "execution_count": 37,
   "metadata": {},
   "outputs": [
    {
     "data": {
      "text/plain": [
       "(array([2.600e+01, 1.710e+02, 1.182e+03, 3.202e+03, 4.556e+03, 5.979e+03,\n",
       "        6.375e+03, 5.405e+03, 3.340e+03, 2.345e+03, 1.331e+03, 8.240e+02,\n",
       "        4.300e+02, 3.380e+02, 1.290e+02, 8.400e+01, 8.800e+01, 7.500e+01,\n",
       "        1.200e+01, 1.600e+01, 1.800e+01, 1.500e+01, 5.000e+00, 4.000e+00,\n",
       "        2.000e+00]),\n",
       " array([ 7.  ,  8.96, 10.92, 12.88, 14.84, 16.8 , 18.76, 20.72, 22.68,\n",
       "        24.64, 26.6 , 28.56, 30.52, 32.48, 34.44, 36.4 , 38.36, 40.32,\n",
       "        42.28, 44.24, 46.2 , 48.16, 50.12, 52.08, 54.04, 56.  ]),\n",
       " <a list of 25 Patch objects>)"
      ]
     },
     "execution_count": 37,
     "metadata": {},
     "output_type": "execute_result"
    },
    {
     "data": {
      "image/png": "[encoded data removed]",
      "text/plain": [
       "<Figure size 432x288 with 1 Axes>"
      ]
     },
     "metadata": {
      "needs_background": "light"
     },
     "output_type": "display_data"
    }
   ],
   "source": [
    "# your code here\n",
    "plt.hist(df['Combined MPG'],bins=25)"
   ]
  },
  {
   "cell_type": "markdown",
   "metadata": {},
   "source": [
    "Which one(s) of the variables are nearly normally distributed? How do you know?"
   ]
  },
  {
   "cell_type": "code",
   "execution_count": 25,
   "metadata": {},
   "outputs": [
    {
     "name": "stdout",
     "output_type": "stream",
     "text": [
      "17.609055502328875 4.467282686296995\n",
      "475.31633925715045 119.06077323591474\n",
      "19.92932242990654 5.112408944666006\n"
     ]
    }
   ],
   "source": [
    "# your answer here\n",
    "print(df['Fuel Barrels/Year'].mean(), df['Fuel Barrels/Year'].std())\n",
    "print(df['CO2 Emission Grams/Mile'].mean(), df['CO2 Emission Grams/Mile'].std())\n",
    "print(df['Combined MPG'].mean(), df['Combined MPG'].std())\n",
    "\n",
    "# Combined MPG es la que tiene la distribución más normal..."
   ]
  },
  {
   "cell_type": "markdown",
   "metadata": {},
   "source": [
    "## Exponential Distribution"
   ]
  },
  {
   "cell_type": "markdown",
   "metadata": {},
   "source": [
    "1. Using `numpy.random.exponential`, create a function that returns a list of numbers exponentially distributed with the mean of 10. \n",
    "\n",
    "1. Use the function to generate two number sequences with the size of 10 and 100.\n",
    "\n",
    "1. Plot the distributions as histograms with the nubmer of bins as 100.\n",
    "\n",
    "Your output should look like below:\n",
    "\n",
    "![exponential distribution](ed.png)"
   ]
  },
  {
   "cell_type": "code",
   "execution_count": 38,
   "metadata": {},
   "outputs": [
    {
     "data": {
      "text/plain": [
       "(array([6., 1., 2., 3., 2., 7., 4., 5., 8., 5., 2., 2., 0., 3., 8., 1., 1.,\n",
       "        1., 3., 2., 1., 1., 1., 1., 2., 1., 1., 0., 2., 1., 1., 0., 1., 0.,\n",
       "        1., 1., 1., 2., 1., 1., 0., 0., 0., 0., 0., 0., 2., 0., 0., 1., 0.,\n",
       "        3., 2., 0., 0., 0., 1., 0., 0., 1., 0., 0., 0., 0., 0., 0., 1., 0.,\n",
       "        0., 0., 0., 1., 1., 0., 0., 0., 0., 0., 0., 0., 0., 0., 0., 0., 0.,\n",
       "        0., 0., 0., 0., 0., 0., 0., 0., 0., 0., 0., 0., 0., 0., 1.]),\n",
       " array([ 0.20829404,  0.7890257 ,  1.36975736,  1.95048902,  2.53122068,\n",
       "         3.11195234,  3.69268401,  4.27341567,  4.85414733,  5.43487899,\n",
       "         6.01561065,  6.59634231,  7.17707398,  7.75780564,  8.3385373 ,\n",
       "         8.91926896,  9.50000062, 10.08073228, 10.66146395, 11.24219561,\n",
       "        11.82292727, 12.40365893, 12.98439059, 13.56512225, 14.14585392,\n",
       "        14.72658558, 15.30731724, 15.8880489 , 16.46878056, 17.04951222,\n",
       "        17.63024389, 18.21097555, 18.79170721, 19.37243887, 19.95317053,\n",
       "        20.53390219, 21.11463386, 21.69536552, 22.27609718, 22.85682884,\n",
       "        23.4375605 , 24.01829216, 24.59902383, 25.17975549, 25.76048715,\n",
       "        26.34121881, 26.92195047, 27.50268213, 28.0834138 , 28.66414546,\n",
       "        29.24487712, 29.82560878, 30.40634044, 30.9870721 , 31.56780377,\n",
       "        32.14853543, 32.72926709, 33.30999875, 33.89073041, 34.47146207,\n",
       "        35.05219374, 35.6329254 , 36.21365706, 36.79438872, 37.37512038,\n",
       "        37.95585204, 38.53658371, 39.11731537, 39.69804703, 40.27877869,\n",
       "        40.85951035, 41.44024201, 42.02097368, 42.60170534, 43.182437  ,\n",
       "        43.76316866, 44.34390032, 44.92463198, 45.50536365, 46.08609531,\n",
       "        46.66682697, 47.24755863, 47.82829029, 48.40902195, 48.98975362,\n",
       "        49.57048528, 50.15121694, 50.7319486 , 51.31268026, 51.89341192,\n",
       "        52.47414358, 53.05487525, 53.63560691, 54.21633857, 54.79707023,\n",
       "        55.37780189, 55.95853355, 56.53926522, 57.11999688, 57.70072854,\n",
       "        58.2814602 ]),\n",
       " <a list of 100 Patch objects>)"
      ]
     },
     "execution_count": 38,
     "metadata": {},
     "output_type": "execute_result"
    },
    {
     "data": {
      "image/png": "[encoded data removed]",
      "text/plain": [
       "<Figure size 432x288 with 2 Axes>"
      ]
     },
     "metadata": {
      "needs_background": "light"
     },
     "output_type": "display_data"
    }
   ],
   "source": [
    "# your code here\n",
    "import numpy as np\n",
    "def exponential_dist_random(mean,count):\n",
    "    return np.random.exponential(mean,count)\n",
    "\n",
    "plt.subplot(1,2,1)\n",
    "plt.hist(exponential_dist_random(10,10), bins=100)\n",
    "plt.subplot(1,2,2)\n",
    "plt.hist(exponential_dist_random(10,100), bins=100)"
   ]
  },
  {
   "cell_type": "markdown",
   "metadata": {},
   "source": [
    "How are the two distributions different?"
   ]
  },
  {
   "cell_type": "code",
   "execution_count": null,
   "metadata": {},
   "outputs": [],
   "source": [
    "# your answer here\n",
    "\n",
    "# De nuevo, se necesita un número mínimo de valores (count) para revelar la distribución..."
   ]
  },
  {
   "cell_type": "markdown",
   "metadata": {},
   "source": [
    "## Exponential Distribution of Real Data\n",
    "\n",
    "Suppose that the amount of time one spends in a bank is exponentially distributed with mean as 10 minutes (i.e. λ = 1/10). What is the probability that a customer will spend less than fifteen minutes in the bank? \n",
    "\n",
    "Write a code in python to solve this problem"
   ]
  },
  {
   "cell_type": "code",
   "execution_count": 32,
   "metadata": {},
   "outputs": [
    {
     "data": {
      "text/plain": [
       "0.777"
      ]
     },
     "execution_count": 32,
     "metadata": {},
     "output_type": "execute_result"
    }
   ],
   "source": [
    "# your answer here\n",
    "# Hint: This is same as saying P(x<15)\n",
    "import math\n",
    "round(1-math.exp(-15/10),3)"
   ]
  },
  {
   "cell_type": "markdown",
   "metadata": {},
   "source": [
    "What is the probability that the customer will spend more than 15 minutes"
   ]
  },
  {
   "cell_type": "code",
   "execution_count": 33,
   "metadata": {},
   "outputs": [
    {
     "data": {
      "text/plain": [
       "0.223"
      ]
     },
     "execution_count": 33,
     "metadata": {},
     "output_type": "execute_result"
    }
   ],
   "source": [
    "# your answer here\n",
    "round(math.exp(-15/10),3)"
   ]
  },
  {
   "cell_type": "code",
   "execution_count": null,
   "metadata": {},
   "outputs": [],
   "source": []
  }
 ],
 "metadata": {
  "kernelspec": {
   "display_name": "Python 3",
   "language": "python",
   "name": "python3"
  },
  "language_info": {
   "codemirror_mode": {
    "name": "ipython",
    "version": 3
   },
   "file_extension": ".py",
   "mimetype": "text/x-python",
   "name": "python",
   "nbconvert_exporter": "python",
   "pygments_lexer": "ipython3",
   "version": "3.7.3"
  }
 },
 "nbformat": 4,
 "nbformat_minor": 2
}
