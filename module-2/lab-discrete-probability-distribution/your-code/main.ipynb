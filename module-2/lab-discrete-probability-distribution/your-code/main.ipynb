{
 "cells": [
  {
   "cell_type": "markdown",
   "metadata": {},
   "source": [
    "# Before your start:\n",
    "\n",
    "    Read the README.md file\n",
    "    Comment as much as you can and use the resources (README.md file)\n",
    "    Happy learning!\n",
    "\n",
    "*Notes:* \n",
    "\n",
    "- Solve the questions with python.\n",
    "\n",
    "- Round the final answer to three decimal places."
   ]
  },
  {
   "cell_type": "markdown",
   "metadata": {},
   "source": [
    "## Bernoulli's Distribution\n",
    "\n",
    "In a basket containing 100 fruits, there are 60 apples and 40 oranges. \n",
    "\n",
    "A fruit is picked randomly from the basket. \n",
    "\n",
    "1. **What is the probability that the fruit is apple?**\n",
    "1. **What is the probability that it is an orange?**"
   ]
  },
  {
   "cell_type": "code",
   "execution_count": 2,
   "metadata": {},
   "outputs": [
    {
     "name": "stdout",
     "output_type": "stream",
     "text": [
      "0.6\n",
      "0.4\n"
     ]
    }
   ],
   "source": [
    "\"\"\"\n",
    "Calculate:\n",
    "p = probability that the fruit is an apple \n",
    "q = probability that the fruit is an orange\n",
    "\"\"\"\n",
    "\n",
    "# your code here \n",
    "basket = 100\n",
    "apples = 60\n",
    "oranges = 40\n",
    "\n",
    "p = apples/basket\n",
    "q = oranges/basket\n",
    "print(p)\n",
    "print(q)"
   ]
  },
  {
   "cell_type": "markdown",
   "metadata": {},
   "source": [
    "Now we take a random sample of 20 fruits from the basket. After each fruit is taken, a new fruit of the same type is replaced in the basket. Therefore, every time we are taking 1 fruit from 100 fruits. \n",
    "\n",
    "1. **What is the probability that the first 5 fruits are all apples?**\n",
    "\n",
    "1. **What is the probability that the first 5 fruits are all apples and the next 15 fruits are all oranges?**\n",
    "\n",
    "You can include the `p` and `q` probabilities you previous calculated in your solution."
   ]
  },
  {
   "cell_type": "code",
   "execution_count": 3,
   "metadata": {},
   "outputs": [
    {
     "name": "stdout",
     "output_type": "stream",
     "text": [
      "0.078\n",
      "0.0\n"
     ]
    }
   ],
   "source": [
    "# After each fruit is taken, a new fruit of the same type is replaced in the basket => No hay remplazo.\n",
    "# What is the probability that the first 5 fruits are all apples?\n",
    "print(round(p**5,3))\n",
    "# What is the probability that the first 5 fruits are all apples and the next 15 fruits are all oranges?\n",
    "print(round(p**5*q**15,3))\n",
    "\n",
    "# Lo que he conseguido entender...\n",
    "# Aquí nos piden una combinación concreta. La probabilidad de sacar esa combinación concreta es prácticamente 0.\n",
    "# Debajo, en cambio, nos piden la suma de todas las combinaciones que llevan a sacar 15 naranjas y 5 manzanas.\n",
    "# Es decir, por ejemplo:\n",
    "# Combinación 1: Sacar 5 manzanas y 15 naranjas: p**5*q**15\n",
    "# Combinación 2: Sacar 15 naranjas y 5 manzanas: q**15*p**5\n",
    "# Combinación 3: Qué sé yo... Sacar 2 manzanas, 10 naranjas, 3 manzanas y 5 naranjas: p**2*q**10*p**3*q**5\n",
    "# (y así hasta el total, que son un montón... :P)\n",
    "# Todas estas combinaciónes tienen exactamente la misma probabilidad. Cada una de ellas, tiene una probabilidad de \n",
    "# p**5*q**15. Súmandolas todas, obtengo la probabilidad del ejercicio siguiente, es decir, la probabilidad de sacar\n",
    "# 5 manzanas y 15 naranjas, pero independientemente de la combinación."
   ]
  },
  {
   "cell_type": "markdown",
   "metadata": {},
   "source": [
    "## Binomial Distribution\n",
    "\n",
    "Similar to the above problem, this time again we randomly sample 20 fruits.\n",
    "\n",
    "**What is the probability that this time the sample contains 5 apples and 15 oranges?**\n",
    "\n",
    "Please note that this time the order of the fruits being picked does not matter."
   ]
  },
  {
   "cell_type": "code",
   "execution_count": 4,
   "metadata": {},
   "outputs": [
    {
     "name": "stdout",
     "output_type": "stream",
     "text": [
      "0.001\n"
     ]
    }
   ],
   "source": [
    "# your code here\n",
    "from scipy.stats import binom\n",
    "print(round(binom.pmf(5, 20, p),3))"
   ]
  },
  {
   "cell_type": "markdown",
   "metadata": {},
   "source": [
    "In the lesson we also discussed CDF (cumulative distribution function). In the context of the above problem, **what is the probability that less than 5 fruits picked are apples?**\n",
    "\n",
    "Write the formula and calculate the probability below."
   ]
  },
  {
   "cell_type": "code",
   "execution_count": 17,
   "metadata": {},
   "outputs": [
    {
     "name": "stdout",
     "output_type": "stream",
     "text": [
      "0.00032\n",
      "0.00032\n"
     ]
    }
   ],
   "source": [
    "# your code here\n",
    "print(round(sum([binom.pmf(n, 20, p) for n in range(1,5)]),5))\n",
    "print(round(binom.cdf(4, 20, p),5))"
   ]
  },
  {
   "cell_type": "markdown",
   "metadata": {},
   "source": [
    "**Plot the PDF (probability distributiom function) for the above binomial distribution.**\n",
    "\n",
    "*Hint: The range of x in a binomial distribution is from `0` to `n`.*"
   ]
  },
  {
   "cell_type": "code",
   "execution_count": 18,
   "metadata": {},
   "outputs": [
    {
     "data": {
      "text/plain": [
       "Text(0, 0.5, 'Probability')"
      ]
     },
     "execution_count": 18,
     "metadata": {},
     "output_type": "execute_result"
    },
    {
     "data": {
      "image/png": "[encoded data removed]",
      "text/plain": [
       "<Figure size 432x288 with 1 Axes>"
      ]
     },
     "metadata": {
      "needs_background": "light"
     },
     "output_type": "display_data"
    }
   ],
   "source": [
    "# your code here\n",
    "# Please label the axes and give a title to the plot\n",
    "import matplotlib.pyplot as plt\n",
    "%matplotlib inline\n",
    "x = list(range(1, 21))\n",
    "y = binom.cdf (x, 20, p)\n",
    "plt.stem(x, y, use_line_collection=True)\n",
    "plt.xticks (x)\n",
    "plt.title ('PDF (probability distributiom function)')\n",
    "plt.xlabel('Picking fruits...')\n",
    "plt.ylabel('Probability')"
   ]
  },
  {
   "cell_type": "markdown",
   "metadata": {},
   "source": [
    "## Poisson Distribution\n",
    "\n",
    "In this challenge you are required to use the Math library in python to solve the problems.\n",
    "\n",
    "In the UEFA champions league tournament, the average number of goals scored in a match is 2.3. \n",
    "\n",
    "**What is the probability that the number of goals scored in a match is 5?**\n",
    "\n",
    "*Hint: Use the exp() in the math library*\n",
    "\n",
    "And to calculate the factorial, you can use the following code:\n",
    "\n",
    "```python\n",
    "import math\n",
    "math.factorial(n) # n is the number you want to find the factorial of\n",
    "```"
   ]
  },
  {
   "cell_type": "code",
   "execution_count": 24,
   "metadata": {},
   "outputs": [
    {
     "name": "stdout",
     "output_type": "stream",
     "text": [
      "0.054\n",
      "0.054\n"
     ]
    }
   ],
   "source": [
    "# your code here \n",
    "import math\n",
    "average = 2.3\n",
    "k = 5\n",
    "probability = math.exp(-average)*(average**k)/(math.factorial(k))\n",
    "print(round(probability,3))\n",
    "\n",
    "# O también...\n",
    "from scipy.stats import poisson\n",
    "probability = poisson.pmf(k,average)\n",
    "print(round(probability,3))"
   ]
  },
  {
   "cell_type": "markdown",
   "metadata": {},
   "source": [
    "**Draw a poisson probability distribution plot for the number of goals to be between 0 to 10.**"
   ]
  },
  {
   "cell_type": "code",
   "execution_count": 27,
   "metadata": {},
   "outputs": [
    {
     "data": {
      "text/plain": [
       "Text(0, 0.5, 'Probability')"
      ]
     },
     "execution_count": 27,
     "metadata": {},
     "output_type": "execute_result"
    },
    {
     "data": {
      "image/png": "[encoded data removed]",
      "text/plain": [
       "<Figure size 432x288 with 1 Axes>"
      ]
     },
     "metadata": {
      "needs_background": "light"
     },
     "output_type": "display_data"
    }
   ],
   "source": [
    "# your code here\n",
    "# Please label the axes and give a title to the plot\n",
    "x = list(range(11))\n",
    "y = poisson.pmf(x, average)\n",
    "plt.stem(x, y, use_line_collection=True)\n",
    "plt.xticks (x)\n",
    "plt.title ('Poisson probability distribution')\n",
    "plt.xlabel('Number of goals')\n",
    "plt.ylabel('Probability')"
   ]
  },
  {
   "cell_type": "code",
   "execution_count": null,
   "metadata": {},
   "outputs": [],
   "source": []
  }
 ],
 "metadata": {
  "kernelspec": {
   "display_name": "Python 3",
   "language": "python",
   "name": "python3"
  },
  "language_info": {
   "codemirror_mode": {
    "name": "ipython",
    "version": 3
   },
   "file_extension": ".py",
   "mimetype": "text/x-python",
   "name": "python",
   "nbconvert_exporter": "python",
   "pygments_lexer": "ipython3",
   "version": "3.7.3"
  }
 },
 "nbformat": 4,
 "nbformat_minor": 2
}
