{
 "cells": [
  {
   "cell_type": "markdown",
   "metadata": {},
   "source": [
    "# Lab | API Scavenger Game"
   ]
  },
  {
   "cell_type": "code",
   "execution_count": 13,
   "metadata": {},
   "outputs": [],
   "source": [
    "import os\n",
    "from dotenv import load_dotenv\n",
    "load_dotenv()\n",
    "\n",
    "# https://developer.github.com/v3/\n",
    "def githubRequestAuthorized(resource):\n",
    "    authToken = os.getenv(\"GITHUB_API_TOKEN\")\n",
    "    if not authToken:\n",
    "        raise ValueError(\"NECESITAS UN TOKEN\")\n",
    "    else:\n",
    "        print(\"We have a github token: \", authToken[0:4])\n",
    "    headers = {\n",
    "        \"Authorization\": \"token {}\".format(authToken)\n",
    "    }\n",
    "    url = \"https://api.github.com{}\".format(resource)\n",
    "    print(\"Requesting authorized {}\".format(url))\n",
    "    res = requests.get(url, headers=headers)\n",
    "    return res\n"
   ]
  },
  {
   "cell_type": "code",
   "execution_count": 30,
   "metadata": {},
   "outputs": [
    {
     "name": "stdout",
     "output_type": "stream",
     "text": [
      "We have a github token:  29d9\n",
      "Requesting authorized https://api.github.com/repos/ironhack-datalabs/datamad1019\n"
     ]
    }
   ],
   "source": [
    "import requests\n",
    "\n",
    "# data = githubRequestAuthorized(\"/users/ironhack-datalabs/repos\").json()\n",
    "data = githubRequestAuthorized(\"/repos/ironhack-datalabs/datamad1019\").json()\n",
    "print(data['name']) # 'datamad1019'\n",
    "print(data['language']) # 'Jupyter Notebook'"
   ]
  },
  {
   "cell_type": "markdown",
   "metadata": {},
   "source": [
    "## Challenge 1: Fork Languages\n",
    "\n",
    "You will find out how many programming languages are used among all the forks created from the main lab repo of your bootcamp. You will:\n",
    "\n",
    "* Obtain the full list of forks created from the main lab repo via Github API.\n",
    "* Loop the JSON response to find out the language attribute of each fork. Use an array to store the language attributes of each fork. Hint: Each language should appear only once in your array.\n",
    "* Print the language array."
   ]
  },
  {
   "cell_type": "code",
   "execution_count": 39,
   "metadata": {},
   "outputs": [
    {
     "name": "stdout",
     "output_type": "stream",
     "text": [
      "We have a github token:  29d9\n",
      "Requesting authorized https://api.github.com/repos/ironhack-datalabs/datamad1019/forks\n"
     ]
    }
   ],
   "source": [
    "# https://developer.github.com/v3/repos/forks/\n",
    "# GET /repos/:owner/:repo/forks\n",
    "dataforks = githubRequestAuthorized(\"/repos/ironhack-datalabs/datamad1019/forks\").json()"
   ]
  },
  {
   "cell_type": "code",
   "execution_count": 49,
   "metadata": {},
   "outputs": [
    {
     "name": "stdout",
     "output_type": "stream",
     "text": [
      "['begoechavarren/datamad1019', 'mariobru/datamad1019', 'jlmingo/datamad1019', 'Ovion/datamad1019', 'ToniPons97/datamad1019', 'noeliacarrion/datamad1019', 'mariaadradosr/datamad1019', 'Juliopdata/datamad1019', 'guzmanueco/datamad1019', 'blancaalcala/datamad1019', 'AlexMndzF/datamad1019', 'David-Fde/datamad1019', 'MaikaRG/datamad1019', 'Turandot123/datamad1019', 'isagc/datamad1019', 'alfpml/datamad1019', 'mermora97/datamad1019', 'jm-cruz-d/datamad1019', 'blancalluch/datamad1019', 'albertovpd/datamad1019', 'mariaversin/datamad1019', 'seorakwon/datamad1019', 'Jpereza24/datamad1019', 'castares/datamad1019', 'progameitor/datamad1019', 'Masdevallia/datamad1019', 'cprietosegura/datamad1019', 'jgph91/datamad1019', 'alvarorivasg/datamad1019', 'Clapiniella/datamad1019']\n"
     ]
    }
   ],
   "source": [
    "print([e['full_name'] for e in dataforks])"
   ]
  },
  {
   "cell_type": "code",
   "execution_count": 50,
   "metadata": {},
   "outputs": [
    {
     "name": "stdout",
     "output_type": "stream",
     "text": [
      "{'Jupyter Notebook', None}\n"
     ]
    }
   ],
   "source": [
    "print(set([e['language'] for e in dataforks]))"
   ]
  },
  {
   "cell_type": "markdown",
   "metadata": {},
   "source": [
    "## Challenge 2: Count Commits\n",
    "\n",
    "Count how many commits were made in the past **year**.\n",
    "\n",
    "1. Obtain all the commits made in the past year via API, which is a JSON array that contains multiple commit objects.\n",
    "1. Count how many commit objects are contained in the array."
   ]
  },
  {
   "cell_type": "code",
   "execution_count": 51,
   "metadata": {},
   "outputs": [
    {
     "name": "stdout",
     "output_type": "stream",
     "text": [
      "We have a github token:  29d9\n",
      "Requesting authorized https://api.github.com/repos/ironhack-datalabs/datamad1019/commits?since2018-11-06\n"
     ]
    }
   ],
   "source": [
    "# https://developer.github.com/v3/repos/commits/\n",
    "# GET /repos/:owner/:repo/commits\n",
    "datacommits = githubRequestAuthorized(\"/repos/ironhack-datalabs/datamad1019/commits?since2018-11-06\").json()"
   ]
  },
  {
   "cell_type": "code",
   "execution_count": 53,
   "metadata": {},
   "outputs": [
    {
     "data": {
      "text/plain": [
       "30"
      ]
     },
     "execution_count": 53,
     "metadata": {},
     "output_type": "execute_result"
    }
   ],
   "source": [
    "# All commits made in the past year:\n",
    "len(datacommits)"
   ]
  },
  {
   "cell_type": "markdown",
   "metadata": {},
   "source": [
    "## Challenge 3: Hidden Cold Joke"
   ]
  },
  {
   "cell_type": "code",
   "execution_count": null,
   "metadata": {},
   "outputs": [],
   "source": []
  },
  {
   "cell_type": "code",
   "execution_count": null,
   "metadata": {},
   "outputs": [],
   "source": []
  },
  {
   "cell_type": "code",
   "execution_count": null,
   "metadata": {},
   "outputs": [],
   "source": []
  }
 ],
 "metadata": {
  "kernelspec": {
   "display_name": "Python 3",
   "language": "python",
   "name": "python3"
  },
  "language_info": {
   "codemirror_mode": {
    "name": "ipython",
    "version": 3
   },
   "file_extension": ".py",
   "mimetype": "text/x-python",
   "name": "python",
   "nbconvert_exporter": "python",
   "pygments_lexer": "ipython3",
   "version": "3.7.3"
  }
 },
 "nbformat": 4,
 "nbformat_minor": 2
}
