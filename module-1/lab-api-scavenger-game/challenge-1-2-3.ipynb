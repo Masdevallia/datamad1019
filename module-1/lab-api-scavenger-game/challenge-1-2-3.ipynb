{
 "cells": [
  {
   "cell_type": "markdown",
   "metadata": {},
   "source": [
    "# Lab | API Scavenger Game"
   ]
  },
  {
   "cell_type": "code",
   "execution_count": 1,
   "metadata": {},
   "outputs": [],
   "source": [
    "import os\n",
    "from dotenv import load_dotenv\n",
    "load_dotenv()\n",
    "\n",
    "# https://developer.github.com/v3/\n",
    "def githubRequestAuthorized(resource):\n",
    "    authToken = os.getenv(\"GITHUB_API_TOKEN\")\n",
    "    if not authToken:\n",
    "        raise ValueError(\"NECESITAS UN TOKEN\")\n",
    "    else:\n",
    "        print(\"We have a github token: \", authToken[0:4])\n",
    "    headers = {\n",
    "        \"Authorization\": \"token {}\".format(authToken)\n",
    "    }\n",
    "    url = \"https://api.github.com{}\".format(resource)\n",
    "    print(\"Requesting authorized {}\".format(url))\n",
    "    res = requests.get(url, headers=headers)\n",
    "    return res\n"
   ]
  },
  {
   "cell_type": "code",
   "execution_count": 2,
   "metadata": {},
   "outputs": [
    {
     "name": "stdout",
     "output_type": "stream",
     "text": [
      "We have a github token:  29d9\n",
      "Requesting authorized https://api.github.com/repos/ironhack-datalabs/datamad1019\n",
      "datamad1019\n",
      "Jupyter Notebook\n"
     ]
    }
   ],
   "source": [
    "import requests\n",
    "\n",
    "# data = githubRequestAuthorized(\"/users/ironhack-datalabs/repos\").json()\n",
    "data = githubRequestAuthorized(\"/repos/ironhack-datalabs/datamad1019\").json()\n",
    "print(data['name']) # 'datamad1019'\n",
    "print(data['language']) # 'Jupyter Notebook'"
   ]
  },
  {
   "cell_type": "markdown",
   "metadata": {},
   "source": [
    "## Challenge 1: Fork Languages\n",
    "\n",
    "You will find out how many programming languages are used among all the forks created from the main lab repo of your bootcamp. You will:\n",
    "\n",
    "* Obtain the full list of forks created from the main lab repo via Github API.\n",
    "* Loop the JSON response to find out the language attribute of each fork. Use an array to store the language attributes of each fork. Hint: Each language should appear only once in your array.\n",
    "* Print the language array."
   ]
  },
  {
   "cell_type": "code",
   "execution_count": 3,
   "metadata": {},
   "outputs": [
    {
     "name": "stdout",
     "output_type": "stream",
     "text": [
      "We have a github token:  29d9\n",
      "Requesting authorized https://api.github.com/repos/ironhack-datalabs/datamad1019/forks\n"
     ]
    }
   ],
   "source": [
    "# https://developer.github.com/v3/repos/forks/\n",
    "# GET /repos/:owner/:repo/forks\n",
    "dataforks = githubRequestAuthorized(\"/repos/ironhack-datalabs/datamad1019/forks\").json()"
   ]
  },
  {
   "cell_type": "code",
   "execution_count": 4,
   "metadata": {},
   "outputs": [
    {
     "name": "stdout",
     "output_type": "stream",
     "text": [
      "['begoechavarren/datamad1019', 'mariobru/datamad1019', 'jlmingo/datamad1019', 'Ovion/datamad1019', 'ToniPons97/datamad1019', 'noeliacarrion/datamad1019', 'mariaadradosr/datamad1019', 'Juliopdata/datamad1019', 'guzmanueco/datamad1019', 'blancaalcala/datamad1019', 'AlexMndzF/datamad1019', 'David-Fde/datamad1019', 'MaikaRG/datamad1019', 'Turandot123/datamad1019', 'isagc/datamad1019', 'alfpml/datamad1019', 'mermora97/datamad1019', 'jm-cruz-d/datamad1019', 'blancalluch/datamad1019', 'albertovpd/datamad1019', 'mariaversin/datamad1019', 'seorakwon/datamad1019', 'Jpereza24/datamad1019', 'castares/datamad1019', 'progameitor/datamad1019', 'Masdevallia/datamad1019', 'cprietosegura/datamad1019', 'jgph91/datamad1019', 'alvarorivasg/datamad1019', 'Clapiniella/datamad1019']\n"
     ]
    }
   ],
   "source": [
    "print([e['full_name'] for e in dataforks])"
   ]
  },
  {
   "cell_type": "code",
   "execution_count": 5,
   "metadata": {},
   "outputs": [
    {
     "name": "stdout",
     "output_type": "stream",
     "text": [
      "{'Jupyter Notebook', None}\n"
     ]
    }
   ],
   "source": [
    "print(set([e['language'] for e in dataforks]))"
   ]
  },
  {
   "cell_type": "code",
   "execution_count": 23,
   "metadata": {},
   "outputs": [
    {
     "name": "stdout",
     "output_type": "stream",
     "text": [
      "We have a github token:  29d9\n",
      "Requesting authorized https://api.github.com/repos/ironhack-datalabs/madrid-oct-2018/forks\n",
      "{'Jupyter Notebook', 'Python', 'HTML'}\n"
     ]
    }
   ],
   "source": [
    "# REPO: madrid-oct-2018\n",
    "dataforks2 = githubRequestAuthorized(\"/repos/ironhack-datalabs/madrid-oct-2018/forks\").json()\n",
    "print(set([e['language'] for e in dataforks2]))"
   ]
  },
  {
   "cell_type": "markdown",
   "metadata": {},
   "source": [
    "## Challenge 2: Count Commits\n",
    "\n",
    "Count how many commits were made in the past **year**.\n",
    "\n",
    "1. Obtain all the commits made in the past year via API, which is a JSON array that contains multiple commit objects.\n",
    "1. Count how many commit objects are contained in the array."
   ]
  },
  {
   "cell_type": "code",
   "execution_count": 6,
   "metadata": {},
   "outputs": [
    {
     "name": "stdout",
     "output_type": "stream",
     "text": [
      "We have a github token:  29d9\n",
      "Requesting authorized https://api.github.com/repos/ironhack-datalabs/datamad1019/commits?since2018-11-06\n"
     ]
    }
   ],
   "source": [
    "# https://developer.github.com/v3/repos/commits/\n",
    "# GET /repos/:owner/:repo/commits\n",
    "datacommits = githubRequestAuthorized(\"/repos/ironhack-datalabs/datamad1019/commits?since2018-11-06\").json()"
   ]
  },
  {
   "cell_type": "code",
   "execution_count": 7,
   "metadata": {},
   "outputs": [
    {
     "data": {
      "text/plain": [
       "30"
      ]
     },
     "execution_count": 7,
     "metadata": {},
     "output_type": "execute_result"
    }
   ],
   "source": [
    "# All commits made in the past year:\n",
    "len(datacommits)"
   ]
  },
  {
   "cell_type": "markdown",
   "metadata": {},
   "source": [
    "## Challenge 3: Hidden Cold Joke\n",
    "\n",
    "Using Python, call Github API to find out the cold joke contained in the 24 secret files in the following repo:\n",
    "https://github.com/ironhack-datalabs/scavenger"
   ]
  },
  {
   "cell_type": "code",
   "execution_count": 41,
   "metadata": {},
   "outputs": [
    {
     "name": "stdout",
     "output_type": "stream",
     "text": [
      "We have a github token:  29d9\n",
      "Requesting authorized https://api.github.com/repos/ironhack-datalabs/scavenger/contents\n"
     ]
    }
   ],
   "source": [
    "datascavenger = githubRequestAuthorized(\"/repos/ironhack-datalabs/scavenger/contents\").json()"
   ]
  },
  {
   "cell_type": "code",
   "execution_count": 45,
   "metadata": {},
   "outputs": [
    {
     "name": "stdout",
     "output_type": "stream",
     "text": [
      "['15024', '15534', '17020', '30351', '40303', '44639', '45525', '47222', '47830', '49418', '50896', '55417', '55685', '60224', '64880', '66032', '68848', '70751', '70985', '88596', '89046', '89338', '91701', '97881', '98750']\n"
     ]
    }
   ],
   "source": [
    "folder = [e['name'] for e in datascavenger if e['name']!= '.gitignore']\n",
    "print(folder)"
   ]
  },
  {
   "cell_type": "code",
   "execution_count": 46,
   "metadata": {},
   "outputs": [
    {
     "name": "stdout",
     "output_type": "stream",
     "text": [
      "['15024', '15534', '17020', '30351', '40303', '44639', '45525', '47222', '47830', '49418', '50896', '55417', '55685', '60224', '64880', '66032', '68848', '70751', '70985', '88596', '89046', '89338', '91701', '97881', '98750']\n"
     ]
    }
   ],
   "source": [
    "path = [e['path'] for e in datascavenger if e['name']!= '.gitignore']\n",
    "print(path)"
   ]
  },
  {
   "cell_type": "code",
   "execution_count": null,
   "metadata": {},
   "outputs": [],
   "source": [
    "lista = []\n",
    "for e in folder:\n",
    "    datascavenger_folders = githubRequestAuthorized(\"/repos/ironhack-datalabs/scavenger/contents/{}\".format(e)).json()\n",
    "    lista.append([e['name'] for e in datascavenger_folders])"
   ]
  },
  {
   "cell_type": "code",
   "execution_count": 89,
   "metadata": {},
   "outputs": [
    {
     "name": "stdout",
     "output_type": "stream",
     "text": [
      "We have a github token:  29d9\n",
      "Requesting authorized https://api.github.com/repos/ironhack-datalabs/scavenger/contents/15024\n",
      "['.0006.scavengerhunt']\n",
      "We have a github token:  29d9\n",
      "Requesting authorized https://api.github.com/repos/ironhack-datalabs/scavenger/contents/15024/.0006.scavengerhunt\n",
      "We have a github token:  29d9\n",
      "Requesting authorized https://api.github.com/repos/ironhack-datalabs/scavenger/contents/15534\n",
      "['.0008.scavengerhunt', '.0012.scavengerhunt']\n",
      "We have a github token:  29d9\n",
      "Requesting authorized https://api.github.com/repos/ironhack-datalabs/scavenger/contents/15534/.0008.scavengerhunt\n",
      "We have a github token:  29d9\n",
      "Requesting authorized https://api.github.com/repos/ironhack-datalabs/scavenger/contents/15534/.0012.scavengerhunt\n",
      "We have a github token:  29d9\n",
      "Requesting authorized https://api.github.com/repos/ironhack-datalabs/scavenger/contents/17020\n",
      "['.0007.scavengerhunt']\n",
      "We have a github token:  29d9\n",
      "Requesting authorized https://api.github.com/repos/ironhack-datalabs/scavenger/contents/17020/.0007.scavengerhunt\n",
      "We have a github token:  29d9\n",
      "Requesting authorized https://api.github.com/repos/ironhack-datalabs/scavenger/contents/30351\n",
      "['.0021.scavengerhunt']\n",
      "We have a github token:  29d9\n",
      "Requesting authorized https://api.github.com/repos/ironhack-datalabs/scavenger/contents/30351/.0021.scavengerhunt\n",
      "We have a github token:  29d9\n",
      "Requesting authorized https://api.github.com/repos/ironhack-datalabs/scavenger/contents/40303\n",
      "['.0022.scavengerhunt']\n",
      "We have a github token:  29d9\n",
      "Requesting authorized https://api.github.com/repos/ironhack-datalabs/scavenger/contents/40303/.0022.scavengerhunt\n",
      "We have a github token:  29d9\n",
      "Requesting authorized https://api.github.com/repos/ironhack-datalabs/scavenger/contents/44639\n",
      "['.0005.scavengerhunt']\n",
      "We have a github token:  29d9\n",
      "Requesting authorized https://api.github.com/repos/ironhack-datalabs/scavenger/contents/44639/.0005.scavengerhunt\n",
      "We have a github token:  29d9\n",
      "Requesting authorized https://api.github.com/repos/ironhack-datalabs/scavenger/contents/45525\n",
      "['.0018.scavengerhunt']\n",
      "We have a github token:  29d9\n",
      "Requesting authorized https://api.github.com/repos/ironhack-datalabs/scavenger/contents/45525/.0018.scavengerhunt\n",
      "We have a github token:  29d9\n",
      "Requesting authorized https://api.github.com/repos/ironhack-datalabs/scavenger/contents/47222\n",
      "['.0016.scavengerhunt', '.0024.scavengerhunt']\n",
      "We have a github token:  29d9\n",
      "Requesting authorized https://api.github.com/repos/ironhack-datalabs/scavenger/contents/47222/.0016.scavengerhunt\n",
      "We have a github token:  29d9\n",
      "Requesting authorized https://api.github.com/repos/ironhack-datalabs/scavenger/contents/47222/.0024.scavengerhunt\n",
      "We have a github token:  29d9\n",
      "Requesting authorized https://api.github.com/repos/ironhack-datalabs/scavenger/contents/47830\n",
      "['.0010.scavengerhunt']\n",
      "We have a github token:  29d9\n",
      "Requesting authorized https://api.github.com/repos/ironhack-datalabs/scavenger/contents/47830/.0010.scavengerhunt\n",
      "We have a github token:  29d9\n",
      "Requesting authorized https://api.github.com/repos/ironhack-datalabs/scavenger/contents/49418\n",
      "['.0014.scavengerhunt']\n",
      "We have a github token:  29d9\n",
      "Requesting authorized https://api.github.com/repos/ironhack-datalabs/scavenger/contents/49418/.0014.scavengerhunt\n",
      "We have a github token:  29d9\n",
      "Requesting authorized https://api.github.com/repos/ironhack-datalabs/scavenger/contents/50896\n",
      "['.0011.scavengerhunt']\n",
      "We have a github token:  29d9\n",
      "Requesting authorized https://api.github.com/repos/ironhack-datalabs/scavenger/contents/50896/.0011.scavengerhunt\n",
      "We have a github token:  29d9\n",
      "Requesting authorized https://api.github.com/repos/ironhack-datalabs/scavenger/contents/55417\n",
      "['.0023.scavengerhunt']\n",
      "We have a github token:  29d9\n",
      "Requesting authorized https://api.github.com/repos/ironhack-datalabs/scavenger/contents/55417/.0023.scavengerhunt\n",
      "We have a github token:  29d9\n",
      "Requesting authorized https://api.github.com/repos/ironhack-datalabs/scavenger/contents/55685\n",
      "['.0020.scavengerhunt']\n",
      "We have a github token:  29d9\n",
      "Requesting authorized https://api.github.com/repos/ironhack-datalabs/scavenger/contents/55685/.0020.scavengerhunt\n",
      "We have a github token:  29d9\n",
      "Requesting authorized https://api.github.com/repos/ironhack-datalabs/scavenger/contents/60224\n",
      "['.0003.scavengerhunt']\n",
      "We have a github token:  29d9\n",
      "Requesting authorized https://api.github.com/repos/ironhack-datalabs/scavenger/contents/60224/.0003.scavengerhunt\n",
      "We have a github token:  29d9\n",
      "Requesting authorized https://api.github.com/repos/ironhack-datalabs/scavenger/contents/64880\n",
      "[]\n",
      "We have a github token:  29d9\n",
      "Requesting authorized https://api.github.com/repos/ironhack-datalabs/scavenger/contents/66032\n",
      "[]\n",
      "We have a github token:  29d9\n",
      "Requesting authorized https://api.github.com/repos/ironhack-datalabs/scavenger/contents/68848\n",
      "['.0004.scavengerhunt']\n",
      "We have a github token:  29d9\n",
      "Requesting authorized https://api.github.com/repos/ironhack-datalabs/scavenger/contents/68848/.0004.scavengerhunt\n",
      "We have a github token:  29d9\n",
      "Requesting authorized https://api.github.com/repos/ironhack-datalabs/scavenger/contents/70751\n",
      "['.0019.scavengerhunt']\n",
      "We have a github token:  29d9\n",
      "Requesting authorized https://api.github.com/repos/ironhack-datalabs/scavenger/contents/70751/.0019.scavengerhunt\n",
      "We have a github token:  29d9\n",
      "Requesting authorized https://api.github.com/repos/ironhack-datalabs/scavenger/contents/70985\n",
      "['.0017.scavengerhunt']\n",
      "We have a github token:  29d9\n",
      "Requesting authorized https://api.github.com/repos/ironhack-datalabs/scavenger/contents/70985/.0017.scavengerhunt\n",
      "We have a github token:  29d9\n",
      "Requesting authorized https://api.github.com/repos/ironhack-datalabs/scavenger/contents/88596\n",
      "['.0002.scavengerhunt']\n",
      "We have a github token:  29d9\n",
      "Requesting authorized https://api.github.com/repos/ironhack-datalabs/scavenger/contents/88596/.0002.scavengerhunt\n",
      "We have a github token:  29d9\n",
      "Requesting authorized https://api.github.com/repos/ironhack-datalabs/scavenger/contents/89046\n",
      "[]\n",
      "We have a github token:  29d9\n",
      "Requesting authorized https://api.github.com/repos/ironhack-datalabs/scavenger/contents/89338\n",
      "['.0013.scavengerhunt']\n",
      "We have a github token:  29d9\n",
      "Requesting authorized https://api.github.com/repos/ironhack-datalabs/scavenger/contents/89338/.0013.scavengerhunt\n",
      "We have a github token:  29d9\n",
      "Requesting authorized https://api.github.com/repos/ironhack-datalabs/scavenger/contents/91701\n",
      "['.0015.scavengerhunt']\n",
      "We have a github token:  29d9\n",
      "Requesting authorized https://api.github.com/repos/ironhack-datalabs/scavenger/contents/91701/.0015.scavengerhunt\n",
      "We have a github token:  29d9\n",
      "Requesting authorized https://api.github.com/repos/ironhack-datalabs/scavenger/contents/97881\n",
      "['.0009.scavengerhunt']\n",
      "We have a github token:  29d9\n",
      "Requesting authorized https://api.github.com/repos/ironhack-datalabs/scavenger/contents/97881/.0009.scavengerhunt\n",
      "We have a github token:  29d9\n",
      "Requesting authorized https://api.github.com/repos/ironhack-datalabs/scavenger/contents/98750\n",
      "['.0001.scavengerhunt']\n",
      "We have a github token:  29d9\n",
      "Requesting authorized https://api.github.com/repos/ironhack-datalabs/scavenger/contents/98750/.0001.scavengerhunt\n"
     ]
    }
   ],
   "source": [
    "listafilenames = []\n",
    "listafilecontent = []\n",
    "listaencoding = []\n",
    "\n",
    "import re\n",
    "for e in folder:\n",
    "    datascavenger_folders = githubRequestAuthorized(\"/repos/ironhack-datalabs/scavenger/contents/{}\".format(e)).json()\n",
    "    aux = [e['name'] for e in datascavenger_folders]\n",
    "    aux = \"\".join(aux)\n",
    "    file = re.findall('\\.\\d\\d\\d\\d.scavengerhunt', aux)\n",
    "    print(file)\n",
    "    for i in range(len(file)):\n",
    "        datascavenger_file = githubRequestAuthorized(\"/repos/ironhack-datalabs/scavenger/contents/{}/{}\".format(e,file[i])).json()\n",
    "        listafilenames.append(datascavenger_file['name'])\n",
    "        listafilecontent.append(datascavenger_file['content'])\n",
    "        listaencoding.append(datascavenger_file['encoding'])\n"
   ]
  },
  {
   "cell_type": "code",
   "execution_count": 90,
   "metadata": {},
   "outputs": [
    {
     "name": "stdout",
     "output_type": "stream",
     "text": [
      "['base64', 'base64', 'base64', 'base64', 'base64', 'base64', 'base64', 'base64', 'base64', 'base64', 'base64', 'base64', 'base64', 'base64', 'base64', 'base64', 'base64', 'base64', 'base64', 'base64', 'base64', 'base64', 'base64', 'base64']\n",
      "['.0006.scavengerhunt', '.0008.scavengerhunt', '.0012.scavengerhunt', '.0007.scavengerhunt', '.0021.scavengerhunt', '.0022.scavengerhunt', '.0005.scavengerhunt', '.0018.scavengerhunt', '.0016.scavengerhunt', '.0024.scavengerhunt', '.0010.scavengerhunt', '.0014.scavengerhunt', '.0011.scavengerhunt', '.0023.scavengerhunt', '.0020.scavengerhunt', '.0003.scavengerhunt', '.0004.scavengerhunt', '.0019.scavengerhunt', '.0017.scavengerhunt', '.0002.scavengerhunt', '.0013.scavengerhunt', '.0015.scavengerhunt', '.0009.scavengerhunt', '.0001.scavengerhunt']\n",
      "['b2YK\\n', 'c3BlbnQK\\n', 'MjAK\\n', 'dGltZQo=\\n', 'bmVlZAo=\\n', 'dG8K\\n', 'cGVyY2VudAo=\\n', 'Y29tcGxhaW5pbmcK\\n', 'aXMK\\n', 'ZGF0YS4K\\n', 'cHJlcGFyaW5nCg==\\n', 'b2YK\\n', 'ZGF0YSwK\\n', 'cHJlcGFyZQo=\\n', 'dGhlCg==\\n', 'c2NpZW5jZSwK\\n', 'ODAK\\n', 'YWJvdXQK\\n', 'c3BlbnQK\\n', 'ZGF0YQo=\\n', 'cGVyY2VudAo=\\n', 'dGltZQo=\\n', 'aXMK\\n', 'SW4K\\n']\n"
     ]
    }
   ],
   "source": [
    "print(listaencoding)\n",
    "print(listafilenames)\n",
    "print(listafilecontent)"
   ]
  },
  {
   "cell_type": "code",
   "execution_count": 82,
   "metadata": {},
   "outputs": [
    {
     "name": "stdout",
     "output_type": "stream",
     "text": [
      "24\n",
      "24\n"
     ]
    }
   ],
   "source": [
    "print(len(listafilenames))\n",
    "print(len(listafilecontent))"
   ]
  },
  {
   "cell_type": "code",
   "execution_count": 97,
   "metadata": {},
   "outputs": [],
   "source": [
    "zipped = zip(listafilenames,listafilecontent)\n",
    "sortedzipped = sorted(zipped)"
   ]
  },
  {
   "cell_type": "code",
   "execution_count": 98,
   "metadata": {},
   "outputs": [
    {
     "name": "stdout",
     "output_type": "stream",
     "text": [
      "[('.0001.scavengerhunt', 'SW4K\\n'), ('.0002.scavengerhunt', 'ZGF0YQo=\\n'), ('.0003.scavengerhunt', 'c2NpZW5jZSwK\\n'), ('.0004.scavengerhunt', 'ODAK\\n'), ('.0005.scavengerhunt', 'cGVyY2VudAo=\\n'), ('.0006.scavengerhunt', 'b2YK\\n'), ('.0007.scavengerhunt', 'dGltZQo=\\n'), ('.0008.scavengerhunt', 'c3BlbnQK\\n'), ('.0009.scavengerhunt', 'aXMK\\n'), ('.0010.scavengerhunt', 'cHJlcGFyaW5nCg==\\n'), ('.0011.scavengerhunt', 'ZGF0YSwK\\n'), ('.0012.scavengerhunt', 'MjAK\\n'), ('.0013.scavengerhunt', 'cGVyY2VudAo=\\n'), ('.0014.scavengerhunt', 'b2YK\\n'), ('.0015.scavengerhunt', 'dGltZQo=\\n'), ('.0016.scavengerhunt', 'aXMK\\n'), ('.0017.scavengerhunt', 'c3BlbnQK\\n'), ('.0018.scavengerhunt', 'Y29tcGxhaW5pbmcK\\n'), ('.0019.scavengerhunt', 'YWJvdXQK\\n'), ('.0020.scavengerhunt', 'dGhlCg==\\n'), ('.0021.scavengerhunt', 'bmVlZAo=\\n'), ('.0022.scavengerhunt', 'dG8K\\n'), ('.0023.scavengerhunt', 'cHJlcGFyZQo=\\n'), ('.0024.scavengerhunt', 'ZGF0YS4K\\n')]\n"
     ]
    }
   ],
   "source": [
    "print(sortedzipped)"
   ]
  },
  {
   "cell_type": "code",
   "execution_count": 92,
   "metadata": {},
   "outputs": [],
   "source": [
    "import base64"
   ]
  },
  {
   "cell_type": "code",
   "execution_count": 108,
   "metadata": {},
   "outputs": [
    {
     "name": "stdout",
     "output_type": "stream",
     "text": [
      "['SW4K\\n', 'ZGF0YQo=\\n', 'c2NpZW5jZSwK\\n', 'ODAK\\n', 'cGVyY2VudAo=\\n', 'b2YK\\n', 'dGltZQo=\\n', 'c3BlbnQK\\n', 'aXMK\\n', 'cHJlcGFyaW5nCg==\\n', 'ZGF0YSwK\\n', 'MjAK\\n', 'cGVyY2VudAo=\\n', 'b2YK\\n', 'dGltZQo=\\n', 'aXMK\\n', 'c3BlbnQK\\n', 'Y29tcGxhaW5pbmcK\\n', 'YWJvdXQK\\n', 'dGhlCg==\\n', 'bmVlZAo=\\n', 'dG8K\\n', 'cHJlcGFyZQo=\\n', 'ZGF0YS4K\\n']\n"
     ]
    },
    {
     "data": {
      "text/plain": [
       "'SW4K\\nZGF0YQo=\\nc2NpZW5jZSwK\\nODAK\\ncGVyY2VudAo=\\nb2YK\\ndGltZQo=\\nc3BlbnQK\\naXMK\\ncHJlcGFyaW5nCg==\\nZGF0YSwK\\nMjAK\\ncGVyY2VudAo=\\nb2YK\\ndGltZQo=\\naXMK\\nc3BlbnQK\\nY29tcGxhaW5pbmcK\\nYWJvdXQK\\ndGhlCg==\\nbmVlZAo=\\ndG8K\\ncHJlcGFyZQo=\\nZGF0YS4K\\n'"
      ]
     },
     "execution_count": 108,
     "metadata": {},
     "output_type": "execute_result"
    }
   ],
   "source": [
    "contents = []\n",
    "for i in range(len(sortedzipped)):\n",
    "    contents.append(sortedzipped[i][1])\n",
    "print(contents)\n",
    "\"\".join(contents)"
   ]
  },
  {
   "cell_type": "code",
   "execution_count": 125,
   "metadata": {},
   "outputs": [],
   "source": [
    "otralista = []\n",
    "for e in contents:\n",
    "    otralista.append(base64.b64decode(e))"
   ]
  },
  {
   "cell_type": "code",
   "execution_count": 126,
   "metadata": {},
   "outputs": [
    {
     "data": {
      "text/plain": [
       "[b'In\\n',\n",
       " b'data\\n',\n",
       " b'science,\\n',\n",
       " b'80\\n',\n",
       " b'percent\\n',\n",
       " b'of\\n',\n",
       " b'time\\n',\n",
       " b'spent\\n',\n",
       " b'is\\n',\n",
       " b'preparing\\n',\n",
       " b'data,\\n',\n",
       " b'20\\n',\n",
       " b'percent\\n',\n",
       " b'of\\n',\n",
       " b'time\\n',\n",
       " b'is\\n',\n",
       " b'spent\\n',\n",
       " b'complaining\\n',\n",
       " b'about\\n',\n",
       " b'the\\n',\n",
       " b'need\\n',\n",
       " b'to\\n',\n",
       " b'prepare\\n',\n",
       " b'data.\\n']"
      ]
     },
     "execution_count": 126,
     "metadata": {},
     "output_type": "execute_result"
    }
   ],
   "source": [
    "otralista"
   ]
  },
  {
   "cell_type": "code",
   "execution_count": 128,
   "metadata": {},
   "outputs": [],
   "source": [
    "yuhuporfin = []\n",
    "for e in otralista:\n",
    "    yuhuporfin.append(e.decode('UTF-8'))"
   ]
  },
  {
   "cell_type": "code",
   "execution_count": 131,
   "metadata": {},
   "outputs": [
    {
     "data": {
      "text/plain": [
       "['In\\n',\n",
       " 'data\\n',\n",
       " 'science,\\n',\n",
       " '80\\n',\n",
       " 'percent\\n',\n",
       " 'of\\n',\n",
       " 'time\\n',\n",
       " 'spent\\n',\n",
       " 'is\\n',\n",
       " 'preparing\\n',\n",
       " 'data,\\n',\n",
       " '20\\n',\n",
       " 'percent\\n',\n",
       " 'of\\n',\n",
       " 'time\\n',\n",
       " 'is\\n',\n",
       " 'spent\\n',\n",
       " 'complaining\\n',\n",
       " 'about\\n',\n",
       " 'the\\n',\n",
       " 'need\\n',\n",
       " 'to\\n',\n",
       " 'prepare\\n',\n",
       " 'data.\\n']"
      ]
     },
     "execution_count": 131,
     "metadata": {},
     "output_type": "execute_result"
    }
   ],
   "source": [
    "yuhuporfin"
   ]
  },
  {
   "cell_type": "code",
   "execution_count": 141,
   "metadata": {},
   "outputs": [],
   "source": [
    "yuhuporfinahorasi = []\n",
    "for e in yuhuporfin:\n",
    "    yuhuporfinahorasi.append(re.sub('\\\\n','',e))"
   ]
  },
  {
   "cell_type": "code",
   "execution_count": 142,
   "metadata": {},
   "outputs": [
    {
     "data": {
      "text/plain": [
       "'In data science, 80 percent of time spent is preparing data, 20 percent of time is spent complaining about the need to prepare data.'"
      ]
     },
     "execution_count": 142,
     "metadata": {},
     "output_type": "execute_result"
    }
   ],
   "source": [
    "' '.join(yuhuporfinahorasi)"
   ]
  },
  {
   "cell_type": "markdown",
   "metadata": {},
   "source": [
    "# 'In data science, 80 percent of time spent is preparing data, 20 percent of time is spent complaining about the need to prepare data.'"
   ]
  }
 ],
 "metadata": {
  "kernelspec": {
   "display_name": "Python 3",
   "language": "python",
   "name": "python3"
  },
  "language_info": {
   "codemirror_mode": {
    "name": "ipython",
    "version": 3
   },
   "file_extension": ".py",
   "mimetype": "text/x-python",
   "name": "python",
   "nbconvert_exporter": "python",
   "pygments_lexer": "ipython3",
   "version": "3.7.3"
  }
 },
 "nbformat": 4,
 "nbformat_minor": 2
}
