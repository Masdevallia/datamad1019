{
 "cells": [
  {
   "cell_type": "markdown",
   "metadata": {},
   "source": [
    "# Web Scraping Lab\n",
    "\n",
    "You will find in this notebook some scrapy exercises to practise your scraping skills.\n",
    "\n",
    "**Tips:**\n",
    "\n",
    "- Check the response status code for each request to ensure you have obtained the intended contennt.\n",
    "- Print the response text in each request to understand the kind of info you are getting and its format.\n",
    "- Check for patterns in the response text to extract the data/info requested in each question.\n",
    "- Visit each url and take a look at its source through Chrome DevTools. You'll need to identify the html tags, special class names etc. used for the html content you are expected to extract."
   ]
  },
  {
   "cell_type": "markdown",
   "metadata": {},
   "source": [
    "- [Requests library](http://docs.python-requests.org/en/master/#the-user-guide) documentation \n",
    "- [Beautiful Soup Doc](https://www.crummy.com/software/BeautifulSoup/bs4/doc/)\n",
    "- [Urllib](https://docs.python.org/3/library/urllib.html#module-urllib)\n",
    "- [re lib](https://docs.python.org/3/library/re.html)\n",
    "- [lxml lib](https://lxml.de/)\n",
    "- [Scrapy](https://scrapy.org/)\n",
    "- [List of HTTP status codes](https://en.wikipedia.org/wiki/List_of_HTTP_status_codes)\n",
    "- [HTML basics](http://www.simplehtmlguide.com/cheatsheet.php)\n",
    "- [CSS basics](https://www.cssbasics.com/#page_start)"
   ]
  },
  {
   "cell_type": "markdown",
   "metadata": {},
   "source": [
    "#### Below are the libraries and modules you may need. `requests`,  `BeautifulSoup` and `pandas` are imported for you. If you prefer to use additional libraries feel free to uncomment them."
   ]
  },
  {
   "cell_type": "code",
   "execution_count": 1,
   "metadata": {},
   "outputs": [],
   "source": [
    "import requests\n",
    "from bs4 import BeautifulSoup\n",
    "import pandas as pd\n",
    "from pprint import pprint\n",
    "from lxml import html\n",
    "from lxml.html import fromstring\n",
    "import urllib.request\n",
    "from urllib.request import urlopen\n",
    "import random\n",
    "import re\n",
    "# import scrapy # No he podido instalarla. Luego lo miro en casa."
   ]
  },
  {
   "cell_type": "markdown",
   "metadata": {},
   "source": [
    "#### Download, parse (using BeautifulSoup), and print the content from the Trending Developers page from GitHub:"
   ]
  },
  {
   "cell_type": "code",
   "execution_count": 134,
   "metadata": {},
   "outputs": [],
   "source": [
    "# This is the url you will scrape in this exercise\n",
    "url = 'https://github.com/trending/developers'"
   ]
  },
  {
   "cell_type": "code",
   "execution_count": 135,
   "metadata": {},
   "outputs": [],
   "source": [
    "#your code\n",
    "res = requests.get(url)\n",
    "html = res.text"
   ]
  },
  {
   "cell_type": "code",
   "execution_count": 136,
   "metadata": {},
   "outputs": [],
   "source": [
    "soup = BeautifulSoup(html, 'html.parser')"
   ]
  },
  {
   "cell_type": "markdown",
   "metadata": {},
   "source": [
    "#### Display the names of the trending developers retrieved in the previous step.\n",
    "\n",
    "Your output should be a Python list of developer names. Each name should not contain any html tag.\n",
    "\n",
    "**Instructions:**\n",
    "\n",
    "1. Find out the html tag and class names used for the developer names. You can achieve this using Chrome DevTools.\n",
    "\n",
    "1. Use BeautifulSoup to extract all the html elements that contain the developer names.\n",
    "\n",
    "1. Use string manipulation techniques to replace whitespaces and linebreaks (i.e. `\\n`) in the *text* of each html element. Use a list to store the clean names.\n",
    "\n",
    "1. Print the list of names.\n",
    "\n",
    "Your output should look like below:\n",
    "\n",
    "```\n",
    "['trimstray (@trimstray)',\n",
    " 'joewalnes (JoeWalnes)',\n",
    " 'charlax (Charles-AxelDein)',\n",
    " 'ForrestKnight (ForrestKnight)',\n",
    " 'revery-ui (revery-ui)',\n",
    " 'alibaba (Alibaba)',\n",
    " 'Microsoft (Microsoft)',\n",
    " 'github (GitHub)',\n",
    " 'facebook (Facebook)',\n",
    " 'boazsegev (Bo)',\n",
    " 'google (Google)',\n",
    " 'cloudfetch',\n",
    " 'sindresorhus (SindreSorhus)',\n",
    " 'tensorflow',\n",
    " 'apache (TheApacheSoftwareFoundation)',\n",
    " 'DevonCrawford (DevonCrawford)',\n",
    " 'ARMmbed (ArmMbed)',\n",
    " 'vuejs (vuejs)',\n",
    " 'fastai (fast.ai)',\n",
    " 'QiShaoXuan (Qi)',\n",
    " 'joelparkerhenderson (JoelParkerHenderson)',\n",
    " 'torvalds (LinusTorvalds)',\n",
    " 'CyC2018',\n",
    " 'komeiji-satori (神楽坂覚々)',\n",
    " 'script-8']\n",
    " ```"
   ]
  },
  {
   "cell_type": "code",
   "execution_count": 162,
   "metadata": {},
   "outputs": [
    {
     "name": "stdout",
     "output_type": "stream",
     "text": [
      "['Emmanuel Garcia (blasten)', 'Hugo van Kemenade (hugovk)', 'Darío Kondratiuk (kblok)', 'Megan Marsh (SwampDragons)', 'Minko Gechev (mgechev)', 'William Falcon (williamFalcon)', 'Yoshifumi Kawai (neuecc)', 'Mateusz Burzyński (Andarist)', 'Sam Verschueren (SamVerschueren)', 'Whyrusleeping (whyrusleeping)', 'Holger Rapp (SirVer)', 'Francois Zaninotto (fzaninotto)', 'Dylan Vann (DylanVann)', 'Miek Gieben (miekg)', 'Richard Schneeman (schneems)', 'Alec Thomas (alecthomas)', '陈帅 (chenshuai2144)', 'François Beaufort (beaufortfrancois)', 'Tanner Linsley (tannerlinsley)', 'Erik Wijmans (erikwijmans)', 'Joshua Blum (joshblum)', 'Gabriel Aszalos (gbbr)', 'Rico Sta. Cruz (rstacruz)', 'Solly Ross (DirectXMan12)', 'Vinayak Mehta (vinayak-mehta)']\n"
     ]
    }
   ],
   "source": [
    "developers_list = []\n",
    "i = 1\n",
    "for e in range(25):\n",
    "    developer = soup.find_all('h1')[i]\n",
    "    developer_name = developer.find(\"a\").text\n",
    "    developer_nick = developer.find(\"a\").get('href')\n",
    "    developers_list.append(developer_name)\n",
    "    developers_list.append(developer_nick)\n",
    "    i += 2\n",
    "\n",
    "developers = ''.join(developers_list)\n",
    "developers = re.sub('\\\\n','',developers)\n",
    "developers = re.sub('/',' (',developers)\n",
    "developers = developers.split('            ')[1:]\n",
    "developers = [e+')' for e in developers]\n",
    "print(developers)"
   ]
  },
  {
   "cell_type": "markdown",
   "metadata": {},
   "source": [
    "#### Display the trending Python repositories in GitHub\n",
    "\n",
    "The steps to solve this problem is similar to the previous one except that you need to find out the repository names instead of developer names."
   ]
  },
  {
   "cell_type": "code",
   "execution_count": 163,
   "metadata": {},
   "outputs": [],
   "source": [
    "# This is the url you will scrape in this exercise\n",
    "url = 'https://github.com/trending/python?since=daily'"
   ]
  },
  {
   "cell_type": "code",
   "execution_count": 164,
   "metadata": {},
   "outputs": [],
   "source": [
    "#your code\n",
    "res = requests.get(url)\n",
    "html = res.text\n",
    "soup = BeautifulSoup(html, 'html.parser')"
   ]
  },
  {
   "cell_type": "code",
   "execution_count": 165,
   "metadata": {},
   "outputs": [
    {
     "name": "stdout",
     "output_type": "stream",
     "text": [
      "['deezer/spleeter', 'openai/gpt-2', 'PaddlePaddle/models', '0voice/interview_internal_reference', 'kubernetes-client/python', 'svjan5/GNNs-for-NLP', 'Linzaer/Ultra-Light-Fast-Generic-Face-Detector-1MB', 'huggingface/transformers', 'MalongTech/research-charnet', 'thorn-oss/perception', 'eastlakeside/interpy-zh', 'Azure/azure-cli', 'encode/django-rest-framework', 'wangzheng0822/algo', 'marshmallow-code/marshmallow', 'tensorflow/models', 'momika233/ClamAV_0Day_exploit', 'zihangdai/xlnet', 'sinovation/ZEN', 'shenweichen/DeepCTR', 'google-research/bert', 'geekcomputers/Python', 'facebookresearch/hydra', 'encode/httpx', 'charlesq34/pointnet2']\n"
     ]
    }
   ],
   "source": [
    "repo_list = []\n",
    "for i in range(1,26):\n",
    "    repo = soup.find_all('h1')[i]\n",
    "    repo2 = repo.find(\"a\").text\n",
    "    repo_list.append(repo2)\n",
    "repos = ''.join(repo_list)\n",
    "repos = re.sub('\\\\n','',repos)\n",
    "repos = repos.split('        ')[1:]\n",
    "\n",
    "repos_new = []\n",
    "for e in repos:\n",
    "    aux = re.sub('     ','',e)\n",
    "    aux = re.sub(' ','',e)\n",
    "    repos_new.append(aux)\n",
    "print(repos_new)"
   ]
  },
  {
   "cell_type": "markdown",
   "metadata": {},
   "source": [
    "#### Display all the image links from Walt Disney wikipedia page"
   ]
  },
  {
   "cell_type": "code",
   "execution_count": 2,
   "metadata": {},
   "outputs": [],
   "source": [
    "# This is the url you will scrape in this exercise\n",
    "url = 'https://en.wikipedia.org/wiki/Walt_Disney'"
   ]
  },
  {
   "cell_type": "code",
   "execution_count": 3,
   "metadata": {},
   "outputs": [],
   "source": [
    "#your code\n",
    "res = requests.get(url)\n",
    "html = res.text\n",
    "soup = BeautifulSoup(html, 'html.parser')"
   ]
  },
  {
   "cell_type": "code",
   "execution_count": 10,
   "metadata": {},
   "outputs": [
    {
     "name": "stdout",
     "output_type": "stream",
     "text": [
      "['//upload.wikimedia.org/wikipedia/en/thumb/e/e7/Cscr-featured.svg/20px-Cscr-featured.svg.png', '//upload.wikimedia.org/wikipedia/en/thumb/1/1b/Semi-protection-shackle.svg/20px-Semi-protection-shackle.svg.png', '//upload.wikimedia.org/wikipedia/commons/thumb/d/df/Walt_Disney_1946.JPG/220px-Walt_Disney_1946.JPG', '//upload.wikimedia.org/wikipedia/commons/thumb/8/87/Walt_Disney_1942_signature.svg/150px-Walt_Disney_1942_signature.svg.png', '//upload.wikimedia.org/wikipedia/commons/thumb/c/c4/Walt_Disney_envelope_ca._1921.jpg/220px-Walt_Disney_envelope_ca._1921.jpg', '//upload.wikimedia.org/wikipedia/commons/thumb/4/4d/Newman_Laugh-O-Gram_%281921%29.webm/220px-seek%3D2-Newman_Laugh-O-Gram_%281921%29.webm.jpg', '//upload.wikimedia.org/wikipedia/commons/thumb/0/0d/Trolley_Troubles_poster.jpg/170px-Trolley_Troubles_poster.jpg', '//upload.wikimedia.org/wikipedia/commons/thumb/7/71/Walt_Disney_and_his_cartoon_creation_%22Mickey_Mouse%22_-_National_Board_of_Review_Magazine.jpg/170px-Walt_Disney_and_his_cartoon_creation_%22Mickey_Mouse%22_-_National_Board_of_Review_Magazine.jpg', '//upload.wikimedia.org/wikipedia/en/thumb/4/4e/Steamboat-willie.jpg/170px-Steamboat-willie.jpg', '//upload.wikimedia.org/wikipedia/commons/thumb/5/57/Walt_Disney_1935.jpg/170px-Walt_Disney_1935.jpg', '//upload.wikimedia.org/wikipedia/commons/thumb/c/cd/Walt_Disney_Snow_white_1937_trailer_screenshot_%2813%29.jpg/220px-Walt_Disney_Snow_white_1937_trailer_screenshot_%2813%29.jpg', '//upload.wikimedia.org/wikipedia/commons/thumb/1/15/Disney_drawing_goofy.jpg/170px-Disney_drawing_goofy.jpg', '//upload.wikimedia.org/wikipedia/commons/thumb/1/13/DisneySchiphol1951.jpg/220px-DisneySchiphol1951.jpg', '//upload.wikimedia.org/wikipedia/commons/thumb/8/8c/WaltDisneyplansDisneylandDec1954.jpg/220px-WaltDisneyplansDisneylandDec1954.jpg', '//upload.wikimedia.org/wikipedia/commons/thumb/f/ff/Walt_disney_portrait_right.jpg/170px-Walt_disney_portrait_right.jpg', '//upload.wikimedia.org/wikipedia/commons/thumb/1/1a/Walt_Disney_Grave.JPG/170px-Walt_Disney_Grave.JPG', '//upload.wikimedia.org/wikipedia/commons/thumb/2/2d/Roy_O._Disney_with_Company_at_Press_Conference.jpg/170px-Roy_O._Disney_with_Company_at_Press_Conference.jpg', '//upload.wikimedia.org/wikipedia/commons/thumb/a/a9/Disney_Display_Case.JPG/170px-Disney_Display_Case.JPG', '//upload.wikimedia.org/wikipedia/commons/thumb/6/6c/Disney1968.jpg/170px-Disney1968.jpg', '//upload.wikimedia.org/wikipedia/en/thumb/8/8a/OOjs_UI_icon_edit-ltr-progressive.svg/10px-OOjs_UI_icon_edit-ltr-progressive.svg.png', '//upload.wikimedia.org/wikipedia/commons/thumb/d/da/Animation_disc.svg/30px-Animation_disc.svg.png', '//upload.wikimedia.org/wikipedia/en/thumb/6/69/P_vip.svg/29px-P_vip.svg.png', '//upload.wikimedia.org/wikipedia/commons/thumb/1/1a/Magic_Kingdom_castle.jpg/24px-Magic_Kingdom_castle.jpg', '//upload.wikimedia.org/wikipedia/en/thumb/e/e7/Video-x-generic.svg/30px-Video-x-generic.svg.png', '//upload.wikimedia.org/wikipedia/commons/thumb/a/a3/Flag_of_Los_Angeles_County%2C_California.svg/30px-Flag_of_Los_Angeles_County%2C_California.svg.png', '//upload.wikimedia.org/wikipedia/commons/thumb/8/8c/Blank_television_set.svg/30px-Blank_television_set.svg.png', '//upload.wikimedia.org/wikipedia/en/thumb/a/a4/Flag_of_the_United_States.svg/30px-Flag_of_the_United_States.svg.png', '//upload.wikimedia.org/wikipedia/en/thumb/4/4a/Commons-logo.svg/22px-Commons-logo.svg.png', '//upload.wikimedia.org/wikipedia/commons/thumb/f/fa/Wikiquote-logo.svg/25px-Wikiquote-logo.svg.png', '//upload.wikimedia.org/wikipedia/commons/thumb/f/ff/Wikidata-logo.svg/30px-Wikidata-logo.svg.png', '//upload.wikimedia.org/wikipedia/en/thumb/8/8a/OOjs_UI_icon_edit-ltr-progressive.svg/10px-OOjs_UI_icon_edit-ltr-progressive.svg.png', '//en.wikipedia.org/wiki/Special:CentralAutoLogin/start?type=1x1', '/static/images/wikimedia-button.png', '/static/images/poweredby_mediawiki_88x31.png']\n"
     ]
    }
   ],
   "source": [
    "links_list = []\n",
    "images = soup.find_all(\"img\")\n",
    "for e in images:\n",
    "    links_list.append(e.get('src'))\n",
    "print(links_list)"
   ]
  },
  {
   "cell_type": "code",
   "execution_count": 12,
   "metadata": {},
   "outputs": [
    {
     "data": {
      "text/html": [
       "<img src=\"//upload.wikimedia.org/wikipedia/commons/thumb/d/df/Walt_Disney_1946.JPG/220px-Walt_Disney_1946.JPG\"/>"
      ],
      "text/plain": [
       "<IPython.core.display.Image object>"
      ]
     },
     "metadata": {},
     "output_type": "display_data"
    },
    {
     "data": {
      "text/html": [
       "<img src=\"//upload.wikimedia.org/wikipedia/commons/thumb/8/87/Walt_Disney_1942_signature.svg/150px-Walt_Disney_1942_signature.svg.png\"/>"
      ],
      "text/plain": [
       "<IPython.core.display.Image object>"
      ]
     },
     "metadata": {},
     "output_type": "display_data"
    },
    {
     "data": {
      "text/html": [
       "<img src=\"//upload.wikimedia.org/wikipedia/commons/thumb/c/c4/Walt_Disney_envelope_ca._1921.jpg/220px-Walt_Disney_envelope_ca._1921.jpg\"/>"
      ],
      "text/plain": [
       "<IPython.core.display.Image object>"
      ]
     },
     "metadata": {},
     "output_type": "display_data"
    }
   ],
   "source": [
    "from IPython.display import Image\n",
    "from IPython.core.display import HTML\n",
    "for e in links_list[2:5]: # imprimo sólo algunas por no abusar... :P\n",
    "    display(Image(url=e))"
   ]
  },
  {
   "cell_type": "markdown",
   "metadata": {},
   "source": [
    "#### Retrieve an arbitary Wikipedia page of \"Python\" and create a list of links on that page"
   ]
  },
  {
   "cell_type": "code",
   "execution_count": 87,
   "metadata": {},
   "outputs": [],
   "source": [
    "# This is the url you will scrape in this exercise\n",
    "url ='https://en.wikipedia.org/wiki/Python' "
   ]
  },
  {
   "cell_type": "code",
   "execution_count": 88,
   "metadata": {},
   "outputs": [],
   "source": [
    "#your code\n",
    "res = requests.get(url)\n",
    "html = res.text\n",
    "soup = BeautifulSoup(html, 'html.parser')"
   ]
  },
  {
   "cell_type": "code",
   "execution_count": 89,
   "metadata": {},
   "outputs": [
    {
     "name": "stdout",
     "output_type": "stream",
     "text": [
      "Links http:\n",
      "['https://en.wiktionary.org/wiki/Python', 'https://en.wiktionary.org/wiki/python', 'https://en.wikipedia.org/w/index.php?title=Special:WhatLinksHere/Python&namespace=0', 'https://en.wikipedia.org/w/index.php?title=Python&oldid=924004650', 'https://donate.wikimedia.org/wiki/Special:FundraiserRedirector?utm_source=donate&utm_medium=sidebar&utm_campaign=C13_en.wikipedia.org&uselang=en', 'https://www.wikidata.org/wiki/Special:EntityPage/Q747452', 'https://commons.wikimedia.org/wiki/Category:Python', 'https://af.wikipedia.org/wiki/Python', 'https://als.wikipedia.org/wiki/Python', 'https://az.wikipedia.org/wiki/Python', 'https://bn.wikipedia.org/wiki/%E0%A6%AA%E0%A6%BE%E0%A6%87%E0%A6%A5%E0%A6%A8_(%E0%A6%A6%E0%A7%8D%E0%A6%AC%E0%A7%8D%E0%A6%AF%E0%A6%B0%E0%A7%8D%E0%A6%A5%E0%A6%A4%E0%A6%BE_%E0%A6%A8%E0%A6%BF%E0%A6%B0%E0%A6%B8%E0%A6%A8)', 'https://be.wikipedia.org/wiki/Python', 'https://bg.wikipedia.org/wiki/%D0%9F%D0%B8%D1%82%D0%BE%D0%BD_(%D0%BF%D0%BE%D1%8F%D1%81%D0%BD%D0%B5%D0%BD%D0%B8%D0%B5)', 'https://cs.wikipedia.org/wiki/Python_(rozcestn%C3%ADk)', 'https://da.wikipedia.org/wiki/Python', 'https://de.wikipedia.org/wiki/Python', 'https://eo.wikipedia.org/wiki/Pitono_(apartigilo)', 'https://eu.wikipedia.org/wiki/Python_(argipena)', 'https://fa.wikipedia.org/wiki/%D9%BE%D8%A7%DB%8C%D8%AA%D9%88%D9%86', 'https://fr.wikipedia.org/wiki/Python', 'https://ko.wikipedia.org/wiki/%ED%8C%8C%EC%9D%B4%EC%84%A0', 'https://hr.wikipedia.org/wiki/Python_(razdvojba)', 'https://io.wikipedia.org/wiki/Pitono', 'https://id.wikipedia.org/wiki/Python', 'https://ia.wikipedia.org/wiki/Python_(disambiguation)', 'https://is.wikipedia.org/wiki/Python_(a%C3%B0greining)', 'https://it.wikipedia.org/wiki/Python_(disambigua)', 'https://he.wikipedia.org/wiki/%D7%A4%D7%99%D7%AA%D7%95%D7%9F', 'https://ka.wikipedia.org/wiki/%E1%83%9E%E1%83%98%E1%83%97%E1%83%9D%E1%83%9C%E1%83%98_(%E1%83%9B%E1%83%A0%E1%83%90%E1%83%95%E1%83%90%E1%83%9A%E1%83%9B%E1%83%9C%E1%83%98%E1%83%A8%E1%83%95%E1%83%9C%E1%83%94%E1%83%9A%E1%83%9D%E1%83%95%E1%83%90%E1%83%9C%E1%83%98)', 'https://kg.wikipedia.org/wiki/Mboma_(nyoka)', 'https://la.wikipedia.org/wiki/Python_(discretiva)', 'https://lb.wikipedia.org/wiki/Python', 'https://hu.wikipedia.org/wiki/Python_(egy%C3%A9rtelm%C5%B1s%C3%ADt%C5%91_lap)', 'https://mr.wikipedia.org/wiki/%E0%A4%AA%E0%A4%BE%E0%A4%AF%E0%A4%A5%E0%A5%89%E0%A4%A8_(%E0%A4%86%E0%A4%9C%E0%A5%8D%E0%A4%9E%E0%A4%BE%E0%A4%B5%E0%A4%B2%E0%A5%80_%E0%A4%AD%E0%A4%BE%E0%A4%B7%E0%A4%BE)', 'https://nl.wikipedia.org/wiki/Python', 'https://ja.wikipedia.org/wiki/%E3%83%91%E3%82%A4%E3%82%BD%E3%83%B3', 'https://no.wikipedia.org/wiki/Pyton', 'https://pl.wikipedia.org/wiki/Pyton', 'https://pt.wikipedia.org/wiki/Python_(desambigua%C3%A7%C3%A3o)', 'https://ru.wikipedia.org/wiki/Python_(%D0%B7%D0%BD%D0%B0%D1%87%D0%B5%D0%BD%D0%B8%D1%8F)', 'https://sd.wikipedia.org/wiki/%D8%A7%D8%B1%DA%99', 'https://sk.wikipedia.org/wiki/Python', 'https://sr.wikipedia.org/wiki/%D0%9F%D0%B8%D1%82%D0%BE%D0%BD_(%D0%B2%D0%B8%D1%88%D0%B5%D0%B7%D0%BD%D0%B0%D1%87%D0%BD%D0%B0_%D0%BE%D0%B4%D1%80%D0%B5%D0%B4%D0%BD%D0%B8%D1%86%D0%B0)', 'https://sh.wikipedia.org/wiki/Python', 'https://fi.wikipedia.org/wiki/Python', 'https://sv.wikipedia.org/wiki/Pyton', 'https://th.wikipedia.org/wiki/%E0%B9%84%E0%B8%9E%E0%B8%97%E0%B8%AD%E0%B8%99', 'https://tr.wikipedia.org/wiki/Python', 'https://uk.wikipedia.org/wiki/%D0%9F%D1%96%D1%84%D0%BE%D0%BD', 'https://ur.wikipedia.org/wiki/%D9%BE%D8%A7%D8%A6%DB%8C%D8%AA%DA%BE%D9%88%D9%86', 'https://vi.wikipedia.org/wiki/Python', 'https://zh.wikipedia.org/wiki/Python_(%E6%B6%88%E6%AD%A7%E4%B9%89)', 'https://www.wikidata.org/wiki/Special:EntityPage/Q747452#sitelinks-wikipedia', 'https://foundation.wikimedia.org/wiki/Privacy_policy', 'https://www.mediawiki.org/wiki/Special:MyLanguage/How_to_contribute', 'https://foundation.wikimedia.org/wiki/Cookie_statement', 'https://wikimediafoundation.org/', 'https://www.mediawiki.org/']\n",
      "\n",
      "Links wikipedia:\n",
      "['/w/index.php?title=Python&action=edit&section=1', '/wiki/Pythonidae', '/wiki/Python_(genus)', '/w/index.php?title=Python&action=edit&section=2', '/wiki/Python_(mythology)', '/wiki/Python_of_Aenus', '/wiki/Python_(painter)', '/wiki/Python_of_Byzantium', '/wiki/Python_of_Catana', '/w/index.php?title=Python&action=edit&section=3', '/wiki/Python_(film)', '/wiki/Pythons_2', '/wiki/Monty_Python', '/wiki/Python_(Monty)_Pictures', '/w/index.php?title=Python&action=edit&section=4', '/wiki/Python_(programming_language)', '/wiki/CPython', '/wiki/CMU_Common_Lisp', '/wiki/PERQ#PERQ_3', '/w/index.php?title=Python&action=edit&section=5', '/w/index.php?title=Python&action=edit&section=6', '/wiki/Python_(Busch_Gardens_Tampa_Bay)', '/wiki/Python_(Coney_Island,_Cincinnati,_Ohio)', '/wiki/Python_(Efteling)', '/w/index.php?title=Python&action=edit&section=7', '/wiki/Python_(automobile_maker)', '/wiki/Python_(Ford_prototype)', '/w/index.php?title=Python&action=edit&section=8', '/wiki/Colt_Python', '/wiki/Python_(missile)', '/wiki/Python_(nuclear_primary)', '/w/index.php?title=Python&action=edit&section=9', '/wiki/Python_Anghelo', '/w/index.php?title=Python&action=edit&section=10', '/wiki/PYTHON', '/w/index.php?title=Python&action=edit&section=11', '/wiki/Cython', '/wiki/Pyton', '/wiki/File:Disambig_gray.svg', '/wiki/Help:Disambiguation', '/wiki/Help:Category', '/wiki/Category:Disambiguation_pages', '/wiki/Category:Disambiguation_pages_with_short_description', '/wiki/Category:All_article_disambiguation_pages', '/wiki/Category:All_disambiguation_pages', '/wiki/Category:Animal_common_name_disambiguation_pages', '/wiki/Special:MyTalk', '/wiki/Special:MyContributions', '/w/index.php?title=Special:CreateAccount&returnto=Python', '/w/index.php?title=Special:UserLogin&returnto=Python', '/wiki/Python', '/wiki/Talk:Python', '/wiki/Python', '/w/index.php?title=Python&action=edit', '/w/index.php?title=Python&action=history', '/wiki/Main_Page', '/wiki/Main_Page', '/wiki/Portal:Contents', '/wiki/Portal:Featured_content', '/wiki/Portal:Current_events', '/wiki/Special:Random', '//shop.wikimedia.org', '/wiki/Help:Contents', '/wiki/Wikipedia:About', '/wiki/Wikipedia:Community_portal', '/wiki/Special:RecentChanges', '//en.wikipedia.org/wiki/Wikipedia:Contact_us', '/wiki/Special:WhatLinksHere/Python', '/wiki/Special:RecentChangesLinked/Python', '/wiki/Wikipedia:File_Upload_Wizard', '/wiki/Special:SpecialPages', '/w/index.php?title=Python&oldid=924004650', '/w/index.php?title=Python&action=info', '/w/index.php?title=Special:CiteThisPage&page=Python&id=924004650', '/w/index.php?title=Special:Book&bookcmd=book_creator&referer=Python', '/w/index.php?title=Special:ElectronPdf&page=Python&action=show-download-screen', '/w/index.php?title=Python&printable=yes', '//en.wikipedia.org/wiki/Wikipedia:Text_of_Creative_Commons_Attribution-ShareAlike_3.0_Unported_License', '//creativecommons.org/licenses/by-sa/3.0/', '//foundation.wikimedia.org/wiki/Terms_of_Use', '//foundation.wikimedia.org/wiki/Privacy_policy', '//www.wikimediafoundation.org/', '/wiki/Wikipedia:About', '/wiki/Wikipedia:General_disclaimer', '//en.wikipedia.org/wiki/Wikipedia:Contact_us', '//en.m.wikipedia.org/w/index.php?title=Python&mobileaction=toggle_view_mobile']\n"
     ]
    }
   ],
   "source": [
    "links_list = []\n",
    "links = soup.find_all('a')\n",
    "for e in links:\n",
    "    links_list.append(e.get('href'))\n",
    "links_list = links_list[1:]\n",
    "# print(links_list)\n",
    "\n",
    "print('Links http:')\n",
    "links_http = []\n",
    "for e in links_list:\n",
    "    if e[:4] == 'http':\n",
    "        links_http.append(e)\n",
    "print(links_http)\n",
    "\n",
    "print('\\nLinks wikipedia:')\n",
    "links_wikipedia = []\n",
    "for e in links_list:\n",
    "    if e[0] == '/':\n",
    "        links_wikipedia.append(e)\n",
    "print(links_wikipedia)"
   ]
  },
  {
   "cell_type": "markdown",
   "metadata": {},
   "source": [
    "#### Number of Titles that have changed in the United States Code since its last release point "
   ]
  },
  {
   "cell_type": "code",
   "execution_count": 90,
   "metadata": {},
   "outputs": [],
   "source": [
    "# This is the url you will scrape in this exercise\n",
    "url = 'http://uscode.house.gov/download/download.shtml'"
   ]
  },
  {
   "cell_type": "code",
   "execution_count": 91,
   "metadata": {},
   "outputs": [],
   "source": [
    "#your code\n",
    "res = requests.get(url)\n",
    "html = res.text\n",
    "soup = BeautifulSoup(html, 'html.parser')"
   ]
  },
  {
   "cell_type": "code",
   "execution_count": 92,
   "metadata": {},
   "outputs": [
    {
     "name": "stdout",
     "output_type": "stream",
     "text": [
      "2 titles have been changed since the last release point.\n",
      "\n",
      "Titles:\n",
      "['Title 6 - Domestic Security', 'Title 31 - Money and Finance']\n"
     ]
    }
   ],
   "source": [
    "# Titles in bold have been changed since the last release point.\n",
    "\n",
    "titles_changed = soup.select('.usctitlechanged')\n",
    "# print(titles_changed)\n",
    "\n",
    "print(len(titles_changed),'titles have been changed since the last release point.') # 2\n",
    "\n",
    "print('\\nTitles:')\n",
    "titles_changed_list = []\n",
    "for e in titles_changed:\n",
    "    title = e.text\n",
    "    title = re.sub('\\\\n','',title)\n",
    "    title = re.sub('          ','',title)\n",
    "    title = re.sub('        ','',title)\n",
    "    title = re.sub(' ٭','',title)\n",
    "    titles_changed_list.append(title)\n",
    "print(titles_changed_list)"
   ]
  },
  {
   "cell_type": "markdown",
   "metadata": {},
   "source": [
    "#### A Python list with the top ten FBI's Most Wanted names "
   ]
  },
  {
   "cell_type": "code",
   "execution_count": 97,
   "metadata": {},
   "outputs": [],
   "source": [
    "# This is the url you will scrape in this exercise\n",
    "url = 'https://www.fbi.gov/wanted/topten'"
   ]
  },
  {
   "cell_type": "code",
   "execution_count": 98,
   "metadata": {},
   "outputs": [],
   "source": [
    "#your code\n",
    "res = requests.get(url)\n",
    "html = res.text\n",
    "soup = BeautifulSoup(html, 'html.parser')"
   ]
  },
  {
   "cell_type": "code",
   "execution_count": 106,
   "metadata": {},
   "outputs": [
    {
     "name": "stdout",
     "output_type": "stream",
     "text": [
      "['Jason Derek Brown', 'Alexis Flores', 'Eugene Palmer', 'Santiago Villalba Mederos', 'Rafael Caro-Quintero', 'Robert William Fisher', 'Bhadreshkumar Chetanbhai Patel', 'Arnoldo Jimenez', 'Alejandro Rosales Castillo', 'Yaser Abdel Said']\n"
     ]
    }
   ],
   "source": [
    "names_FBI_list = []\n",
    "names_FBI = soup.find_all('h3')\n",
    "for e in names_FBI:\n",
    "    name = e.text\n",
    "    name = re.sub('\\n','',name)\n",
    "    name = name.title()\n",
    "    names_FBI_list.append(name)\n",
    "print(names_FBI_list)\n"
   ]
  },
  {
   "cell_type": "markdown",
   "metadata": {},
   "source": [
    "####  20 latest earthquakes info (date, time, latitude, longitude and region name) by the EMSC as a pandas dataframe"
   ]
  },
  {
   "cell_type": "code",
   "execution_count": 2,
   "metadata": {},
   "outputs": [],
   "source": [
    "# This is the url you will scrape in this exercise\n",
    "url = 'https://www.emsc-csem.org/Earthquake/'"
   ]
  },
  {
   "cell_type": "code",
   "execution_count": 3,
   "metadata": {},
   "outputs": [],
   "source": [
    "#your code\n",
    "res = requests.get(url)\n",
    "html = res.text\n",
    "soup = BeautifulSoup(html, 'html.parser')"
   ]
  },
  {
   "cell_type": "code",
   "execution_count": 41,
   "metadata": {},
   "outputs": [
    {
     "name": "stdout",
     "output_type": "stream",
     "text": [
      "['2019-11-07', '2019-11-07', '2019-11-07', '2019-11-07', '2019-11-07', '2019-11-07', '2019-11-07', '2019-11-07', '2019-11-07', '2019-11-07', '2019-11-07', '2019-11-07', '2019-11-07', '2019-11-07', '2019-11-07', '2019-11-07', '2019-11-07', '2019-11-07', '2019-11-07', '2019-11-07']\n",
      "\n",
      " ['17:52:17.6', '17:47:53.2', '17:35:21.7', '17:18:00.0', '16:50:25.0', '16:24:29.1', '15:40:53.7', '15:40:09.0', '15:14:49.0', '15:08:11.6', '15:01:10.8', '14:54:15.5', '14:52:50.5', '14:37:54.3', '14:36:33.3', '14:33:33.7', '14:33:33.0', '14:21:48.6', '13:34:38.1', '13:30:57.8']\n"
     ]
    }
   ],
   "source": [
    "table = soup.find_all('tr')\n",
    "len(table) # 67\n",
    "\n",
    "# Date and time:\n",
    "date_time = soup.find_all('b')\n",
    "date_time_list = [e.text for e in date_time]\n",
    "date_time_list = [re.sub('earthquake','',e) for e in date_time_list]\n",
    "date_time_list = date_time_list[:20] # 20 latest earthquakes\n",
    "\n",
    "date_time_list_new = []\n",
    "for e in date_time_list:\n",
    "    date_time_list_new.append(e.split('\\xa0\\xa0\\xa0'))\n",
    "\n",
    "date = [e[0] for e in date_time_list_new]\n",
    "time = [e[1] for e in date_time_list_new]\n",
    "\n",
    "print(date)\n",
    "print('\\n',time)"
   ]
  },
  {
   "cell_type": "code",
   "execution_count": 69,
   "metadata": {},
   "outputs": [
    {
     "name": "stdout",
     "output_type": "stream",
     "text": [
      "['34.27', '41.77', '41.78', '12.41', '31.78', '39.14', '43.93', '31.37', '21.65', '42.72', '42.73', '34.27', '34.27', '19.12', '27.15', '34.28', '19.80', '3.98', '59.02', '34.27']\n",
      "\n",
      " ['119.29', '13.61', '13.61', '77.18', '71.30', '20.61', '11.59', '68.55', '68.63', '13.23', '13.25', '119.29', '119.29', '67.24', '55.04', '119.29', '69.83', '104.01', '152.18', '119.30']\n"
     ]
    }
   ],
   "source": [
    "# Latitude & Longitude:\n",
    "lat_long = soup.select('.tabev1')\n",
    "lat_long_list = [re.sub('td class=\"tabev1\">','',e.text) for e in lat_long]\n",
    "lat_long_list_2 = [re.sub('\\xa0','',e) for e in lat_long_list]\n",
    "lat_long_list_2\n",
    "lat_list = lat_long_list_2[::2]\n",
    "long_list = lat_long_list_2[1::2]\n",
    "lat_list = lat_list[:20]\n",
    "long_list = long_list[:20]\n",
    "print(lat_list)\n",
    "print('\\n',long_list)"
   ]
  },
  {
   "cell_type": "code",
   "execution_count": 56,
   "metadata": {},
   "outputs": [
    {
     "name": "stdout",
     "output_type": "stream",
     "text": [
      "['Santa Barbara Channel, Calif.', 'Southern Italy', 'Southern Italy', 'Near Coast Of Central Peru', 'Coquimbo, Chile', 'Greece', 'Central Italy', 'San Juan, Argentina', 'Antofagasta, Chile', 'Central Italy', 'Central Italy', 'Santa Barbara Channel, Calif.', 'Santa Barbara Channel, Calif.', 'Puerto Rico Region', 'Southern Iran', 'Greater Los Angeles Area, Calif.', 'Dominican Republic Region', 'Central East Pacific Rise', 'Southern Alaska', 'Santa Barbara Channel, Calif.']\n"
     ]
    }
   ],
   "source": [
    "# Region name\n",
    "region = soup.select('.tb_region')\n",
    "region_list = [re.sub('\\\\xa0','',e.text).title() for e in region]\n",
    "region_list = region_list[:20]\n",
    "print(region_list)"
   ]
  },
  {
   "cell_type": "code",
   "execution_count": 70,
   "metadata": {},
   "outputs": [],
   "source": [
    "# Empty dataframe:\n",
    "df = pd.DataFrame({'date':[0]*20,'time':[0]*20,'latitude':[0]*20,'longitude':[0]*20,'region':[0]*20})\n",
    "# display(df)"
   ]
  },
  {
   "cell_type": "code",
   "execution_count": 71,
   "metadata": {},
   "outputs": [],
   "source": [
    "df['date'] = date\n",
    "df['time'] = time\n",
    "df['region'] = region_list\n",
    "df['latitude'] = lat_list\n",
    "df['longitude'] = long_list"
   ]
  },
  {
   "cell_type": "code",
   "execution_count": 72,
   "metadata": {},
   "outputs": [
    {
     "data": {
      "text/html": [
       "<div>\n",
       "<style scoped>\n",
       "    .dataframe tbody tr th:only-of-type {\n",
       "        vertical-align: middle;\n",
       "    }\n",
       "\n",
       "    .dataframe tbody tr th {\n",
       "        vertical-align: top;\n",
       "    }\n",
       "\n",
       "    .dataframe thead th {\n",
       "        text-align: right;\n",
       "    }\n",
       "</style>\n",
       "<table border=\"1\" class=\"dataframe\">\n",
       "  <thead>\n",
       "    <tr style=\"text-align: right;\">\n",
       "      <th></th>\n",
       "      <th>date</th>\n",
       "      <th>time</th>\n",
       "      <th>latitude</th>\n",
       "      <th>longitude</th>\n",
       "      <th>region</th>\n",
       "    </tr>\n",
       "  </thead>\n",
       "  <tbody>\n",
       "    <tr>\n",
       "      <th>0</th>\n",
       "      <td>2019-11-07</td>\n",
       "      <td>17:52:17.6</td>\n",
       "      <td>34.27</td>\n",
       "      <td>119.29</td>\n",
       "      <td>Santa Barbara Channel, Calif.</td>\n",
       "    </tr>\n",
       "    <tr>\n",
       "      <th>1</th>\n",
       "      <td>2019-11-07</td>\n",
       "      <td>17:47:53.2</td>\n",
       "      <td>41.77</td>\n",
       "      <td>13.61</td>\n",
       "      <td>Southern Italy</td>\n",
       "    </tr>\n",
       "    <tr>\n",
       "      <th>2</th>\n",
       "      <td>2019-11-07</td>\n",
       "      <td>17:35:21.7</td>\n",
       "      <td>41.78</td>\n",
       "      <td>13.61</td>\n",
       "      <td>Southern Italy</td>\n",
       "    </tr>\n",
       "    <tr>\n",
       "      <th>3</th>\n",
       "      <td>2019-11-07</td>\n",
       "      <td>17:18:00.0</td>\n",
       "      <td>12.41</td>\n",
       "      <td>77.18</td>\n",
       "      <td>Near Coast Of Central Peru</td>\n",
       "    </tr>\n",
       "    <tr>\n",
       "      <th>4</th>\n",
       "      <td>2019-11-07</td>\n",
       "      <td>16:50:25.0</td>\n",
       "      <td>31.78</td>\n",
       "      <td>71.30</td>\n",
       "      <td>Coquimbo, Chile</td>\n",
       "    </tr>\n",
       "    <tr>\n",
       "      <th>5</th>\n",
       "      <td>2019-11-07</td>\n",
       "      <td>16:24:29.1</td>\n",
       "      <td>39.14</td>\n",
       "      <td>20.61</td>\n",
       "      <td>Greece</td>\n",
       "    </tr>\n",
       "    <tr>\n",
       "      <th>6</th>\n",
       "      <td>2019-11-07</td>\n",
       "      <td>15:40:53.7</td>\n",
       "      <td>43.93</td>\n",
       "      <td>11.59</td>\n",
       "      <td>Central Italy</td>\n",
       "    </tr>\n",
       "    <tr>\n",
       "      <th>7</th>\n",
       "      <td>2019-11-07</td>\n",
       "      <td>15:40:09.0</td>\n",
       "      <td>31.37</td>\n",
       "      <td>68.55</td>\n",
       "      <td>San Juan, Argentina</td>\n",
       "    </tr>\n",
       "    <tr>\n",
       "      <th>8</th>\n",
       "      <td>2019-11-07</td>\n",
       "      <td>15:14:49.0</td>\n",
       "      <td>21.65</td>\n",
       "      <td>68.63</td>\n",
       "      <td>Antofagasta, Chile</td>\n",
       "    </tr>\n",
       "    <tr>\n",
       "      <th>9</th>\n",
       "      <td>2019-11-07</td>\n",
       "      <td>15:08:11.6</td>\n",
       "      <td>42.72</td>\n",
       "      <td>13.23</td>\n",
       "      <td>Central Italy</td>\n",
       "    </tr>\n",
       "    <tr>\n",
       "      <th>10</th>\n",
       "      <td>2019-11-07</td>\n",
       "      <td>15:01:10.8</td>\n",
       "      <td>42.73</td>\n",
       "      <td>13.25</td>\n",
       "      <td>Central Italy</td>\n",
       "    </tr>\n",
       "    <tr>\n",
       "      <th>11</th>\n",
       "      <td>2019-11-07</td>\n",
       "      <td>14:54:15.5</td>\n",
       "      <td>34.27</td>\n",
       "      <td>119.29</td>\n",
       "      <td>Santa Barbara Channel, Calif.</td>\n",
       "    </tr>\n",
       "    <tr>\n",
       "      <th>12</th>\n",
       "      <td>2019-11-07</td>\n",
       "      <td>14:52:50.5</td>\n",
       "      <td>34.27</td>\n",
       "      <td>119.29</td>\n",
       "      <td>Santa Barbara Channel, Calif.</td>\n",
       "    </tr>\n",
       "    <tr>\n",
       "      <th>13</th>\n",
       "      <td>2019-11-07</td>\n",
       "      <td>14:37:54.3</td>\n",
       "      <td>19.12</td>\n",
       "      <td>67.24</td>\n",
       "      <td>Puerto Rico Region</td>\n",
       "    </tr>\n",
       "    <tr>\n",
       "      <th>14</th>\n",
       "      <td>2019-11-07</td>\n",
       "      <td>14:36:33.3</td>\n",
       "      <td>27.15</td>\n",
       "      <td>55.04</td>\n",
       "      <td>Southern Iran</td>\n",
       "    </tr>\n",
       "    <tr>\n",
       "      <th>15</th>\n",
       "      <td>2019-11-07</td>\n",
       "      <td>14:33:33.7</td>\n",
       "      <td>34.28</td>\n",
       "      <td>119.29</td>\n",
       "      <td>Greater Los Angeles Area, Calif.</td>\n",
       "    </tr>\n",
       "    <tr>\n",
       "      <th>16</th>\n",
       "      <td>2019-11-07</td>\n",
       "      <td>14:33:33.0</td>\n",
       "      <td>19.80</td>\n",
       "      <td>69.83</td>\n",
       "      <td>Dominican Republic Region</td>\n",
       "    </tr>\n",
       "    <tr>\n",
       "      <th>17</th>\n",
       "      <td>2019-11-07</td>\n",
       "      <td>14:21:48.6</td>\n",
       "      <td>3.98</td>\n",
       "      <td>104.01</td>\n",
       "      <td>Central East Pacific Rise</td>\n",
       "    </tr>\n",
       "    <tr>\n",
       "      <th>18</th>\n",
       "      <td>2019-11-07</td>\n",
       "      <td>13:34:38.1</td>\n",
       "      <td>59.02</td>\n",
       "      <td>152.18</td>\n",
       "      <td>Southern Alaska</td>\n",
       "    </tr>\n",
       "    <tr>\n",
       "      <th>19</th>\n",
       "      <td>2019-11-07</td>\n",
       "      <td>13:30:57.8</td>\n",
       "      <td>34.27</td>\n",
       "      <td>119.30</td>\n",
       "      <td>Santa Barbara Channel, Calif.</td>\n",
       "    </tr>\n",
       "  </tbody>\n",
       "</table>\n",
       "</div>"
      ],
      "text/plain": [
       "          date        time latitude longitude  \\\n",
       "0   2019-11-07  17:52:17.6    34.27    119.29   \n",
       "1   2019-11-07  17:47:53.2    41.77     13.61   \n",
       "2   2019-11-07  17:35:21.7    41.78     13.61   \n",
       "3   2019-11-07  17:18:00.0    12.41     77.18   \n",
       "4   2019-11-07  16:50:25.0    31.78     71.30   \n",
       "5   2019-11-07  16:24:29.1    39.14     20.61   \n",
       "6   2019-11-07  15:40:53.7    43.93     11.59   \n",
       "7   2019-11-07  15:40:09.0    31.37     68.55   \n",
       "8   2019-11-07  15:14:49.0    21.65     68.63   \n",
       "9   2019-11-07  15:08:11.6    42.72     13.23   \n",
       "10  2019-11-07  15:01:10.8    42.73     13.25   \n",
       "11  2019-11-07  14:54:15.5    34.27    119.29   \n",
       "12  2019-11-07  14:52:50.5    34.27    119.29   \n",
       "13  2019-11-07  14:37:54.3    19.12     67.24   \n",
       "14  2019-11-07  14:36:33.3    27.15     55.04   \n",
       "15  2019-11-07  14:33:33.7    34.28    119.29   \n",
       "16  2019-11-07  14:33:33.0    19.80     69.83   \n",
       "17  2019-11-07  14:21:48.6     3.98    104.01   \n",
       "18  2019-11-07  13:34:38.1    59.02    152.18   \n",
       "19  2019-11-07  13:30:57.8    34.27    119.30   \n",
       "\n",
       "                              region  \n",
       "0      Santa Barbara Channel, Calif.  \n",
       "1                     Southern Italy  \n",
       "2                     Southern Italy  \n",
       "3         Near Coast Of Central Peru  \n",
       "4                    Coquimbo, Chile  \n",
       "5                             Greece  \n",
       "6                      Central Italy  \n",
       "7                San Juan, Argentina  \n",
       "8                 Antofagasta, Chile  \n",
       "9                      Central Italy  \n",
       "10                     Central Italy  \n",
       "11     Santa Barbara Channel, Calif.  \n",
       "12     Santa Barbara Channel, Calif.  \n",
       "13                Puerto Rico Region  \n",
       "14                     Southern Iran  \n",
       "15  Greater Los Angeles Area, Calif.  \n",
       "16         Dominican Republic Region  \n",
       "17         Central East Pacific Rise  \n",
       "18                   Southern Alaska  \n",
       "19     Santa Barbara Channel, Calif.  "
      ]
     },
     "metadata": {},
     "output_type": "display_data"
    }
   ],
   "source": [
    "display(df)"
   ]
  },
  {
   "cell_type": "markdown",
   "metadata": {},
   "source": [
    "#### Display the date, days, title, city, country of next 25 hackathon events as a Pandas dataframe table"
   ]
  },
  {
   "cell_type": "code",
   "execution_count": 2,
   "metadata": {},
   "outputs": [],
   "source": [
    "# This is the url you will scrape in this exercise\n",
    "url ='https://hackevents.co/hackathons'"
   ]
  },
  {
   "cell_type": "code",
   "execution_count": 3,
   "metadata": {},
   "outputs": [],
   "source": [
    "#your code\n",
    "res = requests.get(url)\n",
    "html = res.text\n",
    "soup = BeautifulSoup(html, 'html.parser')\n",
    "\n",
    "# Sólo aparece un evento y no podemos acceder a sus datos..."
   ]
  },
  {
   "cell_type": "markdown",
   "metadata": {},
   "source": [
    "#### Count number of tweets by a given Twitter account."
   ]
  },
  {
   "cell_type": "markdown",
   "metadata": {},
   "source": [
    "You will need to include a ***try/except block*** for account names not found. \n",
    "<br>***Hint:*** the program should count the number of tweets for any provided account"
   ]
  },
  {
   "cell_type": "code",
   "execution_count": 4,
   "metadata": {},
   "outputs": [
    {
     "name": "stdout",
     "output_type": "stream",
     "text": [
      "The account abuelo19801 has 2.607 tweets.\n"
     ]
    },
    {
     "data": {
      "text/plain": [
       "'2.607'"
      ]
     },
     "execution_count": 4,
     "metadata": {},
     "output_type": "execute_result"
    }
   ],
   "source": [
    "# This is the url you will scrape in this exercise \n",
    "# You will need to add the account credentials to this url\n",
    "\n",
    "# try: # 'Correct account name!'\n",
    "# except: # \"Account name not found\"\n",
    "# No me funciona el try/except... No consigo que lance la excepción...\n",
    "\n",
    "def twitter_tweets(account_name):\n",
    "    url = 'https://twitter.com/{}'.format(account_name)\n",
    "    res = requests.get(url)\n",
    "    html = res.text\n",
    "    soup = BeautifulSoup(html, 'html.parser')\n",
    "    tweets = soup.select('.ProfileNav-value')[0].text\n",
    "    tweets = re.sub('\\n','',tweets)\n",
    "    tweets = re.sub('            ','',tweets)\n",
    "    print('The account {} has {} tweets.'.format(account_name,tweets))\n",
    "    return tweets\n",
    "\n",
    "twitter_tweets('abuelo19801')"
   ]
  },
  {
   "cell_type": "markdown",
   "metadata": {},
   "source": [
    "#### Number of followers of a given twitter account"
   ]
  },
  {
   "cell_type": "markdown",
   "metadata": {},
   "source": [
    "You will need to include a ***try/except block*** in case account/s name not found. \n",
    "<br>***Hint:*** the program should count the followers for any provided account"
   ]
  },
  {
   "cell_type": "code",
   "execution_count": 5,
   "metadata": {},
   "outputs": [
    {
     "name": "stdout",
     "output_type": "stream",
     "text": [
      "The account abuelo19801 has 195 followers.\n"
     ]
    },
    {
     "data": {
      "text/plain": [
       "'195'"
      ]
     },
     "execution_count": 5,
     "metadata": {},
     "output_type": "execute_result"
    }
   ],
   "source": [
    "# This is the url you will scrape in this exercise \n",
    "# You will need to add the account credentials to this url\n",
    "\n",
    "# Try/Except...\n",
    "\n",
    "def twitter_followers(account_name):\n",
    "    url = 'https://twitter.com/{}'.format(account_name)\n",
    "    res = requests.get(url)\n",
    "    html = res.text\n",
    "    soup = BeautifulSoup(html, 'html.parser')\n",
    "    followers = soup.select('.ProfileNav-value')[2].text\n",
    "    print('The account {} has {} followers.'.format(account_name,followers))\n",
    "    return followers\n",
    "\n",
    "twitter_followers('abuelo19801')"
   ]
  },
  {
   "cell_type": "markdown",
   "metadata": {},
   "source": [
    "#### List all language names and number of related articles in the order they appear in wikipedia.org"
   ]
  },
  {
   "cell_type": "code",
   "execution_count": 74,
   "metadata": {},
   "outputs": [],
   "source": [
    "# This is the url you will scrape in this exercise\n",
    "url = 'https://www.wikipedia.org/'"
   ]
  },
  {
   "cell_type": "code",
   "execution_count": 75,
   "metadata": {},
   "outputs": [],
   "source": [
    "#your code\n",
    "res = requests.get(url)\n",
    "html = res.text\n",
    "soup = BeautifulSoup(html, 'html.parser')"
   ]
  },
  {
   "cell_type": "code",
   "execution_count": 76,
   "metadata": {},
   "outputs": [
    {
     "name": "stdout",
     "output_type": "stream",
     "text": [
      "['English', 'EspaÃ±ol', 'æ\\x97¥æ\\x9c¬èª\\x9e', 'Deutsch', 'Ð\\xa0Ñ\\x83Ñ\\x81Ñ\\x81ÐºÐ¸Ð¹', 'FranÃ§ais', 'Italiano', 'ä¸\\xadæ\\x96\\x87', 'PortuguÃªs', 'Polski']\n"
     ]
    }
   ],
   "source": [
    "language = soup.select('strong')[1:11]\n",
    "language = [e.text for e in language]\n",
    "print(language)\n",
    "\n",
    "# (language[2].encode())\n",
    "# .decode('utf-8')\n",
    "\n",
    "# No consigo codificarlos bien..."
   ]
  },
  {
   "cell_type": "code",
   "execution_count": 94,
   "metadata": {},
   "outputs": [
    {
     "name": "stdout",
     "output_type": "stream",
     "text": [
      "[5964000, 1554000, 1175000, 2361000, 1576000, 2152000, 1562000, 1080000, 1014000, 1367000]\n"
     ]
    }
   ],
   "source": [
    "articles = soup.select('bdi')[0:10]\n",
    "articles = [str(e) for e in articles]\n",
    "articles = [re.sub('<bdi dir=\"ltr\">','',e) for e in articles]\n",
    "articles = [re.sub('\\+</bdi>','',e) for e in articles] \n",
    "articles = [re.sub('\\xa0','',e) for e in articles]\n",
    "articles = [int(e) for e in articles]\n",
    "print(articles)"
   ]
  },
  {
   "cell_type": "markdown",
   "metadata": {},
   "source": [
    "#### A list with the different kind of datasets available in data.gov.uk "
   ]
  },
  {
   "cell_type": "code",
   "execution_count": 95,
   "metadata": {},
   "outputs": [],
   "source": [
    "# This is the url you will scrape in this exercise\n",
    "url = 'https://data.gov.uk/'"
   ]
  },
  {
   "cell_type": "code",
   "execution_count": 96,
   "metadata": {},
   "outputs": [],
   "source": [
    "#your code\n",
    "res = requests.get(url)\n",
    "html = res.text\n",
    "soup = BeautifulSoup(html, 'html.parser')"
   ]
  },
  {
   "cell_type": "code",
   "execution_count": 99,
   "metadata": {},
   "outputs": [
    {
     "name": "stdout",
     "output_type": "stream",
     "text": [
      "['Business and economy', 'Crime and justice', 'Defence', 'Education', 'Environment', 'Government', 'Government spending', 'Health', 'Mapping', 'Society', 'Towns and cities', 'Transport']\n"
     ]
    }
   ],
   "source": [
    "datasets = soup.find_all('h2')\n",
    "datasets_list = [e.text for e in datasets]\n",
    "print(datasets_list)"
   ]
  },
  {
   "cell_type": "markdown",
   "metadata": {},
   "source": [
    "#### Top 10 languages by number of native speakers stored in a Pandas Dataframe"
   ]
  },
  {
   "cell_type": "code",
   "execution_count": 100,
   "metadata": {},
   "outputs": [],
   "source": [
    "# This is the url you will scrape in this exercise\n",
    "url = 'https://en.wikipedia.org/wiki/List_of_languages_by_number_of_native_speakers'"
   ]
  },
  {
   "cell_type": "code",
   "execution_count": 101,
   "metadata": {},
   "outputs": [],
   "source": [
    "#your code\n",
    "res = requests.get(url)\n",
    "html = res.text\n",
    "soup = BeautifulSoup(html, 'html.parser')"
   ]
  },
  {
   "cell_type": "code",
   "execution_count": 116,
   "metadata": {},
   "outputs": [
    {
     "name": "stdout",
     "output_type": "stream",
     "text": [
      "[{'languages': 'Mandarin', 'native_speakers': '918'}, {'languages': 'Spanish', 'native_speakers': '480'}, {'languages': 'English', 'native_speakers': '379'}, {'languages': 'Hindi', 'native_speakers': '341'}, {'languages': 'Bengali', 'native_speakers': '228'}, {'languages': 'Portuguese', 'native_speakers': '221'}, {'languages': 'Russian', 'native_speakers': '154'}, {'languages': 'Japanese', 'native_speakers': '128'}, {'languages': 'Western Punjabi', 'native_speakers': '92.7'}, {'languages': 'Marathi', 'native_speakers': '83.1'}]\n"
     ]
    }
   ],
   "source": [
    "table = soup.find_all('tbody')[0]\n",
    "filas = table.find_all('tr')[1:]\n",
    "\n",
    "lista = []\n",
    "for fila in filas:\n",
    "    celdas = fila.find_all('td')\n",
    "    diccionario = {\n",
    "        \"languages\": celdas[1].find('a').text,\n",
    "        \"native_speakers\": re.sub('\\n','',celdas[4].text),\n",
    "    }\n",
    "    lista.append(diccionario)\n",
    "\n",
    "top10 = lista[0:10]\n",
    "print(top10)"
   ]
  },
  {
   "cell_type": "code",
   "execution_count": 125,
   "metadata": {},
   "outputs": [
    {
     "data": {
      "text/html": [
       "<div>\n",
       "<style scoped>\n",
       "    .dataframe tbody tr th:only-of-type {\n",
       "        vertical-align: middle;\n",
       "    }\n",
       "\n",
       "    .dataframe tbody tr th {\n",
       "        vertical-align: top;\n",
       "    }\n",
       "\n",
       "    .dataframe thead th {\n",
       "        text-align: right;\n",
       "    }\n",
       "</style>\n",
       "<table border=\"1\" class=\"dataframe\">\n",
       "  <thead>\n",
       "    <tr style=\"text-align: right;\">\n",
       "      <th></th>\n",
       "      <th>languages</th>\n",
       "      <th>native_speakers</th>\n",
       "    </tr>\n",
       "  </thead>\n",
       "  <tbody>\n",
       "    <tr>\n",
       "      <th>0</th>\n",
       "      <td>Mandarin</td>\n",
       "      <td>918</td>\n",
       "    </tr>\n",
       "    <tr>\n",
       "      <th>1</th>\n",
       "      <td>Spanish</td>\n",
       "      <td>480</td>\n",
       "    </tr>\n",
       "    <tr>\n",
       "      <th>2</th>\n",
       "      <td>English</td>\n",
       "      <td>379</td>\n",
       "    </tr>\n",
       "    <tr>\n",
       "      <th>3</th>\n",
       "      <td>Hindi</td>\n",
       "      <td>341</td>\n",
       "    </tr>\n",
       "    <tr>\n",
       "      <th>4</th>\n",
       "      <td>Bengali</td>\n",
       "      <td>228</td>\n",
       "    </tr>\n",
       "    <tr>\n",
       "      <th>5</th>\n",
       "      <td>Portuguese</td>\n",
       "      <td>221</td>\n",
       "    </tr>\n",
       "    <tr>\n",
       "      <th>6</th>\n",
       "      <td>Russian</td>\n",
       "      <td>154</td>\n",
       "    </tr>\n",
       "    <tr>\n",
       "      <th>7</th>\n",
       "      <td>Japanese</td>\n",
       "      <td>128</td>\n",
       "    </tr>\n",
       "    <tr>\n",
       "      <th>8</th>\n",
       "      <td>Western Punjabi</td>\n",
       "      <td>92.7</td>\n",
       "    </tr>\n",
       "    <tr>\n",
       "      <th>9</th>\n",
       "      <td>Marathi</td>\n",
       "      <td>83.1</td>\n",
       "    </tr>\n",
       "  </tbody>\n",
       "</table>\n",
       "</div>"
      ],
      "text/plain": [
       "         languages native_speakers\n",
       "0         Mandarin             918\n",
       "1          Spanish             480\n",
       "2          English             379\n",
       "3            Hindi             341\n",
       "4          Bengali             228\n",
       "5       Portuguese             221\n",
       "6          Russian             154\n",
       "7         Japanese             128\n",
       "8  Western Punjabi            92.7\n",
       "9          Marathi            83.1"
      ]
     },
     "metadata": {},
     "output_type": "display_data"
    }
   ],
   "source": [
    "df = pd.DataFrame(top10)\n",
    "display(df)"
   ]
  },
  {
   "cell_type": "code",
   "execution_count": 2,
   "metadata": {},
   "outputs": [
    {
     "data": {
      "image/png": "[encoded data removed]",
      "text/plain": [
       "<IPython.core.display.Image object>"
      ]
     },
     "metadata": {},
     "output_type": "display_data"
    }
   ],
   "source": [
    "# from IPython.display import Image\n",
    "# from IPython.core.display import HTML\n",
    "display(Image('https://i.ibb.co/7CCz84M/web-scraping.png'))"
   ]
  },
  {
   "cell_type": "markdown",
   "metadata": {},
   "source": [
    "### BONUS QUESTIONS"
   ]
  },
  {
   "cell_type": "markdown",
   "metadata": {},
   "source": [
    "#### Scrape a certain number of tweets of a given Twitter account."
   ]
  },
  {
   "cell_type": "code",
   "execution_count": 6,
   "metadata": {},
   "outputs": [],
   "source": [
    "# This is the url you will scrape in this exercise \n",
    "# You will need to add the account credentials to this url\n",
    "url = 'https://twitter.com/ereschiste'\n",
    "res = requests.get(url)\n",
    "html = res.text\n",
    "soup = BeautifulSoup(html, 'html.parser')"
   ]
  },
  {
   "cell_type": "code",
   "execution_count": 18,
   "metadata": {},
   "outputs": [
    {
     "name": "stdout",
     "output_type": "stream",
     "text": [
      "\n",
      " 2 amigos de la infancia:-Oye tu te acostaste con tu mujer antes de casarte?\n",
      "-Yo no, y tú?\n",
      "-Hombre, yo no sabia que te ibas a casar con ella.\n",
      "\n",
      " - Mamá, mamá, hay un pobre hombre que no para de gritar. ¿Me das algo para él?\n",
      "- Bueno, toma. ¿Y qué dice?\n",
      "- ¡Helados, helados!\n",
      "\n",
      " - Pepito, ¿sabes tú qué es un urólogo?.\n",
      "- ¡Sí!. Es un médico especialista que te la mira con desprecio, te la toca con asco y te cobra como si te la hubiera mamado.\n",
      "\n",
      " - Camarero, quisiera invitar a aquella señorita. ¿Sabe usted qué está tomando?\n",
      "- Un \"Henry IV Dudognon Heritage Cognac Grande Champagne\".\n",
      "- Perefecto, póngale otro hielo de mi parte...\n"
     ]
    }
   ],
   "source": [
    "# your code\n",
    "tweets = soup.select('.tweet-text')[1:5]\n",
    "tweets = [e.text for e in tweets]\n",
    "for e in tweets:\n",
    "    print('\\n',e)"
   ]
  },
  {
   "cell_type": "markdown",
   "metadata": {},
   "source": [
    "#### IMDB's Top 250 data (movie name, Initial release, director name and stars) as a pandas dataframe"
   ]
  },
  {
   "cell_type": "code",
   "execution_count": 19,
   "metadata": {},
   "outputs": [],
   "source": [
    "# This is the url you will scrape in this exercise \n",
    "url = 'https://www.imdb.com/chart/top'\n",
    "res = requests.get(url)\n",
    "html = res.text\n",
    "soup = BeautifulSoup(html, 'html.parser')"
   ]
  },
  {
   "cell_type": "code",
   "execution_count": 57,
   "metadata": {},
   "outputs": [
    {
     "data": {
      "text/html": [
       "<div>\n",
       "<style scoped>\n",
       "    .dataframe tbody tr th:only-of-type {\n",
       "        vertical-align: middle;\n",
       "    }\n",
       "\n",
       "    .dataframe tbody tr th {\n",
       "        vertical-align: top;\n",
       "    }\n",
       "\n",
       "    .dataframe thead th {\n",
       "        text-align: right;\n",
       "    }\n",
       "</style>\n",
       "<table border=\"1\" class=\"dataframe\">\n",
       "  <thead>\n",
       "    <tr style=\"text-align: right;\">\n",
       "      <th></th>\n",
       "      <th>title</th>\n",
       "      <th>year</th>\n",
       "      <th>director</th>\n",
       "      <th>stars</th>\n",
       "    </tr>\n",
       "  </thead>\n",
       "  <tbody>\n",
       "    <tr>\n",
       "      <th>0</th>\n",
       "      <td>Cadena perpetua</td>\n",
       "      <td>1994</td>\n",
       "      <td>Frank Darabont</td>\n",
       "      <td>9.2</td>\n",
       "    </tr>\n",
       "    <tr>\n",
       "      <th>1</th>\n",
       "      <td>El padrino</td>\n",
       "      <td>1972</td>\n",
       "      <td>Francis Ford Coppola</td>\n",
       "      <td>9.1</td>\n",
       "    </tr>\n",
       "    <tr>\n",
       "      <th>2</th>\n",
       "      <td>El padrino: Parte II</td>\n",
       "      <td>1974</td>\n",
       "      <td>Francis Ford Coppola</td>\n",
       "      <td>9.0</td>\n",
       "    </tr>\n",
       "    <tr>\n",
       "      <th>3</th>\n",
       "      <td>El caballero oscuro</td>\n",
       "      <td>2008</td>\n",
       "      <td>Christopher Nolan</td>\n",
       "      <td>9.0</td>\n",
       "    </tr>\n",
       "    <tr>\n",
       "      <th>4</th>\n",
       "      <td>12 hombres sin piedad</td>\n",
       "      <td>1957</td>\n",
       "      <td>Sidney Lumet</td>\n",
       "      <td>8.9</td>\n",
       "    </tr>\n",
       "    <tr>\n",
       "      <th>5</th>\n",
       "      <td>La lista de Schindler</td>\n",
       "      <td>1993</td>\n",
       "      <td>Steven Spielberg</td>\n",
       "      <td>8.9</td>\n",
       "    </tr>\n",
       "    <tr>\n",
       "      <th>6</th>\n",
       "      <td>El señor de los anillos: El retorno del rey</td>\n",
       "      <td>2003</td>\n",
       "      <td>Peter Jackson</td>\n",
       "      <td>8.9</td>\n",
       "    </tr>\n",
       "    <tr>\n",
       "      <th>7</th>\n",
       "      <td>Pulp Fiction</td>\n",
       "      <td>1994</td>\n",
       "      <td>Quentin Tarantino</td>\n",
       "      <td>8.9</td>\n",
       "    </tr>\n",
       "    <tr>\n",
       "      <th>8</th>\n",
       "      <td>El bueno, el feo y el malo</td>\n",
       "      <td>1966</td>\n",
       "      <td>Sergio Leone</td>\n",
       "      <td>8.8</td>\n",
       "    </tr>\n",
       "    <tr>\n",
       "      <th>9</th>\n",
       "      <td>El club de la lucha</td>\n",
       "      <td>1999</td>\n",
       "      <td>David Fincher</td>\n",
       "      <td>8.8</td>\n",
       "    </tr>\n",
       "    <tr>\n",
       "      <th>10</th>\n",
       "      <td>El señor de los anillos: La comunidad del anillo</td>\n",
       "      <td>2001</td>\n",
       "      <td>Peter Jackson</td>\n",
       "      <td>8.8</td>\n",
       "    </tr>\n",
       "    <tr>\n",
       "      <th>11</th>\n",
       "      <td>Forrest Gump</td>\n",
       "      <td>1994</td>\n",
       "      <td>Robert Zemeckis</td>\n",
       "      <td>8.8</td>\n",
       "    </tr>\n",
       "    <tr>\n",
       "      <th>12</th>\n",
       "      <td>Origen</td>\n",
       "      <td>2010</td>\n",
       "      <td>Christopher Nolan</td>\n",
       "      <td>8.7</td>\n",
       "    </tr>\n",
       "    <tr>\n",
       "      <th>13</th>\n",
       "      <td>El imperio contraataca</td>\n",
       "      <td>1980</td>\n",
       "      <td>Irvin Kershner</td>\n",
       "      <td>8.7</td>\n",
       "    </tr>\n",
       "    <tr>\n",
       "      <th>14</th>\n",
       "      <td>El señor de los anillos: Las dos torres</td>\n",
       "      <td>2002</td>\n",
       "      <td>Peter Jackson</td>\n",
       "      <td>8.7</td>\n",
       "    </tr>\n",
       "    <tr>\n",
       "      <th>15</th>\n",
       "      <td>Joker</td>\n",
       "      <td>2019</td>\n",
       "      <td>Todd Phillips</td>\n",
       "      <td>8.7</td>\n",
       "    </tr>\n",
       "    <tr>\n",
       "      <th>16</th>\n",
       "      <td>Matrix</td>\n",
       "      <td>1999</td>\n",
       "      <td>Lana Wachowski</td>\n",
       "      <td>8.6</td>\n",
       "    </tr>\n",
       "    <tr>\n",
       "      <th>17</th>\n",
       "      <td>Alguien voló sobre el nido del cuco</td>\n",
       "      <td>1975</td>\n",
       "      <td>Milos Forman</td>\n",
       "      <td>8.6</td>\n",
       "    </tr>\n",
       "    <tr>\n",
       "      <th>18</th>\n",
       "      <td>Uno de los nuestros</td>\n",
       "      <td>1990</td>\n",
       "      <td>Martin Scorsese</td>\n",
       "      <td>8.6</td>\n",
       "    </tr>\n",
       "    <tr>\n",
       "      <th>19</th>\n",
       "      <td>Los siete samuráis</td>\n",
       "      <td>1954</td>\n",
       "      <td>Akira Kurosawa</td>\n",
       "      <td>8.6</td>\n",
       "    </tr>\n",
       "    <tr>\n",
       "      <th>20</th>\n",
       "      <td>Seven</td>\n",
       "      <td>1995</td>\n",
       "      <td>David Fincher</td>\n",
       "      <td>8.6</td>\n",
       "    </tr>\n",
       "    <tr>\n",
       "      <th>21</th>\n",
       "      <td>Ciudad de Dios</td>\n",
       "      <td>2002</td>\n",
       "      <td>Fernando Meirelles</td>\n",
       "      <td>8.6</td>\n",
       "    </tr>\n",
       "    <tr>\n",
       "      <th>22</th>\n",
       "      <td>La vida es bella</td>\n",
       "      <td>1997</td>\n",
       "      <td>Roberto Benigni</td>\n",
       "      <td>8.6</td>\n",
       "    </tr>\n",
       "    <tr>\n",
       "      <th>23</th>\n",
       "      <td>El silencio de los corderos</td>\n",
       "      <td>1991</td>\n",
       "      <td>Jonathan Demme</td>\n",
       "      <td>8.6</td>\n",
       "    </tr>\n",
       "    <tr>\n",
       "      <th>24</th>\n",
       "      <td>¡Qué bello es vivir!</td>\n",
       "      <td>1946</td>\n",
       "      <td>Frank Capra</td>\n",
       "      <td>8.6</td>\n",
       "    </tr>\n",
       "    <tr>\n",
       "      <th>25</th>\n",
       "      <td>La guerra de las galaxias</td>\n",
       "      <td>1977</td>\n",
       "      <td>George Lucas</td>\n",
       "      <td>8.6</td>\n",
       "    </tr>\n",
       "    <tr>\n",
       "      <th>26</th>\n",
       "      <td>Salvar al soldado Ryan</td>\n",
       "      <td>1998</td>\n",
       "      <td>Steven Spielberg</td>\n",
       "      <td>8.5</td>\n",
       "    </tr>\n",
       "    <tr>\n",
       "      <th>27</th>\n",
       "      <td>El viaje de Chihiro</td>\n",
       "      <td>2001</td>\n",
       "      <td>Hayao Miyazaki</td>\n",
       "      <td>8.5</td>\n",
       "    </tr>\n",
       "    <tr>\n",
       "      <th>28</th>\n",
       "      <td>La milla verde</td>\n",
       "      <td>1999</td>\n",
       "      <td>Frank Darabont</td>\n",
       "      <td>8.5</td>\n",
       "    </tr>\n",
       "    <tr>\n",
       "      <th>29</th>\n",
       "      <td>El profesional (Léon)</td>\n",
       "      <td>1994</td>\n",
       "      <td>Luc Besson</td>\n",
       "      <td>8.5</td>\n",
       "    </tr>\n",
       "    <tr>\n",
       "      <th>...</th>\n",
       "      <td>...</td>\n",
       "      <td>...</td>\n",
       "      <td>...</td>\n",
       "      <td>...</td>\n",
       "    </tr>\n",
       "    <tr>\n",
       "      <th>220</th>\n",
       "      <td>Spotlight</td>\n",
       "      <td>2015</td>\n",
       "      <td>Tom McCarthy</td>\n",
       "      <td>8.0</td>\n",
       "    </tr>\n",
       "    <tr>\n",
       "      <th>221</th>\n",
       "      <td>El club de los poetas muertos</td>\n",
       "      <td>1989</td>\n",
       "      <td>Peter Weir</td>\n",
       "      <td>8.0</td>\n",
       "    </tr>\n",
       "    <tr>\n",
       "      <th>222</th>\n",
       "      <td>Al rojo vivo</td>\n",
       "      <td>1949</td>\n",
       "      <td>Raoul Walsh</td>\n",
       "      <td>8.0</td>\n",
       "    </tr>\n",
       "    <tr>\n",
       "      <th>223</th>\n",
       "      <td>El gran carnaval</td>\n",
       "      <td>1951</td>\n",
       "      <td>Billy Wilder</td>\n",
       "      <td>8.0</td>\n",
       "    </tr>\n",
       "    <tr>\n",
       "      <th>224</th>\n",
       "      <td>Rebeca</td>\n",
       "      <td>1940</td>\n",
       "      <td>Alfred Hitchcock</td>\n",
       "      <td>8.0</td>\n",
       "    </tr>\n",
       "    <tr>\n",
       "      <th>225</th>\n",
       "      <td>Rocky</td>\n",
       "      <td>1976</td>\n",
       "      <td>John G. Avildsen</td>\n",
       "      <td>8.0</td>\n",
       "    </tr>\n",
       "    <tr>\n",
       "      <th>226</th>\n",
       "      <td>Monstruos, S.A.</td>\n",
       "      <td>2001</td>\n",
       "      <td>Pete Docter</td>\n",
       "      <td>8.0</td>\n",
       "    </tr>\n",
       "    <tr>\n",
       "      <th>227</th>\n",
       "      <td>Sucedió una noche</td>\n",
       "      <td>1934</td>\n",
       "      <td>Frank Capra</td>\n",
       "      <td>8.0</td>\n",
       "    </tr>\n",
       "    <tr>\n",
       "      <th>228</th>\n",
       "      <td>El odio</td>\n",
       "      <td>1995</td>\n",
       "      <td>Mathieu Kassovitz</td>\n",
       "      <td>8.0</td>\n",
       "    </tr>\n",
       "    <tr>\n",
       "      <th>229</th>\n",
       "      <td>La doncella</td>\n",
       "      <td>2016</td>\n",
       "      <td>Chan-wook Park</td>\n",
       "      <td>8.0</td>\n",
       "    </tr>\n",
       "    <tr>\n",
       "      <th>230</th>\n",
       "      <td>Gangs of Wasseypur</td>\n",
       "      <td>2012</td>\n",
       "      <td>Anurag Kashyap</td>\n",
       "      <td>8.0</td>\n",
       "    </tr>\n",
       "    <tr>\n",
       "      <th>231</th>\n",
       "      <td>Lagaan: Érase una vez en la India</td>\n",
       "      <td>2001</td>\n",
       "      <td>Ashutosh Gowariker</td>\n",
       "      <td>8.0</td>\n",
       "    </tr>\n",
       "    <tr>\n",
       "      <th>232</th>\n",
       "      <td>La princesa prometida</td>\n",
       "      <td>1987</td>\n",
       "      <td>Rob Reiner</td>\n",
       "      <td>8.0</td>\n",
       "    </tr>\n",
       "    <tr>\n",
       "      <th>233</th>\n",
       "      <td>PK</td>\n",
       "      <td>2014</td>\n",
       "      <td>Rajkumar Hirani</td>\n",
       "      <td>8.0</td>\n",
       "    </tr>\n",
       "    <tr>\n",
       "      <th>234</th>\n",
       "      <td>Munna Bhai M.B.B.S.</td>\n",
       "      <td>2003</td>\n",
       "      <td>Rajkumar Hirani</td>\n",
       "      <td>8.0</td>\n",
       "    </tr>\n",
       "    <tr>\n",
       "      <th>235</th>\n",
       "      <td>Dos hombres y un destino</td>\n",
       "      <td>1969</td>\n",
       "      <td>George Roy Hill</td>\n",
       "      <td>8.0</td>\n",
       "    </tr>\n",
       "    <tr>\n",
       "      <th>236</th>\n",
       "      <td>Antes del atardecer</td>\n",
       "      <td>2004</td>\n",
       "      <td>Richard Linklater</td>\n",
       "      <td>8.0</td>\n",
       "    </tr>\n",
       "    <tr>\n",
       "      <th>237</th>\n",
       "      <td>Criadas y señoras</td>\n",
       "      <td>2011</td>\n",
       "      <td>Tate Taylor</td>\n",
       "      <td>8.0</td>\n",
       "    </tr>\n",
       "    <tr>\n",
       "      <th>238</th>\n",
       "      <td>Akira</td>\n",
       "      <td>1988</td>\n",
       "      <td>Katsuhiro Ôtomo</td>\n",
       "      <td>8.0</td>\n",
       "    </tr>\n",
       "    <tr>\n",
       "      <th>239</th>\n",
       "      <td>Terminator</td>\n",
       "      <td>1984</td>\n",
       "      <td>James Cameron</td>\n",
       "      <td>8.0</td>\n",
       "    </tr>\n",
       "    <tr>\n",
       "      <th>240</th>\n",
       "      <td>Deseando amar</td>\n",
       "      <td>2000</td>\n",
       "      <td>Kar-Wai Wong</td>\n",
       "      <td>8.0</td>\n",
       "    </tr>\n",
       "    <tr>\n",
       "      <th>241</th>\n",
       "      <td>París, Texas</td>\n",
       "      <td>1984</td>\n",
       "      <td>Wim Wenders</td>\n",
       "      <td>8.0</td>\n",
       "    </tr>\n",
       "    <tr>\n",
       "      <th>242</th>\n",
       "      <td>Swades: We, the People</td>\n",
       "      <td>2004</td>\n",
       "      <td>Ashutosh Gowariker</td>\n",
       "      <td>8.0</td>\n",
       "    </tr>\n",
       "    <tr>\n",
       "      <th>243</th>\n",
       "      <td>Aladdín</td>\n",
       "      <td>1992</td>\n",
       "      <td>Ron Clements</td>\n",
       "      <td>8.0</td>\n",
       "    </tr>\n",
       "    <tr>\n",
       "      <th>244</th>\n",
       "      <td>Guardianes de la galaxia</td>\n",
       "      <td>2014</td>\n",
       "      <td>James Gunn</td>\n",
       "      <td>8.0</td>\n",
       "    </tr>\n",
       "    <tr>\n",
       "      <th>245</th>\n",
       "      <td>Juego sucio</td>\n",
       "      <td>2002</td>\n",
       "      <td>Andrew Lau</td>\n",
       "      <td>8.0</td>\n",
       "    </tr>\n",
       "    <tr>\n",
       "      <th>246</th>\n",
       "      <td>La batalla de Argel</td>\n",
       "      <td>1966</td>\n",
       "      <td>Gillo Pontecorvo</td>\n",
       "      <td>8.0</td>\n",
       "    </tr>\n",
       "    <tr>\n",
       "      <th>247</th>\n",
       "      <td>La leyenda del pianista en el océano</td>\n",
       "      <td>1998</td>\n",
       "      <td>Giuseppe Tornatore</td>\n",
       "      <td>8.0</td>\n",
       "    </tr>\n",
       "    <tr>\n",
       "      <th>248</th>\n",
       "      <td>El castillo en el cielo</td>\n",
       "      <td>1986</td>\n",
       "      <td>Hayao Miyazaki</td>\n",
       "      <td>8.0</td>\n",
       "    </tr>\n",
       "    <tr>\n",
       "      <th>249</th>\n",
       "      <td>Hera Pheri</td>\n",
       "      <td>2000</td>\n",
       "      <td>Priyadarshan</td>\n",
       "      <td>8.0</td>\n",
       "    </tr>\n",
       "  </tbody>\n",
       "</table>\n",
       "<p>250 rows × 4 columns</p>\n",
       "</div>"
      ],
      "text/plain": [
       "                                                title  year  \\\n",
       "0                                     Cadena perpetua  1994   \n",
       "1                                          El padrino  1972   \n",
       "2                                El padrino: Parte II  1974   \n",
       "3                                 El caballero oscuro  2008   \n",
       "4                               12 hombres sin piedad  1957   \n",
       "5                               La lista de Schindler  1993   \n",
       "6         El señor de los anillos: El retorno del rey  2003   \n",
       "7                                        Pulp Fiction  1994   \n",
       "8                          El bueno, el feo y el malo  1966   \n",
       "9                                 El club de la lucha  1999   \n",
       "10   El señor de los anillos: La comunidad del anillo  2001   \n",
       "11                                       Forrest Gump  1994   \n",
       "12                                             Origen  2010   \n",
       "13                             El imperio contraataca  1980   \n",
       "14            El señor de los anillos: Las dos torres  2002   \n",
       "15                                              Joker  2019   \n",
       "16                                             Matrix  1999   \n",
       "17                Alguien voló sobre el nido del cuco  1975   \n",
       "18                                Uno de los nuestros  1990   \n",
       "19                                 Los siete samuráis  1954   \n",
       "20                                              Seven  1995   \n",
       "21                                     Ciudad de Dios  2002   \n",
       "22                                   La vida es bella  1997   \n",
       "23                        El silencio de los corderos  1991   \n",
       "24                               ¡Qué bello es vivir!  1946   \n",
       "25                          La guerra de las galaxias  1977   \n",
       "26                             Salvar al soldado Ryan  1998   \n",
       "27                                El viaje de Chihiro  2001   \n",
       "28                                     La milla verde  1999   \n",
       "29                              El profesional (Léon)  1994   \n",
       "..                                                ...   ...   \n",
       "220                                         Spotlight  2015   \n",
       "221                     El club de los poetas muertos  1989   \n",
       "222                                      Al rojo vivo  1949   \n",
       "223                                  El gran carnaval  1951   \n",
       "224                                            Rebeca  1940   \n",
       "225                                             Rocky  1976   \n",
       "226                                   Monstruos, S.A.  2001   \n",
       "227                                 Sucedió una noche  1934   \n",
       "228                                           El odio  1995   \n",
       "229                                       La doncella  2016   \n",
       "230                                Gangs of Wasseypur  2012   \n",
       "231                 Lagaan: Érase una vez en la India  2001   \n",
       "232                             La princesa prometida  1987   \n",
       "233                                                PK  2014   \n",
       "234                               Munna Bhai M.B.B.S.  2003   \n",
       "235                          Dos hombres y un destino  1969   \n",
       "236                               Antes del atardecer  2004   \n",
       "237                                 Criadas y señoras  2011   \n",
       "238                                             Akira  1988   \n",
       "239                                        Terminator  1984   \n",
       "240                                     Deseando amar  2000   \n",
       "241                                      París, Texas  1984   \n",
       "242                            Swades: We, the People  2004   \n",
       "243                                           Aladdín  1992   \n",
       "244                          Guardianes de la galaxia  2014   \n",
       "245                                       Juego sucio  2002   \n",
       "246                               La batalla de Argel  1966   \n",
       "247              La leyenda del pianista en el océano  1998   \n",
       "248                           El castillo en el cielo  1986   \n",
       "249                                        Hera Pheri  2000   \n",
       "\n",
       "                 director stars  \n",
       "0          Frank Darabont   9.2  \n",
       "1    Francis Ford Coppola   9.1  \n",
       "2    Francis Ford Coppola   9.0  \n",
       "3       Christopher Nolan   9.0  \n",
       "4            Sidney Lumet   8.9  \n",
       "5        Steven Spielberg   8.9  \n",
       "6           Peter Jackson   8.9  \n",
       "7       Quentin Tarantino   8.9  \n",
       "8            Sergio Leone   8.8  \n",
       "9           David Fincher   8.8  \n",
       "10          Peter Jackson   8.8  \n",
       "11        Robert Zemeckis   8.8  \n",
       "12      Christopher Nolan   8.7  \n",
       "13         Irvin Kershner   8.7  \n",
       "14          Peter Jackson   8.7  \n",
       "15          Todd Phillips   8.7  \n",
       "16         Lana Wachowski   8.6  \n",
       "17           Milos Forman   8.6  \n",
       "18        Martin Scorsese   8.6  \n",
       "19         Akira Kurosawa   8.6  \n",
       "20          David Fincher   8.6  \n",
       "21     Fernando Meirelles   8.6  \n",
       "22        Roberto Benigni   8.6  \n",
       "23         Jonathan Demme   8.6  \n",
       "24            Frank Capra   8.6  \n",
       "25           George Lucas   8.6  \n",
       "26       Steven Spielberg   8.5  \n",
       "27         Hayao Miyazaki   8.5  \n",
       "28         Frank Darabont   8.5  \n",
       "29             Luc Besson   8.5  \n",
       "..                    ...   ...  \n",
       "220          Tom McCarthy   8.0  \n",
       "221            Peter Weir   8.0  \n",
       "222           Raoul Walsh   8.0  \n",
       "223          Billy Wilder   8.0  \n",
       "224      Alfred Hitchcock   8.0  \n",
       "225      John G. Avildsen   8.0  \n",
       "226           Pete Docter   8.0  \n",
       "227           Frank Capra   8.0  \n",
       "228     Mathieu Kassovitz   8.0  \n",
       "229        Chan-wook Park   8.0  \n",
       "230        Anurag Kashyap   8.0  \n",
       "231    Ashutosh Gowariker   8.0  \n",
       "232            Rob Reiner   8.0  \n",
       "233       Rajkumar Hirani   8.0  \n",
       "234       Rajkumar Hirani   8.0  \n",
       "235       George Roy Hill   8.0  \n",
       "236     Richard Linklater   8.0  \n",
       "237           Tate Taylor   8.0  \n",
       "238       Katsuhiro Ôtomo   8.0  \n",
       "239         James Cameron   8.0  \n",
       "240          Kar-Wai Wong   8.0  \n",
       "241           Wim Wenders   8.0  \n",
       "242    Ashutosh Gowariker   8.0  \n",
       "243          Ron Clements   8.0  \n",
       "244            James Gunn   8.0  \n",
       "245            Andrew Lau   8.0  \n",
       "246      Gillo Pontecorvo   8.0  \n",
       "247    Giuseppe Tornatore   8.0  \n",
       "248        Hayao Miyazaki   8.0  \n",
       "249          Priyadarshan   8.0  \n",
       "\n",
       "[250 rows x 4 columns]"
      ]
     },
     "metadata": {},
     "output_type": "display_data"
    }
   ],
   "source": [
    "# your code\n",
    "\n",
    "title = soup.select('.titleColumn')\n",
    "title = [e.text for e in title]\n",
    "title = [e.split('\\n      ')[2] for e in title]\n",
    "title_2 = [e.split('\\n')[0] for e in title]\n",
    "title_2 = title_2[:250]\n",
    "# print(title_2)\n",
    "\n",
    "year = [e.split('\\n')[1] for e in title]\n",
    "year = [int(re.sub('\\(|\\)','',e)) for e in year]\n",
    "year = year[:250]\n",
    "# print(year)\n",
    "\n",
    "director = soup.select('.titleColumn')\n",
    "director = [e.find('a').get('title').split(' (dir.)')[0] for e in director]\n",
    "director = director[:250]\n",
    "# print(director)\n",
    "\n",
    "rating = soup.select('.imdbRating')\n",
    "rating = [re.sub('\\n','',e.text) for e in rating]\n",
    "rating = rating[:250]\n",
    "# print(rating)\n",
    "\n",
    "df = pd.DataFrame({'title':[0]*250,'year':[0]*250,'director':[0]*250,'stars':[0]*250})\n",
    "df['title'] = title_2\n",
    "df['year'] = year\n",
    "df['director'] = director\n",
    "df['stars'] = rating\n",
    "display(df)"
   ]
  },
  {
   "cell_type": "markdown",
   "metadata": {},
   "source": [
    "#### Movie name, year and a brief summary of the top 10 random movies (IMDB) as a pandas dataframe."
   ]
  },
  {
   "cell_type": "code",
   "execution_count": null,
   "metadata": {},
   "outputs": [],
   "source": [
    "#This is the url you will scrape in this exercise\n",
    "url = 'http://www.imdb.com/chart/top'"
   ]
  },
  {
   "cell_type": "code",
   "execution_count": null,
   "metadata": {},
   "outputs": [],
   "source": []
  },
  {
   "cell_type": "markdown",
   "metadata": {},
   "source": [
    "#### Find the live weather report (temperature, wind speed, description and weather) of a given city."
   ]
  },
  {
   "cell_type": "code",
   "execution_count": 62,
   "metadata": {},
   "outputs": [
    {
     "name": "stdout",
     "output_type": "stream",
     "text": [
      "Enter the city: Madrid\n"
     ]
    }
   ],
   "source": [
    "#https://openweathermap.org/current\n",
    "city = city=input('Enter the city: ')\n",
    "url = 'http://api.openweathermap.org/data/2.5/weather?'+'q='+city+'&APPID=b35975e18dc93725acb092f7272cc6b8&units=metric'"
   ]
  },
  {
   "cell_type": "code",
   "execution_count": null,
   "metadata": {},
   "outputs": [],
   "source": []
  },
  {
   "cell_type": "markdown",
   "metadata": {},
   "source": [
    "#### Book name,price and stock availability as a pandas dataframe."
   ]
  },
  {
   "cell_type": "code",
   "execution_count": null,
   "metadata": {},
   "outputs": [],
   "source": [
    "# This is the url you will scrape in this exercise. \n",
    "# It is a fictional bookstore created to be scraped. \n",
    "url = 'http://books.toscrape.com/'"
   ]
  },
  {
   "cell_type": "code",
   "execution_count": null,
   "metadata": {},
   "outputs": [],
   "source": [
    "#your code"
   ]
  }
 ],
 "metadata": {
  "kernelspec": {
   "display_name": "Python 3",
   "language": "python",
   "name": "python3"
  },
  "language_info": {
   "codemirror_mode": {
    "name": "ipython",
    "version": 3
   },
   "file_extension": ".py",
   "mimetype": "text/x-python",
   "name": "python",
   "nbconvert_exporter": "python",
   "pygments_lexer": "ipython3",
   "version": "3.7.3"
  }
 },
 "nbformat": 4,
 "nbformat_minor": 2
}
