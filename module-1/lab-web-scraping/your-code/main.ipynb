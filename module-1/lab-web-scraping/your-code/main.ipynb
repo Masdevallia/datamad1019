{
 "cells": [
  {
   "cell_type": "markdown",
   "metadata": {},
   "source": [
    "# Web Scraping Lab\n",
    "\n",
    "You will find in this notebook some scrapy exercises to practise your scraping skills.\n",
    "\n",
    "**Tips:**\n",
    "\n",
    "- Check the response status code for each request to ensure you have obtained the intended contennt.\n",
    "- Print the response text in each request to understand the kind of info you are getting and its format.\n",
    "- Check for patterns in the response text to extract the data/info requested in each question.\n",
    "- Visit each url and take a look at its source through Chrome DevTools. You'll need to identify the html tags, special class names etc. used for the html content you are expected to extract."
   ]
  },
  {
   "cell_type": "markdown",
   "metadata": {},
   "source": [
    "- [Requests library](http://docs.python-requests.org/en/master/#the-user-guide) documentation \n",
    "- [Beautiful Soup Doc](https://www.crummy.com/software/BeautifulSoup/bs4/doc/)\n",
    "- [Urllib](https://docs.python.org/3/library/urllib.html#module-urllib)\n",
    "- [re lib](https://docs.python.org/3/library/re.html)\n",
    "- [lxml lib](https://lxml.de/)\n",
    "- [Scrapy](https://scrapy.org/)\n",
    "- [List of HTTP status codes](https://en.wikipedia.org/wiki/List_of_HTTP_status_codes)\n",
    "- [HTML basics](http://www.simplehtmlguide.com/cheatsheet.php)\n",
    "- [CSS basics](https://www.cssbasics.com/#page_start)"
   ]
  },
  {
   "cell_type": "markdown",
   "metadata": {},
   "source": [
    "#### Below are the libraries and modules you may need. `requests`,  `BeautifulSoup` and `pandas` are imported for you. If you prefer to use additional libraries feel free to uncomment them."
   ]
  },
  {
   "cell_type": "code",
   "execution_count": 1,
   "metadata": {},
   "outputs": [],
   "source": [
    "import requests\n",
    "from bs4 import BeautifulSoup\n",
    "import pandas as pd\n",
    "from pprint import pprint\n",
    "from lxml import html\n",
    "from lxml.html import fromstring\n",
    "import urllib.request\n",
    "from urllib.request import urlopen\n",
    "import random\n",
    "import re\n",
    "# import scrapy # No he podido instalarla. Luego lo miro en casa."
   ]
  },
  {
   "cell_type": "markdown",
   "metadata": {},
   "source": [
    "#### Download, parse (using BeautifulSoup), and print the content from the Trending Developers page from GitHub:"
   ]
  },
  {
   "cell_type": "code",
   "execution_count": 134,
   "metadata": {},
   "outputs": [],
   "source": [
    "# This is the url you will scrape in this exercise\n",
    "url = 'https://github.com/trending/developers'"
   ]
  },
  {
   "cell_type": "code",
   "execution_count": 135,
   "metadata": {},
   "outputs": [],
   "source": [
    "#your code\n",
    "res = requests.get(url)\n",
    "html = res.text"
   ]
  },
  {
   "cell_type": "code",
   "execution_count": 136,
   "metadata": {},
   "outputs": [],
   "source": [
    "soup = BeautifulSoup(html, 'html.parser')"
   ]
  },
  {
   "cell_type": "markdown",
   "metadata": {},
   "source": [
    "#### Display the names of the trending developers retrieved in the previous step.\n",
    "\n",
    "Your output should be a Python list of developer names. Each name should not contain any html tag.\n",
    "\n",
    "**Instructions:**\n",
    "\n",
    "1. Find out the html tag and class names used for the developer names. You can achieve this using Chrome DevTools.\n",
    "\n",
    "1. Use BeautifulSoup to extract all the html elements that contain the developer names.\n",
    "\n",
    "1. Use string manipulation techniques to replace whitespaces and linebreaks (i.e. `\\n`) in the *text* of each html element. Use a list to store the clean names.\n",
    "\n",
    "1. Print the list of names.\n",
    "\n",
    "Your output should look like below:\n",
    "\n",
    "```\n",
    "['trimstray (@trimstray)',\n",
    " 'joewalnes (JoeWalnes)',\n",
    " 'charlax (Charles-AxelDein)',\n",
    " 'ForrestKnight (ForrestKnight)',\n",
    " 'revery-ui (revery-ui)',\n",
    " 'alibaba (Alibaba)',\n",
    " 'Microsoft (Microsoft)',\n",
    " 'github (GitHub)',\n",
    " 'facebook (Facebook)',\n",
    " 'boazsegev (Bo)',\n",
    " 'google (Google)',\n",
    " 'cloudfetch',\n",
    " 'sindresorhus (SindreSorhus)',\n",
    " 'tensorflow',\n",
    " 'apache (TheApacheSoftwareFoundation)',\n",
    " 'DevonCrawford (DevonCrawford)',\n",
    " 'ARMmbed (ArmMbed)',\n",
    " 'vuejs (vuejs)',\n",
    " 'fastai (fast.ai)',\n",
    " 'QiShaoXuan (Qi)',\n",
    " 'joelparkerhenderson (JoelParkerHenderson)',\n",
    " 'torvalds (LinusTorvalds)',\n",
    " 'CyC2018',\n",
    " 'komeiji-satori (神楽坂覚々)',\n",
    " 'script-8']\n",
    " ```"
   ]
  },
  {
   "cell_type": "code",
   "execution_count": 162,
   "metadata": {},
   "outputs": [
    {
     "name": "stdout",
     "output_type": "stream",
     "text": [
      "['Emmanuel Garcia (blasten)', 'Hugo van Kemenade (hugovk)', 'Darío Kondratiuk (kblok)', 'Megan Marsh (SwampDragons)', 'Minko Gechev (mgechev)', 'William Falcon (williamFalcon)', 'Yoshifumi Kawai (neuecc)', 'Mateusz Burzyński (Andarist)', 'Sam Verschueren (SamVerschueren)', 'Whyrusleeping (whyrusleeping)', 'Holger Rapp (SirVer)', 'Francois Zaninotto (fzaninotto)', 'Dylan Vann (DylanVann)', 'Miek Gieben (miekg)', 'Richard Schneeman (schneems)', 'Alec Thomas (alecthomas)', '陈帅 (chenshuai2144)', 'François Beaufort (beaufortfrancois)', 'Tanner Linsley (tannerlinsley)', 'Erik Wijmans (erikwijmans)', 'Joshua Blum (joshblum)', 'Gabriel Aszalos (gbbr)', 'Rico Sta. Cruz (rstacruz)', 'Solly Ross (DirectXMan12)', 'Vinayak Mehta (vinayak-mehta)']\n"
     ]
    }
   ],
   "source": [
    "developers_list = []\n",
    "i = 1\n",
    "for e in range(25):\n",
    "    developer = soup.find_all('h1')[i]\n",
    "    developer_name = developer.find(\"a\").text\n",
    "    developer_nick = developer.find(\"a\").get('href')\n",
    "    developers_list.append(developer_name)\n",
    "    developers_list.append(developer_nick)\n",
    "    i += 2\n",
    "\n",
    "developers = ''.join(developers_list)\n",
    "developers = re.sub('\\\\n','',developers)\n",
    "developers = re.sub('/',' (',developers)\n",
    "developers = developers.split('            ')[1:]\n",
    "developers = [e+')' for e in developers]\n",
    "print(developers)"
   ]
  },
  {
   "cell_type": "markdown",
   "metadata": {},
   "source": [
    "#### Display the trending Python repositories in GitHub\n",
    "\n",
    "The steps to solve this problem is similar to the previous one except that you need to find out the repository names instead of developer names."
   ]
  },
  {
   "cell_type": "code",
   "execution_count": 163,
   "metadata": {},
   "outputs": [],
   "source": [
    "# This is the url you will scrape in this exercise\n",
    "url = 'https://github.com/trending/python?since=daily'"
   ]
  },
  {
   "cell_type": "code",
   "execution_count": 164,
   "metadata": {},
   "outputs": [],
   "source": [
    "#your code\n",
    "res = requests.get(url)\n",
    "html = res.text\n",
    "soup = BeautifulSoup(html, 'html.parser')"
   ]
  },
  {
   "cell_type": "code",
   "execution_count": 165,
   "metadata": {},
   "outputs": [
    {
     "name": "stdout",
     "output_type": "stream",
     "text": [
      "['deezer/spleeter', 'openai/gpt-2', 'PaddlePaddle/models', '0voice/interview_internal_reference', 'kubernetes-client/python', 'svjan5/GNNs-for-NLP', 'Linzaer/Ultra-Light-Fast-Generic-Face-Detector-1MB', 'huggingface/transformers', 'MalongTech/research-charnet', 'thorn-oss/perception', 'eastlakeside/interpy-zh', 'Azure/azure-cli', 'encode/django-rest-framework', 'wangzheng0822/algo', 'marshmallow-code/marshmallow', 'tensorflow/models', 'momika233/ClamAV_0Day_exploit', 'zihangdai/xlnet', 'sinovation/ZEN', 'shenweichen/DeepCTR', 'google-research/bert', 'geekcomputers/Python', 'facebookresearch/hydra', 'encode/httpx', 'charlesq34/pointnet2']\n"
     ]
    }
   ],
   "source": [
    "repo_list = []\n",
    "for i in range(1,26):\n",
    "    repo = soup.find_all('h1')[i]\n",
    "    repo2 = repo.find(\"a\").text\n",
    "    repo_list.append(repo2)\n",
    "repos = ''.join(repo_list)\n",
    "repos = re.sub('\\\\n','',repos)\n",
    "repos = repos.split('        ')[1:]\n",
    "\n",
    "repos_new = []\n",
    "for e in repos:\n",
    "    aux = re.sub('     ','',e)\n",
    "    aux = re.sub(' ','',e)\n",
    "    repos_new.append(aux)\n",
    "print(repos_new)"
   ]
  },
  {
   "cell_type": "markdown",
   "metadata": {},
   "source": [
    "#### Display all the image links from Walt Disney wikipedia page"
   ]
  },
  {
   "cell_type": "code",
   "execution_count": 2,
   "metadata": {},
   "outputs": [],
   "source": [
    "# This is the url you will scrape in this exercise\n",
    "url = 'https://en.wikipedia.org/wiki/Walt_Disney'"
   ]
  },
  {
   "cell_type": "code",
   "execution_count": 3,
   "metadata": {},
   "outputs": [],
   "source": [
    "#your code\n",
    "res = requests.get(url)\n",
    "html = res.text\n",
    "soup = BeautifulSoup(html, 'html.parser')"
   ]
  },
  {
   "cell_type": "code",
   "execution_count": 10,
   "metadata": {},
   "outputs": [
    {
     "name": "stdout",
     "output_type": "stream",
     "text": [
      "['//upload.wikimedia.org/wikipedia/en/thumb/e/e7/Cscr-featured.svg/20px-Cscr-featured.svg.png', '//upload.wikimedia.org/wikipedia/en/thumb/1/1b/Semi-protection-shackle.svg/20px-Semi-protection-shackle.svg.png', '//upload.wikimedia.org/wikipedia/commons/thumb/d/df/Walt_Disney_1946.JPG/220px-Walt_Disney_1946.JPG', '//upload.wikimedia.org/wikipedia/commons/thumb/8/87/Walt_Disney_1942_signature.svg/150px-Walt_Disney_1942_signature.svg.png', '//upload.wikimedia.org/wikipedia/commons/thumb/c/c4/Walt_Disney_envelope_ca._1921.jpg/220px-Walt_Disney_envelope_ca._1921.jpg', '//upload.wikimedia.org/wikipedia/commons/thumb/4/4d/Newman_Laugh-O-Gram_%281921%29.webm/220px-seek%3D2-Newman_Laugh-O-Gram_%281921%29.webm.jpg', '//upload.wikimedia.org/wikipedia/commons/thumb/0/0d/Trolley_Troubles_poster.jpg/170px-Trolley_Troubles_poster.jpg', '//upload.wikimedia.org/wikipedia/commons/thumb/7/71/Walt_Disney_and_his_cartoon_creation_%22Mickey_Mouse%22_-_National_Board_of_Review_Magazine.jpg/170px-Walt_Disney_and_his_cartoon_creation_%22Mickey_Mouse%22_-_National_Board_of_Review_Magazine.jpg', '//upload.wikimedia.org/wikipedia/en/thumb/4/4e/Steamboat-willie.jpg/170px-Steamboat-willie.jpg', '//upload.wikimedia.org/wikipedia/commons/thumb/5/57/Walt_Disney_1935.jpg/170px-Walt_Disney_1935.jpg', '//upload.wikimedia.org/wikipedia/commons/thumb/c/cd/Walt_Disney_Snow_white_1937_trailer_screenshot_%2813%29.jpg/220px-Walt_Disney_Snow_white_1937_trailer_screenshot_%2813%29.jpg', '//upload.wikimedia.org/wikipedia/commons/thumb/1/15/Disney_drawing_goofy.jpg/170px-Disney_drawing_goofy.jpg', '//upload.wikimedia.org/wikipedia/commons/thumb/1/13/DisneySchiphol1951.jpg/220px-DisneySchiphol1951.jpg', '//upload.wikimedia.org/wikipedia/commons/thumb/8/8c/WaltDisneyplansDisneylandDec1954.jpg/220px-WaltDisneyplansDisneylandDec1954.jpg', '//upload.wikimedia.org/wikipedia/commons/thumb/f/ff/Walt_disney_portrait_right.jpg/170px-Walt_disney_portrait_right.jpg', '//upload.wikimedia.org/wikipedia/commons/thumb/1/1a/Walt_Disney_Grave.JPG/170px-Walt_Disney_Grave.JPG', '//upload.wikimedia.org/wikipedia/commons/thumb/2/2d/Roy_O._Disney_with_Company_at_Press_Conference.jpg/170px-Roy_O._Disney_with_Company_at_Press_Conference.jpg', '//upload.wikimedia.org/wikipedia/commons/thumb/a/a9/Disney_Display_Case.JPG/170px-Disney_Display_Case.JPG', '//upload.wikimedia.org/wikipedia/commons/thumb/6/6c/Disney1968.jpg/170px-Disney1968.jpg', '//upload.wikimedia.org/wikipedia/en/thumb/8/8a/OOjs_UI_icon_edit-ltr-progressive.svg/10px-OOjs_UI_icon_edit-ltr-progressive.svg.png', '//upload.wikimedia.org/wikipedia/commons/thumb/d/da/Animation_disc.svg/30px-Animation_disc.svg.png', '//upload.wikimedia.org/wikipedia/en/thumb/6/69/P_vip.svg/29px-P_vip.svg.png', '//upload.wikimedia.org/wikipedia/commons/thumb/1/1a/Magic_Kingdom_castle.jpg/24px-Magic_Kingdom_castle.jpg', '//upload.wikimedia.org/wikipedia/en/thumb/e/e7/Video-x-generic.svg/30px-Video-x-generic.svg.png', '//upload.wikimedia.org/wikipedia/commons/thumb/a/a3/Flag_of_Los_Angeles_County%2C_California.svg/30px-Flag_of_Los_Angeles_County%2C_California.svg.png', '//upload.wikimedia.org/wikipedia/commons/thumb/8/8c/Blank_television_set.svg/30px-Blank_television_set.svg.png', '//upload.wikimedia.org/wikipedia/en/thumb/a/a4/Flag_of_the_United_States.svg/30px-Flag_of_the_United_States.svg.png', '//upload.wikimedia.org/wikipedia/en/thumb/4/4a/Commons-logo.svg/22px-Commons-logo.svg.png', '//upload.wikimedia.org/wikipedia/commons/thumb/f/fa/Wikiquote-logo.svg/25px-Wikiquote-logo.svg.png', '//upload.wikimedia.org/wikipedia/commons/thumb/f/ff/Wikidata-logo.svg/30px-Wikidata-logo.svg.png', '//upload.wikimedia.org/wikipedia/en/thumb/8/8a/OOjs_UI_icon_edit-ltr-progressive.svg/10px-OOjs_UI_icon_edit-ltr-progressive.svg.png', '//en.wikipedia.org/wiki/Special:CentralAutoLogin/start?type=1x1', '/static/images/wikimedia-button.png', '/static/images/poweredby_mediawiki_88x31.png']\n"
     ]
    }
   ],
   "source": [
    "links_list = []\n",
    "images = soup.find_all(\"img\")\n",
    "for e in images:\n",
    "    links_list.append(e.get('src'))\n",
    "print(links_list)"
   ]
  },
  {
   "cell_type": "code",
   "execution_count": 12,
   "metadata": {},
   "outputs": [
    {
     "data": {
      "text/html": [
       "<img src=\"//upload.wikimedia.org/wikipedia/commons/thumb/d/df/Walt_Disney_1946.JPG/220px-Walt_Disney_1946.JPG\"/>"
      ],
      "text/plain": [
       "<IPython.core.display.Image object>"
      ]
     },
     "metadata": {},
     "output_type": "display_data"
    },
    {
     "data": {
      "text/html": [
       "<img src=\"//upload.wikimedia.org/wikipedia/commons/thumb/8/87/Walt_Disney_1942_signature.svg/150px-Walt_Disney_1942_signature.svg.png\"/>"
      ],
      "text/plain": [
       "<IPython.core.display.Image object>"
      ]
     },
     "metadata": {},
     "output_type": "display_data"
    },
    {
     "data": {
      "text/html": [
       "<img src=\"//upload.wikimedia.org/wikipedia/commons/thumb/c/c4/Walt_Disney_envelope_ca._1921.jpg/220px-Walt_Disney_envelope_ca._1921.jpg\"/>"
      ],
      "text/plain": [
       "<IPython.core.display.Image object>"
      ]
     },
     "metadata": {},
     "output_type": "display_data"
    }
   ],
   "source": [
    "from IPython.display import Image\n",
    "from IPython.core.display import HTML\n",
    "for e in links_list[2:5]: # imprimo sólo algunas por no abusar... :P\n",
    "    display(Image(url=e))"
   ]
  },
  {
   "cell_type": "markdown",
   "metadata": {},
   "source": [
    "#### Retrieve an arbitary Wikipedia page of \"Python\" and create a list of links on that page"
   ]
  },
  {
   "cell_type": "code",
   "execution_count": 87,
   "metadata": {},
   "outputs": [],
   "source": [
    "# This is the url you will scrape in this exercise\n",
    "url ='https://en.wikipedia.org/wiki/Python' "
   ]
  },
  {
   "cell_type": "code",
   "execution_count": 88,
   "metadata": {},
   "outputs": [],
   "source": [
    "#your code\n",
    "res = requests.get(url)\n",
    "html = res.text\n",
    "soup = BeautifulSoup(html, 'html.parser')"
   ]
  },
  {
   "cell_type": "code",
   "execution_count": 89,
   "metadata": {},
   "outputs": [
    {
     "name": "stdout",
     "output_type": "stream",
     "text": [
      "Links http:\n",
      "['https://en.wiktionary.org/wiki/Python', 'https://en.wiktionary.org/wiki/python', 'https://en.wikipedia.org/w/index.php?title=Special:WhatLinksHere/Python&namespace=0', 'https://en.wikipedia.org/w/index.php?title=Python&oldid=924004650', 'https://donate.wikimedia.org/wiki/Special:FundraiserRedirector?utm_source=donate&utm_medium=sidebar&utm_campaign=C13_en.wikipedia.org&uselang=en', 'https://www.wikidata.org/wiki/Special:EntityPage/Q747452', 'https://commons.wikimedia.org/wiki/Category:Python', 'https://af.wikipedia.org/wiki/Python', 'https://als.wikipedia.org/wiki/Python', 'https://az.wikipedia.org/wiki/Python', 'https://bn.wikipedia.org/wiki/%E0%A6%AA%E0%A6%BE%E0%A6%87%E0%A6%A5%E0%A6%A8_(%E0%A6%A6%E0%A7%8D%E0%A6%AC%E0%A7%8D%E0%A6%AF%E0%A6%B0%E0%A7%8D%E0%A6%A5%E0%A6%A4%E0%A6%BE_%E0%A6%A8%E0%A6%BF%E0%A6%B0%E0%A6%B8%E0%A6%A8)', 'https://be.wikipedia.org/wiki/Python', 'https://bg.wikipedia.org/wiki/%D0%9F%D0%B8%D1%82%D0%BE%D0%BD_(%D0%BF%D0%BE%D1%8F%D1%81%D0%BD%D0%B5%D0%BD%D0%B8%D0%B5)', 'https://cs.wikipedia.org/wiki/Python_(rozcestn%C3%ADk)', 'https://da.wikipedia.org/wiki/Python', 'https://de.wikipedia.org/wiki/Python', 'https://eo.wikipedia.org/wiki/Pitono_(apartigilo)', 'https://eu.wikipedia.org/wiki/Python_(argipena)', 'https://fa.wikipedia.org/wiki/%D9%BE%D8%A7%DB%8C%D8%AA%D9%88%D9%86', 'https://fr.wikipedia.org/wiki/Python', 'https://ko.wikipedia.org/wiki/%ED%8C%8C%EC%9D%B4%EC%84%A0', 'https://hr.wikipedia.org/wiki/Python_(razdvojba)', 'https://io.wikipedia.org/wiki/Pitono', 'https://id.wikipedia.org/wiki/Python', 'https://ia.wikipedia.org/wiki/Python_(disambiguation)', 'https://is.wikipedia.org/wiki/Python_(a%C3%B0greining)', 'https://it.wikipedia.org/wiki/Python_(disambigua)', 'https://he.wikipedia.org/wiki/%D7%A4%D7%99%D7%AA%D7%95%D7%9F', 'https://ka.wikipedia.org/wiki/%E1%83%9E%E1%83%98%E1%83%97%E1%83%9D%E1%83%9C%E1%83%98_(%E1%83%9B%E1%83%A0%E1%83%90%E1%83%95%E1%83%90%E1%83%9A%E1%83%9B%E1%83%9C%E1%83%98%E1%83%A8%E1%83%95%E1%83%9C%E1%83%94%E1%83%9A%E1%83%9D%E1%83%95%E1%83%90%E1%83%9C%E1%83%98)', 'https://kg.wikipedia.org/wiki/Mboma_(nyoka)', 'https://la.wikipedia.org/wiki/Python_(discretiva)', 'https://lb.wikipedia.org/wiki/Python', 'https://hu.wikipedia.org/wiki/Python_(egy%C3%A9rtelm%C5%B1s%C3%ADt%C5%91_lap)', 'https://mr.wikipedia.org/wiki/%E0%A4%AA%E0%A4%BE%E0%A4%AF%E0%A4%A5%E0%A5%89%E0%A4%A8_(%E0%A4%86%E0%A4%9C%E0%A5%8D%E0%A4%9E%E0%A4%BE%E0%A4%B5%E0%A4%B2%E0%A5%80_%E0%A4%AD%E0%A4%BE%E0%A4%B7%E0%A4%BE)', 'https://nl.wikipedia.org/wiki/Python', 'https://ja.wikipedia.org/wiki/%E3%83%91%E3%82%A4%E3%82%BD%E3%83%B3', 'https://no.wikipedia.org/wiki/Pyton', 'https://pl.wikipedia.org/wiki/Pyton', 'https://pt.wikipedia.org/wiki/Python_(desambigua%C3%A7%C3%A3o)', 'https://ru.wikipedia.org/wiki/Python_(%D0%B7%D0%BD%D0%B0%D1%87%D0%B5%D0%BD%D0%B8%D1%8F)', 'https://sd.wikipedia.org/wiki/%D8%A7%D8%B1%DA%99', 'https://sk.wikipedia.org/wiki/Python', 'https://sr.wikipedia.org/wiki/%D0%9F%D0%B8%D1%82%D0%BE%D0%BD_(%D0%B2%D0%B8%D1%88%D0%B5%D0%B7%D0%BD%D0%B0%D1%87%D0%BD%D0%B0_%D0%BE%D0%B4%D1%80%D0%B5%D0%B4%D0%BD%D0%B8%D1%86%D0%B0)', 'https://sh.wikipedia.org/wiki/Python', 'https://fi.wikipedia.org/wiki/Python', 'https://sv.wikipedia.org/wiki/Pyton', 'https://th.wikipedia.org/wiki/%E0%B9%84%E0%B8%9E%E0%B8%97%E0%B8%AD%E0%B8%99', 'https://tr.wikipedia.org/wiki/Python', 'https://uk.wikipedia.org/wiki/%D0%9F%D1%96%D1%84%D0%BE%D0%BD', 'https://ur.wikipedia.org/wiki/%D9%BE%D8%A7%D8%A6%DB%8C%D8%AA%DA%BE%D9%88%D9%86', 'https://vi.wikipedia.org/wiki/Python', 'https://zh.wikipedia.org/wiki/Python_(%E6%B6%88%E6%AD%A7%E4%B9%89)', 'https://www.wikidata.org/wiki/Special:EntityPage/Q747452#sitelinks-wikipedia', 'https://foundation.wikimedia.org/wiki/Privacy_policy', 'https://www.mediawiki.org/wiki/Special:MyLanguage/How_to_contribute', 'https://foundation.wikimedia.org/wiki/Cookie_statement', 'https://wikimediafoundation.org/', 'https://www.mediawiki.org/']\n",
      "\n",
      "Links wikipedia:\n",
      "['/w/index.php?title=Python&action=edit&section=1', '/wiki/Pythonidae', '/wiki/Python_(genus)', '/w/index.php?title=Python&action=edit&section=2', '/wiki/Python_(mythology)', '/wiki/Python_of_Aenus', '/wiki/Python_(painter)', '/wiki/Python_of_Byzantium', '/wiki/Python_of_Catana', '/w/index.php?title=Python&action=edit&section=3', '/wiki/Python_(film)', '/wiki/Pythons_2', '/wiki/Monty_Python', '/wiki/Python_(Monty)_Pictures', '/w/index.php?title=Python&action=edit&section=4', '/wiki/Python_(programming_language)', '/wiki/CPython', '/wiki/CMU_Common_Lisp', '/wiki/PERQ#PERQ_3', '/w/index.php?title=Python&action=edit&section=5', '/w/index.php?title=Python&action=edit&section=6', '/wiki/Python_(Busch_Gardens_Tampa_Bay)', '/wiki/Python_(Coney_Island,_Cincinnati,_Ohio)', '/wiki/Python_(Efteling)', '/w/index.php?title=Python&action=edit&section=7', '/wiki/Python_(automobile_maker)', '/wiki/Python_(Ford_prototype)', '/w/index.php?title=Python&action=edit&section=8', '/wiki/Colt_Python', '/wiki/Python_(missile)', '/wiki/Python_(nuclear_primary)', '/w/index.php?title=Python&action=edit&section=9', '/wiki/Python_Anghelo', '/w/index.php?title=Python&action=edit&section=10', '/wiki/PYTHON', '/w/index.php?title=Python&action=edit&section=11', '/wiki/Cython', '/wiki/Pyton', '/wiki/File:Disambig_gray.svg', '/wiki/Help:Disambiguation', '/wiki/Help:Category', '/wiki/Category:Disambiguation_pages', '/wiki/Category:Disambiguation_pages_with_short_description', '/wiki/Category:All_article_disambiguation_pages', '/wiki/Category:All_disambiguation_pages', '/wiki/Category:Animal_common_name_disambiguation_pages', '/wiki/Special:MyTalk', '/wiki/Special:MyContributions', '/w/index.php?title=Special:CreateAccount&returnto=Python', '/w/index.php?title=Special:UserLogin&returnto=Python', '/wiki/Python', '/wiki/Talk:Python', '/wiki/Python', '/w/index.php?title=Python&action=edit', '/w/index.php?title=Python&action=history', '/wiki/Main_Page', '/wiki/Main_Page', '/wiki/Portal:Contents', '/wiki/Portal:Featured_content', '/wiki/Portal:Current_events', '/wiki/Special:Random', '//shop.wikimedia.org', '/wiki/Help:Contents', '/wiki/Wikipedia:About', '/wiki/Wikipedia:Community_portal', '/wiki/Special:RecentChanges', '//en.wikipedia.org/wiki/Wikipedia:Contact_us', '/wiki/Special:WhatLinksHere/Python', '/wiki/Special:RecentChangesLinked/Python', '/wiki/Wikipedia:File_Upload_Wizard', '/wiki/Special:SpecialPages', '/w/index.php?title=Python&oldid=924004650', '/w/index.php?title=Python&action=info', '/w/index.php?title=Special:CiteThisPage&page=Python&id=924004650', '/w/index.php?title=Special:Book&bookcmd=book_creator&referer=Python', '/w/index.php?title=Special:ElectronPdf&page=Python&action=show-download-screen', '/w/index.php?title=Python&printable=yes', '//en.wikipedia.org/wiki/Wikipedia:Text_of_Creative_Commons_Attribution-ShareAlike_3.0_Unported_License', '//creativecommons.org/licenses/by-sa/3.0/', '//foundation.wikimedia.org/wiki/Terms_of_Use', '//foundation.wikimedia.org/wiki/Privacy_policy', '//www.wikimediafoundation.org/', '/wiki/Wikipedia:About', '/wiki/Wikipedia:General_disclaimer', '//en.wikipedia.org/wiki/Wikipedia:Contact_us', '//en.m.wikipedia.org/w/index.php?title=Python&mobileaction=toggle_view_mobile']\n"
     ]
    }
   ],
   "source": [
    "links_list = []\n",
    "links = soup.find_all('a')\n",
    "for e in links:\n",
    "    links_list.append(e.get('href'))\n",
    "links_list = links_list[1:]\n",
    "# print(links_list)\n",
    "\n",
    "print('Links http:')\n",
    "links_http = []\n",
    "for e in links_list:\n",
    "    if e[:4] == 'http':\n",
    "        links_http.append(e)\n",
    "print(links_http)\n",
    "\n",
    "print('\\nLinks wikipedia:')\n",
    "links_wikipedia = []\n",
    "for e in links_list:\n",
    "    if e[0] == '/':\n",
    "        links_wikipedia.append(e)\n",
    "print(links_wikipedia)"
   ]
  },
  {
   "cell_type": "markdown",
   "metadata": {},
   "source": [
    "#### Number of Titles that have changed in the United States Code since its last release point "
   ]
  },
  {
   "cell_type": "code",
   "execution_count": 90,
   "metadata": {},
   "outputs": [],
   "source": [
    "# This is the url you will scrape in this exercise\n",
    "url = 'http://uscode.house.gov/download/download.shtml'"
   ]
  },
  {
   "cell_type": "code",
   "execution_count": 91,
   "metadata": {},
   "outputs": [],
   "source": [
    "#your code\n",
    "res = requests.get(url)\n",
    "html = res.text\n",
    "soup = BeautifulSoup(html, 'html.parser')"
   ]
  },
  {
   "cell_type": "code",
   "execution_count": 92,
   "metadata": {},
   "outputs": [
    {
     "name": "stdout",
     "output_type": "stream",
     "text": [
      "2 titles have been changed since the last release point.\n",
      "\n",
      "Titles:\n",
      "['Title 6 - Domestic Security', 'Title 31 - Money and Finance']\n"
     ]
    }
   ],
   "source": [
    "# Titles in bold have been changed since the last release point.\n",
    "\n",
    "titles_changed = soup.select('.usctitlechanged')\n",
    "# print(titles_changed)\n",
    "\n",
    "print(len(titles_changed),'titles have been changed since the last release point.') # 2\n",
    "\n",
    "print('\\nTitles:')\n",
    "titles_changed_list = []\n",
    "for e in titles_changed:\n",
    "    title = e.text\n",
    "    title = re.sub('\\\\n','',title)\n",
    "    title = re.sub('          ','',title)\n",
    "    title = re.sub('        ','',title)\n",
    "    title = re.sub(' ٭','',title)\n",
    "    titles_changed_list.append(title)\n",
    "print(titles_changed_list)"
   ]
  },
  {
   "cell_type": "markdown",
   "metadata": {},
   "source": [
    "#### A Python list with the top ten FBI's Most Wanted names "
   ]
  },
  {
   "cell_type": "code",
   "execution_count": 97,
   "metadata": {},
   "outputs": [],
   "source": [
    "# This is the url you will scrape in this exercise\n",
    "url = 'https://www.fbi.gov/wanted/topten'"
   ]
  },
  {
   "cell_type": "code",
   "execution_count": 98,
   "metadata": {},
   "outputs": [],
   "source": [
    "#your code\n",
    "res = requests.get(url)\n",
    "html = res.text\n",
    "soup = BeautifulSoup(html, 'html.parser')"
   ]
  },
  {
   "cell_type": "code",
   "execution_count": 106,
   "metadata": {},
   "outputs": [
    {
     "name": "stdout",
     "output_type": "stream",
     "text": [
      "['Jason Derek Brown', 'Alexis Flores', 'Eugene Palmer', 'Santiago Villalba Mederos', 'Rafael Caro-Quintero', 'Robert William Fisher', 'Bhadreshkumar Chetanbhai Patel', 'Arnoldo Jimenez', 'Alejandro Rosales Castillo', 'Yaser Abdel Said']\n"
     ]
    }
   ],
   "source": [
    "names_FBI_list = []\n",
    "names_FBI = soup.find_all('h3')\n",
    "for e in names_FBI:\n",
    "    name = e.text\n",
    "    name = re.sub('\\n','',name)\n",
    "    name = name.title()\n",
    "    names_FBI_list.append(name)\n",
    "print(names_FBI_list)\n"
   ]
  },
  {
   "cell_type": "markdown",
   "metadata": {},
   "source": [
    "####  20 latest earthquakes info (date, time, latitude, longitude and region name) by the EMSC as a pandas dataframe"
   ]
  },
  {
   "cell_type": "code",
   "execution_count": 2,
   "metadata": {},
   "outputs": [],
   "source": [
    "# This is the url you will scrape in this exercise\n",
    "url = 'https://www.emsc-csem.org/Earthquake/'"
   ]
  },
  {
   "cell_type": "code",
   "execution_count": 3,
   "metadata": {},
   "outputs": [],
   "source": [
    "#your code\n",
    "res = requests.get(url)\n",
    "html = res.text\n",
    "soup = BeautifulSoup(html, 'html.parser')"
   ]
  },
  {
   "cell_type": "code",
   "execution_count": 41,
   "metadata": {},
   "outputs": [
    {
     "name": "stdout",
     "output_type": "stream",
     "text": [
      "['2019-11-07', '2019-11-07', '2019-11-07', '2019-11-07', '2019-11-07', '2019-11-07', '2019-11-07', '2019-11-07', '2019-11-07', '2019-11-07', '2019-11-07', '2019-11-07', '2019-11-07', '2019-11-07', '2019-11-07', '2019-11-07', '2019-11-07', '2019-11-07', '2019-11-07', '2019-11-07']\n",
      "\n",
      " ['17:52:17.6', '17:47:53.2', '17:35:21.7', '17:18:00.0', '16:50:25.0', '16:24:29.1', '15:40:53.7', '15:40:09.0', '15:14:49.0', '15:08:11.6', '15:01:10.8', '14:54:15.5', '14:52:50.5', '14:37:54.3', '14:36:33.3', '14:33:33.7', '14:33:33.0', '14:21:48.6', '13:34:38.1', '13:30:57.8']\n"
     ]
    }
   ],
   "source": [
    "table = soup.find_all('tr')\n",
    "len(table) # 67\n",
    "\n",
    "# Date and time:\n",
    "date_time = soup.find_all('b')\n",
    "date_time_list = [e.text for e in date_time]\n",
    "date_time_list = [re.sub('earthquake','',e) for e in date_time_list]\n",
    "date_time_list = date_time_list[:20] # 20 latest earthquakes\n",
    "\n",
    "date_time_list_new = []\n",
    "for e in date_time_list:\n",
    "    date_time_list_new.append(e.split('\\xa0\\xa0\\xa0'))\n",
    "\n",
    "date = [e[0] for e in date_time_list_new]\n",
    "time = [e[1] for e in date_time_list_new]\n",
    "\n",
    "print(date)\n",
    "print('\\n',time)"
   ]
  },
  {
   "cell_type": "code",
   "execution_count": 69,
   "metadata": {},
   "outputs": [
    {
     "name": "stdout",
     "output_type": "stream",
     "text": [
      "['34.27', '41.77', '41.78', '12.41', '31.78', '39.14', '43.93', '31.37', '21.65', '42.72', '42.73', '34.27', '34.27', '19.12', '27.15', '34.28', '19.80', '3.98', '59.02', '34.27']\n",
      "\n",
      " ['119.29', '13.61', '13.61', '77.18', '71.30', '20.61', '11.59', '68.55', '68.63', '13.23', '13.25', '119.29', '119.29', '67.24', '55.04', '119.29', '69.83', '104.01', '152.18', '119.30']\n"
     ]
    }
   ],
   "source": [
    "# Latitude & Longitude:\n",
    "lat_long = soup.select('.tabev1')\n",
    "lat_long_list = [re.sub('td class=\"tabev1\">','',e.text) for e in lat_long]\n",
    "lat_long_list_2 = [re.sub('\\xa0','',e) for e in lat_long_list]\n",
    "lat_long_list_2\n",
    "lat_list = lat_long_list_2[::2]\n",
    "long_list = lat_long_list_2[1::2]\n",
    "lat_list = lat_list[:20]\n",
    "long_list = long_list[:20]\n",
    "print(lat_list)\n",
    "print('\\n',long_list)"
   ]
  },
  {
   "cell_type": "code",
   "execution_count": 56,
   "metadata": {},
   "outputs": [
    {
     "name": "stdout",
     "output_type": "stream",
     "text": [
      "['Santa Barbara Channel, Calif.', 'Southern Italy', 'Southern Italy', 'Near Coast Of Central Peru', 'Coquimbo, Chile', 'Greece', 'Central Italy', 'San Juan, Argentina', 'Antofagasta, Chile', 'Central Italy', 'Central Italy', 'Santa Barbara Channel, Calif.', 'Santa Barbara Channel, Calif.', 'Puerto Rico Region', 'Southern Iran', 'Greater Los Angeles Area, Calif.', 'Dominican Republic Region', 'Central East Pacific Rise', 'Southern Alaska', 'Santa Barbara Channel, Calif.']\n"
     ]
    }
   ],
   "source": [
    "# Region name\n",
    "region = soup.select('.tb_region')\n",
    "region_list = [re.sub('\\\\xa0','',e.text).title() for e in region]\n",
    "region_list = region_list[:20]\n",
    "print(region_list)"
   ]
  },
  {
   "cell_type": "code",
   "execution_count": 70,
   "metadata": {},
   "outputs": [],
   "source": [
    "# Empty dataframe:\n",
    "df = pd.DataFrame({'date':[0]*20,'time':[0]*20,'latitude':[0]*20,'longitude':[0]*20,'region':[0]*20})\n",
    "# display(df)"
   ]
  },
  {
   "cell_type": "code",
   "execution_count": 71,
   "metadata": {},
   "outputs": [],
   "source": [
    "df['date'] = date\n",
    "df['time'] = time\n",
    "df['region'] = region_list\n",
    "df['latitude'] = lat_list\n",
    "df['longitude'] = long_list"
   ]
  },
  {
   "cell_type": "code",
   "execution_count": 72,
   "metadata": {},
   "outputs": [
    {
     "data": {
      "text/html": [
       "<div>\n",
       "<style scoped>\n",
       "    .dataframe tbody tr th:only-of-type {\n",
       "        vertical-align: middle;\n",
       "    }\n",
       "\n",
       "    .dataframe tbody tr th {\n",
       "        vertical-align: top;\n",
       "    }\n",
       "\n",
       "    .dataframe thead th {\n",
       "        text-align: right;\n",
       "    }\n",
       "</style>\n",
       "<table border=\"1\" class=\"dataframe\">\n",
       "  <thead>\n",
       "    <tr style=\"text-align: right;\">\n",
       "      <th></th>\n",
       "      <th>date</th>\n",
       "      <th>time</th>\n",
       "      <th>latitude</th>\n",
       "      <th>longitude</th>\n",
       "      <th>region</th>\n",
       "    </tr>\n",
       "  </thead>\n",
       "  <tbody>\n",
       "    <tr>\n",
       "      <th>0</th>\n",
       "      <td>2019-11-07</td>\n",
       "      <td>17:52:17.6</td>\n",
       "      <td>34.27</td>\n",
       "      <td>119.29</td>\n",
       "      <td>Santa Barbara Channel, Calif.</td>\n",
       "    </tr>\n",
       "    <tr>\n",
       "      <th>1</th>\n",
       "      <td>2019-11-07</td>\n",
       "      <td>17:47:53.2</td>\n",
       "      <td>41.77</td>\n",
       "      <td>13.61</td>\n",
       "      <td>Southern Italy</td>\n",
       "    </tr>\n",
       "    <tr>\n",
       "      <th>2</th>\n",
       "      <td>2019-11-07</td>\n",
       "      <td>17:35:21.7</td>\n",
       "      <td>41.78</td>\n",
       "      <td>13.61</td>\n",
       "      <td>Southern Italy</td>\n",
       "    </tr>\n",
       "    <tr>\n",
       "      <th>3</th>\n",
       "      <td>2019-11-07</td>\n",
       "      <td>17:18:00.0</td>\n",
       "      <td>12.41</td>\n",
       "      <td>77.18</td>\n",
       "      <td>Near Coast Of Central Peru</td>\n",
       "    </tr>\n",
       "    <tr>\n",
       "      <th>4</th>\n",
       "      <td>2019-11-07</td>\n",
       "      <td>16:50:25.0</td>\n",
       "      <td>31.78</td>\n",
       "      <td>71.30</td>\n",
       "      <td>Coquimbo, Chile</td>\n",
       "    </tr>\n",
       "    <tr>\n",
       "      <th>5</th>\n",
       "      <td>2019-11-07</td>\n",
       "      <td>16:24:29.1</td>\n",
       "      <td>39.14</td>\n",
       "      <td>20.61</td>\n",
       "      <td>Greece</td>\n",
       "    </tr>\n",
       "    <tr>\n",
       "      <th>6</th>\n",
       "      <td>2019-11-07</td>\n",
       "      <td>15:40:53.7</td>\n",
       "      <td>43.93</td>\n",
       "      <td>11.59</td>\n",
       "      <td>Central Italy</td>\n",
       "    </tr>\n",
       "    <tr>\n",
       "      <th>7</th>\n",
       "      <td>2019-11-07</td>\n",
       "      <td>15:40:09.0</td>\n",
       "      <td>31.37</td>\n",
       "      <td>68.55</td>\n",
       "      <td>San Juan, Argentina</td>\n",
       "    </tr>\n",
       "    <tr>\n",
       "      <th>8</th>\n",
       "      <td>2019-11-07</td>\n",
       "      <td>15:14:49.0</td>\n",
       "      <td>21.65</td>\n",
       "      <td>68.63</td>\n",
       "      <td>Antofagasta, Chile</td>\n",
       "    </tr>\n",
       "    <tr>\n",
       "      <th>9</th>\n",
       "      <td>2019-11-07</td>\n",
       "      <td>15:08:11.6</td>\n",
       "      <td>42.72</td>\n",
       "      <td>13.23</td>\n",
       "      <td>Central Italy</td>\n",
       "    </tr>\n",
       "    <tr>\n",
       "      <th>10</th>\n",
       "      <td>2019-11-07</td>\n",
       "      <td>15:01:10.8</td>\n",
       "      <td>42.73</td>\n",
       "      <td>13.25</td>\n",
       "      <td>Central Italy</td>\n",
       "    </tr>\n",
       "    <tr>\n",
       "      <th>11</th>\n",
       "      <td>2019-11-07</td>\n",
       "      <td>14:54:15.5</td>\n",
       "      <td>34.27</td>\n",
       "      <td>119.29</td>\n",
       "      <td>Santa Barbara Channel, Calif.</td>\n",
       "    </tr>\n",
       "    <tr>\n",
       "      <th>12</th>\n",
       "      <td>2019-11-07</td>\n",
       "      <td>14:52:50.5</td>\n",
       "      <td>34.27</td>\n",
       "      <td>119.29</td>\n",
       "      <td>Santa Barbara Channel, Calif.</td>\n",
       "    </tr>\n",
       "    <tr>\n",
       "      <th>13</th>\n",
       "      <td>2019-11-07</td>\n",
       "      <td>14:37:54.3</td>\n",
       "      <td>19.12</td>\n",
       "      <td>67.24</td>\n",
       "      <td>Puerto Rico Region</td>\n",
       "    </tr>\n",
       "    <tr>\n",
       "      <th>14</th>\n",
       "      <td>2019-11-07</td>\n",
       "      <td>14:36:33.3</td>\n",
       "      <td>27.15</td>\n",
       "      <td>55.04</td>\n",
       "      <td>Southern Iran</td>\n",
       "    </tr>\n",
       "    <tr>\n",
       "      <th>15</th>\n",
       "      <td>2019-11-07</td>\n",
       "      <td>14:33:33.7</td>\n",
       "      <td>34.28</td>\n",
       "      <td>119.29</td>\n",
       "      <td>Greater Los Angeles Area, Calif.</td>\n",
       "    </tr>\n",
       "    <tr>\n",
       "      <th>16</th>\n",
       "      <td>2019-11-07</td>\n",
       "      <td>14:33:33.0</td>\n",
       "      <td>19.80</td>\n",
       "      <td>69.83</td>\n",
       "      <td>Dominican Republic Region</td>\n",
       "    </tr>\n",
       "    <tr>\n",
       "      <th>17</th>\n",
       "      <td>2019-11-07</td>\n",
       "      <td>14:21:48.6</td>\n",
       "      <td>3.98</td>\n",
       "      <td>104.01</td>\n",
       "      <td>Central East Pacific Rise</td>\n",
       "    </tr>\n",
       "    <tr>\n",
       "      <th>18</th>\n",
       "      <td>2019-11-07</td>\n",
       "      <td>13:34:38.1</td>\n",
       "      <td>59.02</td>\n",
       "      <td>152.18</td>\n",
       "      <td>Southern Alaska</td>\n",
       "    </tr>\n",
       "    <tr>\n",
       "      <th>19</th>\n",
       "      <td>2019-11-07</td>\n",
       "      <td>13:30:57.8</td>\n",
       "      <td>34.27</td>\n",
       "      <td>119.30</td>\n",
       "      <td>Santa Barbara Channel, Calif.</td>\n",
       "    </tr>\n",
       "  </tbody>\n",
       "</table>\n",
       "</div>"
      ],
      "text/plain": [
       "          date        time latitude longitude  \\\n",
       "0   2019-11-07  17:52:17.6    34.27    119.29   \n",
       "1   2019-11-07  17:47:53.2    41.77     13.61   \n",
       "2   2019-11-07  17:35:21.7    41.78     13.61   \n",
       "3   2019-11-07  17:18:00.0    12.41     77.18   \n",
       "4   2019-11-07  16:50:25.0    31.78     71.30   \n",
       "5   2019-11-07  16:24:29.1    39.14     20.61   \n",
       "6   2019-11-07  15:40:53.7    43.93     11.59   \n",
       "7   2019-11-07  15:40:09.0    31.37     68.55   \n",
       "8   2019-11-07  15:14:49.0    21.65     68.63   \n",
       "9   2019-11-07  15:08:11.6    42.72     13.23   \n",
       "10  2019-11-07  15:01:10.8    42.73     13.25   \n",
       "11  2019-11-07  14:54:15.5    34.27    119.29   \n",
       "12  2019-11-07  14:52:50.5    34.27    119.29   \n",
       "13  2019-11-07  14:37:54.3    19.12     67.24   \n",
       "14  2019-11-07  14:36:33.3    27.15     55.04   \n",
       "15  2019-11-07  14:33:33.7    34.28    119.29   \n",
       "16  2019-11-07  14:33:33.0    19.80     69.83   \n",
       "17  2019-11-07  14:21:48.6     3.98    104.01   \n",
       "18  2019-11-07  13:34:38.1    59.02    152.18   \n",
       "19  2019-11-07  13:30:57.8    34.27    119.30   \n",
       "\n",
       "                              region  \n",
       "0      Santa Barbara Channel, Calif.  \n",
       "1                     Southern Italy  \n",
       "2                     Southern Italy  \n",
       "3         Near Coast Of Central Peru  \n",
       "4                    Coquimbo, Chile  \n",
       "5                             Greece  \n",
       "6                      Central Italy  \n",
       "7                San Juan, Argentina  \n",
       "8                 Antofagasta, Chile  \n",
       "9                      Central Italy  \n",
       "10                     Central Italy  \n",
       "11     Santa Barbara Channel, Calif.  \n",
       "12     Santa Barbara Channel, Calif.  \n",
       "13                Puerto Rico Region  \n",
       "14                     Southern Iran  \n",
       "15  Greater Los Angeles Area, Calif.  \n",
       "16         Dominican Republic Region  \n",
       "17         Central East Pacific Rise  \n",
       "18                   Southern Alaska  \n",
       "19     Santa Barbara Channel, Calif.  "
      ]
     },
     "metadata": {},
     "output_type": "display_data"
    }
   ],
   "source": [
    "display(df)"
   ]
  },
  {
   "cell_type": "markdown",
   "metadata": {},
   "source": [
    "#### Display the date, days, title, city, country of next 25 hackathon events as a Pandas dataframe table"
   ]
  },
  {
   "cell_type": "code",
   "execution_count": 2,
   "metadata": {},
   "outputs": [],
   "source": [
    "# This is the url you will scrape in this exercise\n",
    "url ='https://hackevents.co/hackathons'"
   ]
  },
  {
   "cell_type": "code",
   "execution_count": 3,
   "metadata": {},
   "outputs": [],
   "source": [
    "#your code\n",
    "res = requests.get(url)\n",
    "html = res.text\n",
    "soup = BeautifulSoup(html, 'html.parser')\n",
    "\n",
    "# Sólo aparece un evento y no podemos acceder a sus datos."
   ]
  },
  {
   "cell_type": "markdown",
   "metadata": {},
   "source": [
    "#### Count number of tweets by a given Twitter account."
   ]
  },
  {
   "cell_type": "markdown",
   "metadata": {},
   "source": [
    "You will need to include a ***try/except block*** for account names not found. \n",
    "<br>***Hint:*** the program should count the number of tweets for any provided account"
   ]
  },
  {
   "cell_type": "code",
   "execution_count": 30,
   "metadata": {},
   "outputs": [],
   "source": [
    "# This is the url you will scrape in this exercise \n",
    "# You will need to add the account credentials to this url\n",
    "\n",
    "# try: # 'Correct account name!'\n",
    "# except: # \"Account name not found\"\n",
    "# No me funciona el try/except... No consigo que lance la excepción.\n",
    "\n",
    "account_name = 'abuelo19801'\n",
    "url = 'https://twitter.com/{}'.format(account_name)\n",
    "res = requests.get(url)\n",
    "html = res.text\n",
    "soup = BeautifulSoup(html, 'html.parser')"
   ]
  },
  {
   "cell_type": "code",
   "execution_count": 46,
   "metadata": {},
   "outputs": [
    {
     "name": "stdout",
     "output_type": "stream",
     "text": [
      "The account abuelo19801 has 2.594 tweets.\n"
     ]
    }
   ],
   "source": [
    "tweets = soup.select('.ProfileNav-value')[0].text\n",
    "tweets = re.sub('\\n','',tweets)\n",
    "tweets = re.sub('            ','',tweets)\n",
    "print('The account {} has {} tweets.'.format(account_name,tweets))"
   ]
  },
  {
   "cell_type": "markdown",
   "metadata": {},
   "source": [
    "#### Number of followers of a given twitter account"
   ]
  },
  {
   "cell_type": "markdown",
   "metadata": {},
   "source": [
    "You will need to include a ***try/except block*** in case account/s name not found. \n",
    "<br>***Hint:*** the program should count the followers for any provided account"
   ]
  },
  {
   "cell_type": "code",
   "execution_count": 41,
   "metadata": {},
   "outputs": [],
   "source": [
    "# This is the url you will scrape in this exercise \n",
    "# You will need to add the account credentials to this url\n",
    "\n",
    "# Try/Except!!\n",
    "\n",
    "account_name = 'abuelo19801'\n",
    "url = 'https://twitter.com/{}'.format(account_name)\n",
    "res = requests.get(url)\n",
    "html = res.text\n",
    "soup = BeautifulSoup(html, 'html.parser')"
   ]
  },
  {
   "cell_type": "code",
   "execution_count": 45,
   "metadata": {},
   "outputs": [
    {
     "name": "stdout",
     "output_type": "stream",
     "text": [
      "The account abuelo19801 has 196 followers.\n"
     ]
    }
   ],
   "source": [
    "#your code\n",
    "followers = soup.select('.ProfileNav-value')[2].text\n",
    "print('The account {} has {} followers.'.format(account_name,followers))"
   ]
  },
  {
   "cell_type": "markdown",
   "metadata": {},
   "source": [
    "#### List all language names and number of related articles in the order they appear in wikipedia.org"
   ]
  },
  {
   "cell_type": "code",
   "execution_count": 74,
   "metadata": {},
   "outputs": [],
   "source": [
    "# This is the url you will scrape in this exercise\n",
    "url = 'https://www.wikipedia.org/'"
   ]
  },
  {
   "cell_type": "code",
   "execution_count": 75,
   "metadata": {},
   "outputs": [],
   "source": [
    "#your code\n",
    "res = requests.get(url)\n",
    "html = res.text\n",
    "soup = BeautifulSoup(html, 'html.parser')"
   ]
  },
  {
   "cell_type": "code",
   "execution_count": 76,
   "metadata": {},
   "outputs": [
    {
     "name": "stdout",
     "output_type": "stream",
     "text": [
      "['English', 'EspaÃ±ol', 'æ\\x97¥æ\\x9c¬èª\\x9e', 'Deutsch', 'Ð\\xa0Ñ\\x83Ñ\\x81Ñ\\x81ÐºÐ¸Ð¹', 'FranÃ§ais', 'Italiano', 'ä¸\\xadæ\\x96\\x87', 'PortuguÃªs', 'Polski']\n"
     ]
    }
   ],
   "source": [
    "language = soup.select('strong')[1:11]\n",
    "language = [e.text for e in language]\n",
    "print(language)\n",
    "\n",
    "# (language[2].encode())\n",
    "# .decode('utf-8')\n",
    "\n",
    "# No consigo codificarlo bien..."
   ]
  },
  {
   "cell_type": "code",
   "execution_count": 94,
   "metadata": {},
   "outputs": [
    {
     "name": "stdout",
     "output_type": "stream",
     "text": [
      "[5964000, 1554000, 1175000, 2361000, 1576000, 2152000, 1562000, 1080000, 1014000, 1367000]\n"
     ]
    }
   ],
   "source": [
    "articles = soup.select('bdi')[0:10]\n",
    "articles = [str(e) for e in articles]\n",
    "articles = [re.sub('<bdi dir=\"ltr\">','',e) for e in articles]\n",
    "articles = [re.sub('\\+</bdi>','',e) for e in articles] \n",
    "articles = [re.sub('\\xa0','',e) for e in articles]\n",
    "articles = [int(e) for e in articles]\n",
    "print(articles)"
   ]
  },
  {
   "cell_type": "markdown",
   "metadata": {},
   "source": [
    "#### A list with the different kind of datasets available in data.gov.uk "
   ]
  },
  {
   "cell_type": "code",
   "execution_count": 95,
   "metadata": {},
   "outputs": [],
   "source": [
    "# This is the url you will scrape in this exercise\n",
    "url = 'https://data.gov.uk/'"
   ]
  },
  {
   "cell_type": "code",
   "execution_count": 96,
   "metadata": {},
   "outputs": [],
   "source": [
    "#your code\n",
    "res = requests.get(url)\n",
    "html = res.text\n",
    "soup = BeautifulSoup(html, 'html.parser')"
   ]
  },
  {
   "cell_type": "code",
   "execution_count": 99,
   "metadata": {},
   "outputs": [
    {
     "name": "stdout",
     "output_type": "stream",
     "text": [
      "['Business and economy', 'Crime and justice', 'Defence', 'Education', 'Environment', 'Government', 'Government spending', 'Health', 'Mapping', 'Society', 'Towns and cities', 'Transport']\n"
     ]
    }
   ],
   "source": [
    "datasets = soup.find_all('h2')\n",
    "datasets_list = [e.text for e in datasets]\n",
    "print(datasets_list)"
   ]
  },
  {
   "cell_type": "markdown",
   "metadata": {},
   "source": [
    "#### Top 10 languages by number of native speakers stored in a Pandas Dataframe"
   ]
  },
  {
   "cell_type": "code",
   "execution_count": 100,
   "metadata": {},
   "outputs": [],
   "source": [
    "# This is the url you will scrape in this exercise\n",
    "url = 'https://en.wikipedia.org/wiki/List_of_languages_by_number_of_native_speakers'"
   ]
  },
  {
   "cell_type": "code",
   "execution_count": 101,
   "metadata": {},
   "outputs": [],
   "source": [
    "#your code\n",
    "res = requests.get(url)\n",
    "html = res.text\n",
    "soup = BeautifulSoup(html, 'html.parser')"
   ]
  },
  {
   "cell_type": "code",
   "execution_count": 116,
   "metadata": {},
   "outputs": [
    {
     "name": "stdout",
     "output_type": "stream",
     "text": [
      "[{'languages': 'Mandarin', 'native_speakers': '918'}, {'languages': 'Spanish', 'native_speakers': '480'}, {'languages': 'English', 'native_speakers': '379'}, {'languages': 'Hindi', 'native_speakers': '341'}, {'languages': 'Bengali', 'native_speakers': '228'}, {'languages': 'Portuguese', 'native_speakers': '221'}, {'languages': 'Russian', 'native_speakers': '154'}, {'languages': 'Japanese', 'native_speakers': '128'}, {'languages': 'Western Punjabi', 'native_speakers': '92.7'}, {'languages': 'Marathi', 'native_speakers': '83.1'}]\n"
     ]
    }
   ],
   "source": [
    "table = soup.find_all('tbody')[0]\n",
    "filas = table.find_all('tr')[1:]\n",
    "\n",
    "lista = []\n",
    "for fila in filas:\n",
    "    celdas = fila.find_all('td')\n",
    "    diccionario = {\n",
    "        \"languages\": celdas[1].find('a').text,\n",
    "        \"native_speakers\": re.sub('\\n','',celdas[4].text),\n",
    "    }\n",
    "    lista.append(diccionario)\n",
    "\n",
    "top10 = lista[0:10]\n",
    "print(top10)"
   ]
  },
  {
   "cell_type": "code",
   "execution_count": 125,
   "metadata": {},
   "outputs": [
    {
     "data": {
      "text/html": [
       "<div>\n",
       "<style scoped>\n",
       "    .dataframe tbody tr th:only-of-type {\n",
       "        vertical-align: middle;\n",
       "    }\n",
       "\n",
       "    .dataframe tbody tr th {\n",
       "        vertical-align: top;\n",
       "    }\n",
       "\n",
       "    .dataframe thead th {\n",
       "        text-align: right;\n",
       "    }\n",
       "</style>\n",
       "<table border=\"1\" class=\"dataframe\">\n",
       "  <thead>\n",
       "    <tr style=\"text-align: right;\">\n",
       "      <th></th>\n",
       "      <th>languages</th>\n",
       "      <th>native_speakers</th>\n",
       "    </tr>\n",
       "  </thead>\n",
       "  <tbody>\n",
       "    <tr>\n",
       "      <th>0</th>\n",
       "      <td>Mandarin</td>\n",
       "      <td>918</td>\n",
       "    </tr>\n",
       "    <tr>\n",
       "      <th>1</th>\n",
       "      <td>Spanish</td>\n",
       "      <td>480</td>\n",
       "    </tr>\n",
       "    <tr>\n",
       "      <th>2</th>\n",
       "      <td>English</td>\n",
       "      <td>379</td>\n",
       "    </tr>\n",
       "    <tr>\n",
       "      <th>3</th>\n",
       "      <td>Hindi</td>\n",
       "      <td>341</td>\n",
       "    </tr>\n",
       "    <tr>\n",
       "      <th>4</th>\n",
       "      <td>Bengali</td>\n",
       "      <td>228</td>\n",
       "    </tr>\n",
       "    <tr>\n",
       "      <th>5</th>\n",
       "      <td>Portuguese</td>\n",
       "      <td>221</td>\n",
       "    </tr>\n",
       "    <tr>\n",
       "      <th>6</th>\n",
       "      <td>Russian</td>\n",
       "      <td>154</td>\n",
       "    </tr>\n",
       "    <tr>\n",
       "      <th>7</th>\n",
       "      <td>Japanese</td>\n",
       "      <td>128</td>\n",
       "    </tr>\n",
       "    <tr>\n",
       "      <th>8</th>\n",
       "      <td>Western Punjabi</td>\n",
       "      <td>92.7</td>\n",
       "    </tr>\n",
       "    <tr>\n",
       "      <th>9</th>\n",
       "      <td>Marathi</td>\n",
       "      <td>83.1</td>\n",
       "    </tr>\n",
       "  </tbody>\n",
       "</table>\n",
       "</div>"
      ],
      "text/plain": [
       "         languages native_speakers\n",
       "0         Mandarin             918\n",
       "1          Spanish             480\n",
       "2          English             379\n",
       "3            Hindi             341\n",
       "4          Bengali             228\n",
       "5       Portuguese             221\n",
       "6          Russian             154\n",
       "7         Japanese             128\n",
       "8  Western Punjabi            92.7\n",
       "9          Marathi            83.1"
      ]
     },
     "metadata": {},
     "output_type": "display_data"
    }
   ],
   "source": [
    "df = pd.DataFrame(top10)\n",
    "display(df)"
   ]
  },
  {
   "cell_type": "markdown",
   "metadata": {},
   "source": [
    "### BONUS QUESTIONS"
   ]
  },
  {
   "cell_type": "markdown",
   "metadata": {},
   "source": [
    "#### Scrape a certain number of tweets of a given Twitter account."
   ]
  },
  {
   "cell_type": "code",
   "execution_count": null,
   "metadata": {},
   "outputs": [],
   "source": [
    "# This is the url you will scrape in this exercise \n",
    "# You will need to add the account credentials to this url\n",
    "url = 'https://twitter.com/'"
   ]
  },
  {
   "cell_type": "code",
   "execution_count": null,
   "metadata": {},
   "outputs": [],
   "source": [
    "# your code"
   ]
  },
  {
   "cell_type": "markdown",
   "metadata": {},
   "source": [
    "#### IMDB's Top 250 data (movie name, Initial release, director name and stars) as a pandas dataframe"
   ]
  },
  {
   "cell_type": "code",
   "execution_count": null,
   "metadata": {},
   "outputs": [],
   "source": [
    "# This is the url you will scrape in this exercise \n",
    "url = 'https://www.imdb.com/chart/top'"
   ]
  },
  {
   "cell_type": "code",
   "execution_count": null,
   "metadata": {},
   "outputs": [],
   "source": [
    "# your code"
   ]
  },
  {
   "cell_type": "markdown",
   "metadata": {},
   "source": [
    "#### Movie name, year and a brief summary of the top 10 random movies (IMDB) as a pandas dataframe."
   ]
  },
  {
   "cell_type": "code",
   "execution_count": null,
   "metadata": {},
   "outputs": [],
   "source": [
    "#This is the url you will scrape in this exercise\n",
    "url = 'http://www.imdb.com/chart/top'"
   ]
  },
  {
   "cell_type": "code",
   "execution_count": null,
   "metadata": {},
   "outputs": [],
   "source": [
    "#your code"
   ]
  },
  {
   "cell_type": "markdown",
   "metadata": {},
   "source": [
    "#### Find the live weather report (temperature, wind speed, description and weather) of a given city."
   ]
  },
  {
   "cell_type": "code",
   "execution_count": null,
   "metadata": {},
   "outputs": [],
   "source": [
    "#https://openweathermap.org/current\n",
    "city = city=input('Enter the city:')\n",
    "url = 'http://api.openweathermap.org/data/2.5/weather?'+'q='+city+'&APPID=b35975e18dc93725acb092f7272cc6b8&units=metric'"
   ]
  },
  {
   "cell_type": "code",
   "execution_count": null,
   "metadata": {},
   "outputs": [],
   "source": [
    "# your code"
   ]
  },
  {
   "cell_type": "markdown",
   "metadata": {},
   "source": [
    "#### Book name,price and stock availability as a pandas dataframe."
   ]
  },
  {
   "cell_type": "code",
   "execution_count": null,
   "metadata": {},
   "outputs": [],
   "source": [
    "# This is the url you will scrape in this exercise. \n",
    "# It is a fictional bookstore created to be scraped. \n",
    "url = 'http://books.toscrape.com/'"
   ]
  },
  {
   "cell_type": "code",
   "execution_count": null,
   "metadata": {},
   "outputs": [],
   "source": [
    "#your code"
   ]
  }
 ],
 "metadata": {
  "kernelspec": {
   "display_name": "Python 3",
   "language": "python",
   "name": "python3"
  },
  "language_info": {
   "codemirror_mode": {
    "name": "ipython",
    "version": 3
   },
   "file_extension": ".py",
   "mimetype": "text/x-python",
   "name": "python",
   "nbconvert_exporter": "python",
   "pygments_lexer": "ipython3",
   "version": "3.7.3"
  }
 },
 "nbformat": 4,
 "nbformat_minor": 2
}
